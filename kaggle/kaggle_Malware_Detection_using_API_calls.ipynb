{
  "nbformat": 4,
  "nbformat_minor": 0,
  "metadata": {
    "colab": {
      "provenance": [],
      "toc_visible": true,
      "authorship_tag": "ABX9TyMvQiTEtptn+Hec99Wj88tG",
      "include_colab_link": true
    },
    "kernelspec": {
      "name": "python3",
      "display_name": "Python 3"
    },
    "language_info": {
      "name": "python"
    }
  },
  "cells": [
    {
      "cell_type": "markdown",
      "metadata": {
        "id": "view-in-github",
        "colab_type": "text"
      },
      "source": [
        "<a href=\"https://colab.research.google.com/github/dyjs-js/DaconStudy/blob/main/kaggle/kaggle_Malware_Detection_using_API_calls.ipynb\" target=\"_parent\"><img src=\"https://colab.research.google.com/assets/colab-badge.svg\" alt=\"Open In Colab\"/></a>"
      ]
    },
    {
      "cell_type": "code",
      "execution_count": null,
      "metadata": {
        "id": "ekU3S6AKI42-"
      },
      "outputs": [],
      "source": []
    },
    {
      "cell_type": "code",
      "source": [
        "from google.colab import drive\n",
        "drive.mount('/content/gdrive')\n",
        "%cd '/content/gdrive/My Drive/dkudata2/.kaggle'\n",
        "!ls"
      ],
      "metadata": {
        "colab": {
          "base_uri": "https://localhost:8080/"
        },
        "id": "0by0EdHaJFSO",
        "outputId": "6b7f363f-e11f-4296-c1bf-35de4da0e174"
      },
      "execution_count": null,
      "outputs": [
        {
          "output_type": "stream",
          "name": "stdout",
          "text": [
            "Drive already mounted at /content/gdrive; to attempt to forcibly remount, call drive.mount(\"/content/gdrive\", force_remount=True).\n",
            "/content/gdrive/My Drive/dkudata2/.kaggle\n",
            "dynamic_api_call_sequence_per_malware_100_0_306.csv\n",
            "kaggle.json\n",
            "malware-analysis-datasets-api-call-sequences.zip\n",
            "malware-analysis-datasets-pe-section-headers.zip\n",
            "pe_section_headers.csv\n"
          ]
        }
      ]
    },
    {
      "cell_type": "code",
      "source": [
        "# 내 kaggle 토근의 위치 설정\n",
        "import os\n",
        "os.environ['KAGGLE_CONFIG_DIR']=\"/content/gdrive/My Drive/dkudata2/.kaggle/\"\n",
        "\n",
        "!ls -l '/content/gdrive/My Drive/dkudata2/.kaggle'"
      ],
      "metadata": {
        "colab": {
          "base_uri": "https://localhost:8080/"
        },
        "id": "F19vatvuK8es",
        "outputId": "1b4e0781-c83f-4682-fe10-3c3d45ce8f54"
      },
      "execution_count": null,
      "outputs": [
        {
          "output_type": "stream",
          "name": "stdout",
          "text": [
            "total 23905\n",
            "-rw------- 1 root root 17949131 Oct 24  2019 dynamic_api_call_sequence_per_malware_100_0_306.csv\n",
            "-rw------- 1 root root       67 Nov 23 07:54 kaggle.json\n",
            "-rw------- 1 root root  2117473 Nov 23 11:11 malware-analysis-datasets-api-call-sequences.zip\n",
            "-rw------- 1 root root  1307424 Nov 23 07:54 malware-analysis-datasets-pe-section-headers.zip\n",
            "-rw------- 1 root root  3102951 Aug 14  2019 pe_section_headers.csv\n"
          ]
        }
      ]
    },
    {
      "cell_type": "code",
      "source": [
        "!kaggle datasets list"
      ],
      "metadata": {
        "colab": {
          "base_uri": "https://localhost:8080/"
        },
        "id": "WDi1ArwcLEo3",
        "outputId": "732f50d3-6a62-47c8-e1be-3530d5438895"
      },
      "execution_count": null,
      "outputs": [
        {
          "output_type": "stream",
          "name": "stdout",
          "text": [
            "ref                                                         title                                                size  lastUpdated          downloadCount  voteCount  usabilityRating  \n",
            "----------------------------------------------------------  --------------------------------------------------  -----  -------------------  -------------  ---------  ---------------  \n",
            "akshaydattatraykhare/diabetes-dataset                       Diabetes Dataset                                      9KB  2022-10-06 08:55:25          17060        492  1.0              \n",
            "akshaydattatraykhare/data-for-admission-in-the-university   Data for Admission in the University                  4KB  2022-10-27 11:05:45           4531        109  1.0              \n",
            "thedevastator/jobs-dataset-from-glassdoor                   Salary Prediction                                     3MB  2022-11-16 13:52:31           1045         32  1.0              \n",
            "swaptr/layoffs-2022                                         Layoffs 2022                                         30KB  2022-11-23 12:54:15           1473         43  1.0              \n",
            "meirnizri/covid19-dataset                                   COVID-19 Dataset                                      5MB  2022-11-13 15:47:17           1600         46  1.0              \n",
            "piterfm/fifa-football-world-cup                             FIFA Football World Cup                              69KB  2022-11-23 12:09:24            723         33  1.0              \n",
            "dheerajmukati/india-gdp-19602022                            India GDP 1960-2022                                   1KB  2022-11-11 12:08:46            781         26  1.0              \n",
            "whenamancodes/predict-diabities                             Predict Diabetes                                      9KB  2022-11-09 12:18:49           2202         50  1.0              \n",
            "elmoallistair/fertility-rate-19602020                       Fertility Rate (1960-2020)                           19KB  2022-11-17 01:31:16            584         28  0.9117647        \n",
            "zvr842/global-pollution-by-counties                         Global pollution by counties                         15KB  2022-11-14 10:57:31            826         26  0.9705882        \n",
            "whenamancodes/credit-card-customers-prediction              Credit Card Customers Prediction                    379KB  2022-10-30 13:03:27           2990         64  1.0              \n",
            "whenamancodes/covid-19-coronavirus-pandemic-dataset         COVID -19 Coronavirus Pandemic Dataset               11KB  2022-09-30 04:05:11          12113        376  1.0              \n",
            "jillanisofttech/flight-price-prediction-dataset             Flight Price Prediction DataSet                     602KB  2022-11-18 10:37:29            842         28  0.7941176        \n",
            "ifteshanajnin/carinsuranceclaimprediction-classification    Car Insurance Claim Prediction                        2MB  2022-11-14 15:38:26            739         25  1.0              \n",
            "dbarteaux99/stable-diffusion-1-5                            Stable Diffusion 1.5 (normal and EMAonly) with vae    7GB  2022-10-23 15:40:29             46         16  0.9375           \n",
            "maharshipandya/-spotify-tracks-dataset                      🎹 Spotify Tracks Dataset                              8MB  2022-10-22 14:40:15           3769        105  1.0              \n",
            "aneesayoub/world-universities-ranking-2022                  World Universities Ranking 2022                      41KB  2022-11-17 03:47:37           1305         33  0.9117647        \n",
            "hasibalmuzdadid/global-air-pollution-dataset                Global Air Pollution Dataset                        371KB  2022-11-08 14:43:32           2187         60  1.0              \n",
            "thedevastator/cancer-patients-and-air-pollution-a-new-link   Lung Cancer Prediction                               7KB  2022-11-14 13:40:40           1052         36  1.0              \n",
            "salmankhaliq22/road-traffic-collision-dataset               UK Road Traffic Collision Dataset                    99MB  2022-11-09 06:46:16            627         32  1.0              \n"
          ]
        }
      ]
    },
    {
      "cell_type": "code",
      "source": [
        "#We will use the malware analysis: API Call Sequences dataset\n",
        "!kaggle datasets list -s ang3loliveira/malware-analysis-datasets-api-call-sequences"
      ],
      "metadata": {
        "colab": {
          "base_uri": "https://localhost:8080/"
        },
        "id": "gV98PAXtLJgC",
        "outputId": "e22e3c19-a0ca-4dfd-dc82-6d055be57676"
      },
      "execution_count": null,
      "outputs": [
        {
          "output_type": "stream",
          "name": "stdout",
          "text": [
            "ref                                                         title                                          size  lastUpdated          downloadCount  voteCount  usabilityRating  \n",
            "----------------------------------------------------------  ---------------------------------------------  ----  -------------------  -------------  ---------  ---------------  \n",
            "ang3loliveira/malware-analysis-datasets-api-call-sequences  Malware Analysis Datasets: API Call Sequences   2MB  2019-10-24 02:01:43           1207         21  0.7058824        \n"
          ]
        }
      ]
    },
    {
      "cell_type": "code",
      "source": [
        "#Download & Unzip the dataset\n",
        "!kaggle datasets download -d ang3loliveira/malware-analysis-datasets-api-call-sequences\n",
        "!unzip malware-analysis-datasets-api-call-sequences.zip"
      ],
      "metadata": {
        "colab": {
          "base_uri": "https://localhost:8080/"
        },
        "id": "sRLMDOnRLMAT",
        "outputId": "49671028-590f-4e8d-9ee4-23b5a30b9d2e"
      },
      "execution_count": null,
      "outputs": [
        {
          "output_type": "stream",
          "name": "stdout",
          "text": [
            "malware-analysis-datasets-api-call-sequences.zip: Skipping, found more recently modified local copy (use --force to force download)\n",
            "Archive:  malware-analysis-datasets-api-call-sequences.zip\n",
            "replace dynamic_api_call_sequence_per_malware_100_0_306.csv? [y]es, [n]o, [A]ll, [N]one, [r]ename: "
          ]
        }
      ]
    },
    {
      "cell_type": "code",
      "source": [
        "import pandas as pd\n",
        "dataset = pd.read_csv(\"./dynamic_api_call_sequence_per_malware_100_0_306.csv\")\n",
        "dataset"
      ],
      "metadata": {
        "colab": {
          "base_uri": "https://localhost:8080/",
          "height": 424
        },
        "id": "kQk0h_bCL6JP",
        "outputId": "6341825a-3b5c-4d99-8c3e-0441d125772f"
      },
      "execution_count": null,
      "outputs": [
        {
          "output_type": "execute_result",
          "data": {
            "text/plain": [
              "                                   hash  t_0  t_1  t_2  t_3  t_4  t_5  t_6  \\\n",
              "0      071e8c3f8922e186e57548cd4c703a5d  112  274  158  215  274  158  215   \n",
              "1      33f8e6d08a6aae939f25a8e0d63dd523   82  208  187  208  172  117  172   \n",
              "2      b68abd064e975e1c6d5f25e748663076   16  110  240  117  240  117  240   \n",
              "3      72049be7bd30ea61297ea624ae198067   82  208  187  208  172  117  172   \n",
              "4      c9b3700a77facf29172f32df6bc77f48   82  240  117  240  117  240  117   \n",
              "...                                 ...  ...  ...  ...  ...  ...  ...  ...   \n",
              "43871  e3d6d58faa040f0f9742c9d0eaf58be4   82  240  117  240  117  240  117   \n",
              "43872  9b917bab7f32188ae40c744f2be9aaf8   82  240  117  240  117  240  117   \n",
              "43873  35a18ee05f75f04912018d9f462cb990   82  240  117  240  117  240  117   \n",
              "43874  654139d715abcf7ecdddbef5a84f224b   82  240  117  240  117  240  117   \n",
              "43875  078c9d4e7be4819a06974c6f292a4857  112  274  158  215  274  158  215   \n",
              "\n",
              "       t_7  t_8  ...  t_91  t_92  t_93  t_94  t_95  t_96  t_97  t_98  t_99  \\\n",
              "0      298   76  ...    71   297   135   171   215    35   208    56    71   \n",
              "1      117  172  ...    81   240   117    71   297   135   171   215    35   \n",
              "2      117  240  ...    65   112   123    65   112   123    65   113   112   \n",
              "3      117  172  ...   208   302   208   302   187   208   302   228   302   \n",
              "4      240  117  ...   209   260    40   209   260   141   260   141   260   \n",
              "...    ...  ...  ...   ...   ...   ...   ...   ...   ...   ...   ...   ...   \n",
              "43871  240  117  ...   141   260   141   260   141   260   141   260   141   \n",
              "43872  240  117  ...   159   224    82   159   224    82   159   224    82   \n",
              "43873  240  117  ...   260   141   260   141   260   141   260   141   260   \n",
              "43874  240  117  ...   141   260   141   260   141   260   141   260   141   \n",
              "43875  298   76  ...    71   297   135   171   215    35   208    56    71   \n",
              "\n",
              "       malware  \n",
              "0            1  \n",
              "1            1  \n",
              "2            1  \n",
              "3            1  \n",
              "4            1  \n",
              "...        ...  \n",
              "43871        1  \n",
              "43872        1  \n",
              "43873        1  \n",
              "43874        1  \n",
              "43875        1  \n",
              "\n",
              "[43876 rows x 102 columns]"
            ],
            "text/html": [
              "\n",
              "  <div id=\"df-90d27c40-9122-4b7a-ac66-7071b2d14ab4\">\n",
              "    <div class=\"colab-df-container\">\n",
              "      <div>\n",
              "<style scoped>\n",
              "    .dataframe tbody tr th:only-of-type {\n",
              "        vertical-align: middle;\n",
              "    }\n",
              "\n",
              "    .dataframe tbody tr th {\n",
              "        vertical-align: top;\n",
              "    }\n",
              "\n",
              "    .dataframe thead th {\n",
              "        text-align: right;\n",
              "    }\n",
              "</style>\n",
              "<table border=\"1\" class=\"dataframe\">\n",
              "  <thead>\n",
              "    <tr style=\"text-align: right;\">\n",
              "      <th></th>\n",
              "      <th>hash</th>\n",
              "      <th>t_0</th>\n",
              "      <th>t_1</th>\n",
              "      <th>t_2</th>\n",
              "      <th>t_3</th>\n",
              "      <th>t_4</th>\n",
              "      <th>t_5</th>\n",
              "      <th>t_6</th>\n",
              "      <th>t_7</th>\n",
              "      <th>t_8</th>\n",
              "      <th>...</th>\n",
              "      <th>t_91</th>\n",
              "      <th>t_92</th>\n",
              "      <th>t_93</th>\n",
              "      <th>t_94</th>\n",
              "      <th>t_95</th>\n",
              "      <th>t_96</th>\n",
              "      <th>t_97</th>\n",
              "      <th>t_98</th>\n",
              "      <th>t_99</th>\n",
              "      <th>malware</th>\n",
              "    </tr>\n",
              "  </thead>\n",
              "  <tbody>\n",
              "    <tr>\n",
              "      <th>0</th>\n",
              "      <td>071e8c3f8922e186e57548cd4c703a5d</td>\n",
              "      <td>112</td>\n",
              "      <td>274</td>\n",
              "      <td>158</td>\n",
              "      <td>215</td>\n",
              "      <td>274</td>\n",
              "      <td>158</td>\n",
              "      <td>215</td>\n",
              "      <td>298</td>\n",
              "      <td>76</td>\n",
              "      <td>...</td>\n",
              "      <td>71</td>\n",
              "      <td>297</td>\n",
              "      <td>135</td>\n",
              "      <td>171</td>\n",
              "      <td>215</td>\n",
              "      <td>35</td>\n",
              "      <td>208</td>\n",
              "      <td>56</td>\n",
              "      <td>71</td>\n",
              "      <td>1</td>\n",
              "    </tr>\n",
              "    <tr>\n",
              "      <th>1</th>\n",
              "      <td>33f8e6d08a6aae939f25a8e0d63dd523</td>\n",
              "      <td>82</td>\n",
              "      <td>208</td>\n",
              "      <td>187</td>\n",
              "      <td>208</td>\n",
              "      <td>172</td>\n",
              "      <td>117</td>\n",
              "      <td>172</td>\n",
              "      <td>117</td>\n",
              "      <td>172</td>\n",
              "      <td>...</td>\n",
              "      <td>81</td>\n",
              "      <td>240</td>\n",
              "      <td>117</td>\n",
              "      <td>71</td>\n",
              "      <td>297</td>\n",
              "      <td>135</td>\n",
              "      <td>171</td>\n",
              "      <td>215</td>\n",
              "      <td>35</td>\n",
              "      <td>1</td>\n",
              "    </tr>\n",
              "    <tr>\n",
              "      <th>2</th>\n",
              "      <td>b68abd064e975e1c6d5f25e748663076</td>\n",
              "      <td>16</td>\n",
              "      <td>110</td>\n",
              "      <td>240</td>\n",
              "      <td>117</td>\n",
              "      <td>240</td>\n",
              "      <td>117</td>\n",
              "      <td>240</td>\n",
              "      <td>117</td>\n",
              "      <td>240</td>\n",
              "      <td>...</td>\n",
              "      <td>65</td>\n",
              "      <td>112</td>\n",
              "      <td>123</td>\n",
              "      <td>65</td>\n",
              "      <td>112</td>\n",
              "      <td>123</td>\n",
              "      <td>65</td>\n",
              "      <td>113</td>\n",
              "      <td>112</td>\n",
              "      <td>1</td>\n",
              "    </tr>\n",
              "    <tr>\n",
              "      <th>3</th>\n",
              "      <td>72049be7bd30ea61297ea624ae198067</td>\n",
              "      <td>82</td>\n",
              "      <td>208</td>\n",
              "      <td>187</td>\n",
              "      <td>208</td>\n",
              "      <td>172</td>\n",
              "      <td>117</td>\n",
              "      <td>172</td>\n",
              "      <td>117</td>\n",
              "      <td>172</td>\n",
              "      <td>...</td>\n",
              "      <td>208</td>\n",
              "      <td>302</td>\n",
              "      <td>208</td>\n",
              "      <td>302</td>\n",
              "      <td>187</td>\n",
              "      <td>208</td>\n",
              "      <td>302</td>\n",
              "      <td>228</td>\n",
              "      <td>302</td>\n",
              "      <td>1</td>\n",
              "    </tr>\n",
              "    <tr>\n",
              "      <th>4</th>\n",
              "      <td>c9b3700a77facf29172f32df6bc77f48</td>\n",
              "      <td>82</td>\n",
              "      <td>240</td>\n",
              "      <td>117</td>\n",
              "      <td>240</td>\n",
              "      <td>117</td>\n",
              "      <td>240</td>\n",
              "      <td>117</td>\n",
              "      <td>240</td>\n",
              "      <td>117</td>\n",
              "      <td>...</td>\n",
              "      <td>209</td>\n",
              "      <td>260</td>\n",
              "      <td>40</td>\n",
              "      <td>209</td>\n",
              "      <td>260</td>\n",
              "      <td>141</td>\n",
              "      <td>260</td>\n",
              "      <td>141</td>\n",
              "      <td>260</td>\n",
              "      <td>1</td>\n",
              "    </tr>\n",
              "    <tr>\n",
              "      <th>...</th>\n",
              "      <td>...</td>\n",
              "      <td>...</td>\n",
              "      <td>...</td>\n",
              "      <td>...</td>\n",
              "      <td>...</td>\n",
              "      <td>...</td>\n",
              "      <td>...</td>\n",
              "      <td>...</td>\n",
              "      <td>...</td>\n",
              "      <td>...</td>\n",
              "      <td>...</td>\n",
              "      <td>...</td>\n",
              "      <td>...</td>\n",
              "      <td>...</td>\n",
              "      <td>...</td>\n",
              "      <td>...</td>\n",
              "      <td>...</td>\n",
              "      <td>...</td>\n",
              "      <td>...</td>\n",
              "      <td>...</td>\n",
              "      <td>...</td>\n",
              "    </tr>\n",
              "    <tr>\n",
              "      <th>43871</th>\n",
              "      <td>e3d6d58faa040f0f9742c9d0eaf58be4</td>\n",
              "      <td>82</td>\n",
              "      <td>240</td>\n",
              "      <td>117</td>\n",
              "      <td>240</td>\n",
              "      <td>117</td>\n",
              "      <td>240</td>\n",
              "      <td>117</td>\n",
              "      <td>240</td>\n",
              "      <td>117</td>\n",
              "      <td>...</td>\n",
              "      <td>141</td>\n",
              "      <td>260</td>\n",
              "      <td>141</td>\n",
              "      <td>260</td>\n",
              "      <td>141</td>\n",
              "      <td>260</td>\n",
              "      <td>141</td>\n",
              "      <td>260</td>\n",
              "      <td>141</td>\n",
              "      <td>1</td>\n",
              "    </tr>\n",
              "    <tr>\n",
              "      <th>43872</th>\n",
              "      <td>9b917bab7f32188ae40c744f2be9aaf8</td>\n",
              "      <td>82</td>\n",
              "      <td>240</td>\n",
              "      <td>117</td>\n",
              "      <td>240</td>\n",
              "      <td>117</td>\n",
              "      <td>240</td>\n",
              "      <td>117</td>\n",
              "      <td>240</td>\n",
              "      <td>117</td>\n",
              "      <td>...</td>\n",
              "      <td>159</td>\n",
              "      <td>224</td>\n",
              "      <td>82</td>\n",
              "      <td>159</td>\n",
              "      <td>224</td>\n",
              "      <td>82</td>\n",
              "      <td>159</td>\n",
              "      <td>224</td>\n",
              "      <td>82</td>\n",
              "      <td>1</td>\n",
              "    </tr>\n",
              "    <tr>\n",
              "      <th>43873</th>\n",
              "      <td>35a18ee05f75f04912018d9f462cb990</td>\n",
              "      <td>82</td>\n",
              "      <td>240</td>\n",
              "      <td>117</td>\n",
              "      <td>240</td>\n",
              "      <td>117</td>\n",
              "      <td>240</td>\n",
              "      <td>117</td>\n",
              "      <td>240</td>\n",
              "      <td>117</td>\n",
              "      <td>...</td>\n",
              "      <td>260</td>\n",
              "      <td>141</td>\n",
              "      <td>260</td>\n",
              "      <td>141</td>\n",
              "      <td>260</td>\n",
              "      <td>141</td>\n",
              "      <td>260</td>\n",
              "      <td>141</td>\n",
              "      <td>260</td>\n",
              "      <td>1</td>\n",
              "    </tr>\n",
              "    <tr>\n",
              "      <th>43874</th>\n",
              "      <td>654139d715abcf7ecdddbef5a84f224b</td>\n",
              "      <td>82</td>\n",
              "      <td>240</td>\n",
              "      <td>117</td>\n",
              "      <td>240</td>\n",
              "      <td>117</td>\n",
              "      <td>240</td>\n",
              "      <td>117</td>\n",
              "      <td>240</td>\n",
              "      <td>117</td>\n",
              "      <td>...</td>\n",
              "      <td>141</td>\n",
              "      <td>260</td>\n",
              "      <td>141</td>\n",
              "      <td>260</td>\n",
              "      <td>141</td>\n",
              "      <td>260</td>\n",
              "      <td>141</td>\n",
              "      <td>260</td>\n",
              "      <td>141</td>\n",
              "      <td>1</td>\n",
              "    </tr>\n",
              "    <tr>\n",
              "      <th>43875</th>\n",
              "      <td>078c9d4e7be4819a06974c6f292a4857</td>\n",
              "      <td>112</td>\n",
              "      <td>274</td>\n",
              "      <td>158</td>\n",
              "      <td>215</td>\n",
              "      <td>274</td>\n",
              "      <td>158</td>\n",
              "      <td>215</td>\n",
              "      <td>298</td>\n",
              "      <td>76</td>\n",
              "      <td>...</td>\n",
              "      <td>71</td>\n",
              "      <td>297</td>\n",
              "      <td>135</td>\n",
              "      <td>171</td>\n",
              "      <td>215</td>\n",
              "      <td>35</td>\n",
              "      <td>208</td>\n",
              "      <td>56</td>\n",
              "      <td>71</td>\n",
              "      <td>1</td>\n",
              "    </tr>\n",
              "  </tbody>\n",
              "</table>\n",
              "<p>43876 rows × 102 columns</p>\n",
              "</div>\n",
              "      <button class=\"colab-df-convert\" onclick=\"convertToInteractive('df-90d27c40-9122-4b7a-ac66-7071b2d14ab4')\"\n",
              "              title=\"Convert this dataframe to an interactive table.\"\n",
              "              style=\"display:none;\">\n",
              "        \n",
              "  <svg xmlns=\"http://www.w3.org/2000/svg\" height=\"24px\"viewBox=\"0 0 24 24\"\n",
              "       width=\"24px\">\n",
              "    <path d=\"M0 0h24v24H0V0z\" fill=\"none\"/>\n",
              "    <path d=\"M18.56 5.44l.94 2.06.94-2.06 2.06-.94-2.06-.94-.94-2.06-.94 2.06-2.06.94zm-11 1L8.5 8.5l.94-2.06 2.06-.94-2.06-.94L8.5 2.5l-.94 2.06-2.06.94zm10 10l.94 2.06.94-2.06 2.06-.94-2.06-.94-.94-2.06-.94 2.06-2.06.94z\"/><path d=\"M17.41 7.96l-1.37-1.37c-.4-.4-.92-.59-1.43-.59-.52 0-1.04.2-1.43.59L10.3 9.45l-7.72 7.72c-.78.78-.78 2.05 0 2.83L4 21.41c.39.39.9.59 1.41.59.51 0 1.02-.2 1.41-.59l7.78-7.78 2.81-2.81c.8-.78.8-2.07 0-2.86zM5.41 20L4 18.59l7.72-7.72 1.47 1.35L5.41 20z\"/>\n",
              "  </svg>\n",
              "      </button>\n",
              "      \n",
              "  <style>\n",
              "    .colab-df-container {\n",
              "      display:flex;\n",
              "      flex-wrap:wrap;\n",
              "      gap: 12px;\n",
              "    }\n",
              "\n",
              "    .colab-df-convert {\n",
              "      background-color: #E8F0FE;\n",
              "      border: none;\n",
              "      border-radius: 50%;\n",
              "      cursor: pointer;\n",
              "      display: none;\n",
              "      fill: #1967D2;\n",
              "      height: 32px;\n",
              "      padding: 0 0 0 0;\n",
              "      width: 32px;\n",
              "    }\n",
              "\n",
              "    .colab-df-convert:hover {\n",
              "      background-color: #E2EBFA;\n",
              "      box-shadow: 0px 1px 2px rgba(60, 64, 67, 0.3), 0px 1px 3px 1px rgba(60, 64, 67, 0.15);\n",
              "      fill: #174EA6;\n",
              "    }\n",
              "\n",
              "    [theme=dark] .colab-df-convert {\n",
              "      background-color: #3B4455;\n",
              "      fill: #D2E3FC;\n",
              "    }\n",
              "\n",
              "    [theme=dark] .colab-df-convert:hover {\n",
              "      background-color: #434B5C;\n",
              "      box-shadow: 0px 1px 3px 1px rgba(0, 0, 0, 0.15);\n",
              "      filter: drop-shadow(0px 1px 2px rgba(0, 0, 0, 0.3));\n",
              "      fill: #FFFFFF;\n",
              "    }\n",
              "  </style>\n",
              "\n",
              "      <script>\n",
              "        const buttonEl =\n",
              "          document.querySelector('#df-90d27c40-9122-4b7a-ac66-7071b2d14ab4 button.colab-df-convert');\n",
              "        buttonEl.style.display =\n",
              "          google.colab.kernel.accessAllowed ? 'block' : 'none';\n",
              "\n",
              "        async function convertToInteractive(key) {\n",
              "          const element = document.querySelector('#df-90d27c40-9122-4b7a-ac66-7071b2d14ab4');\n",
              "          const dataTable =\n",
              "            await google.colab.kernel.invokeFunction('convertToInteractive',\n",
              "                                                     [key], {});\n",
              "          if (!dataTable) return;\n",
              "\n",
              "          const docLinkHtml = 'Like what you see? Visit the ' +\n",
              "            '<a target=\"_blank\" href=https://colab.research.google.com/notebooks/data_table.ipynb>data table notebook</a>'\n",
              "            + ' to learn more about interactive tables.';\n",
              "          element.innerHTML = '';\n",
              "          dataTable['output_type'] = 'display_data';\n",
              "          await google.colab.output.renderOutput(dataTable, element);\n",
              "          const docLink = document.createElement('div');\n",
              "          docLink.innerHTML = docLinkHtml;\n",
              "          element.appendChild(docLink);\n",
              "        }\n",
              "      </script>\n",
              "    </div>\n",
              "  </div>\n",
              "  "
            ]
          },
          "metadata": {},
          "execution_count": 8
        }
      ]
    },
    {
      "cell_type": "code",
      "source": [
        "from sklearn.metrics import f1_score, recall_score, accuracy_score\n",
        "from sklearn.metrics import classification_report\n",
        "from sklearn.model_selection import train_test_split\n",
        "from sklearn.preprocessing import StandardScaler "
      ],
      "metadata": {
        "id": "KizOJ3scNBk6"
      },
      "execution_count": null,
      "outputs": []
    },
    {
      "cell_type": "code",
      "source": [
        "# Set input x and target y\n",
        "\n",
        "x = dataset.drop(['malware',\"hash\"],axis=1)\n",
        "y = dataset['malware']\n"
      ],
      "metadata": {
        "id": "-6HKFBWhMNty"
      },
      "execution_count": null,
      "outputs": []
    },
    {
      "cell_type": "code",
      "source": [
        "# Change datatype of APIs from integer to string\n",
        "x = x.astype(dtype=str)\n",
        "x = x.apply(list, axis=1) # to a list of 100 API calls\n",
        "x = x.apply(' '.join)"
      ],
      "metadata": {
        "id": "nyzCMwjAMJ9f"
      },
      "execution_count": null,
      "outputs": []
    },
    {
      "cell_type": "code",
      "source": [
        "#split\n",
        "x_train, x_test, y_train, y_test = train_test_split(x,y,test_size=0.2,random_state=2)"
      ],
      "metadata": {
        "id": "dR0RRkSpM0Hw"
      },
      "execution_count": null,
      "outputs": []
    },
    {
      "cell_type": "markdown",
      "source": [
        "# Counter Vectorization & KNeighborsClassifier"
      ],
      "metadata": {
        "id": "CXou9YS6XPDT"
      }
    },
    {
      "cell_type": "code",
      "source": [
        "#Counter Vectorization\n",
        "\n",
        "from sklearn.feature_extraction.text import CountVectorizer\n",
        "cv = CountVectorizer()\n",
        "x_train = cv.fit_transform(x_train)\n",
        "x_test = cv.transform(x_test)"
      ],
      "metadata": {
        "id": "Gul8ieyZM8nx"
      },
      "execution_count": null,
      "outputs": []
    },
    {
      "cell_type": "code",
      "source": [
        "#Lets make a model\n",
        "from sklearn.neighbors import KNeighborsClassifier\n",
        "kNN = KNeighborsClassifier()\n",
        "kNN.fit(x_train,y_train)\n",
        "y_pred = kNN.predict(x_test)"
      ],
      "metadata": {
        "id": "V5eKe_vGNGo_"
      },
      "execution_count": null,
      "outputs": []
    },
    {
      "cell_type": "code",
      "source": [
        "# Show evaluation metrics\n",
        "from sklearn.metrics import confusion_matrix\n",
        "confmat = confusion_matrix(y_true=y_test, y_pred=y_pred)\n",
        "print(confmat)\n",
        "accuracy = accuracy_score(y_pred, y_test)\n",
        "print('Accuracy: {}'.format(accuracy))\n",
        "print('F1 Score: {}'.format(f1_score(y_test,y_pred,zero_division=1)))\n",
        "print(classification_report(y_test,y_pred))\n"
      ],
      "metadata": {
        "colab": {
          "base_uri": "https://localhost:8080/"
        },
        "id": "iFcROcAjNMPO",
        "outputId": "6d8b8401-a8d7-4967-88c3-0571c1a25572"
      },
      "execution_count": null,
      "outputs": [
        {
          "output_type": "stream",
          "name": "stdout",
          "text": [
            "[[ 128  102]\n",
            " [  23 8523]]\n",
            "Accuracy: 0.9857566089334548\n",
            "F1 Score: 0.9927202842001047\n",
            "              precision    recall  f1-score   support\n",
            "\n",
            "           0       0.85      0.56      0.67       230\n",
            "           1       0.99      1.00      0.99      8546\n",
            "\n",
            "    accuracy                           0.99      8776\n",
            "   macro avg       0.92      0.78      0.83      8776\n",
            "weighted avg       0.98      0.99      0.98      8776\n",
            "\n"
          ]
        }
      ]
    },
    {
      "cell_type": "markdown",
      "source": [
        "# HashingVectorizer & SVC"
      ],
      "metadata": {
        "id": "KJqhXsUScPqm"
      }
    },
    {
      "cell_type": "code",
      "source": [
        "#split\n",
        "x_train1, x_test1, y_train1, y_test1 = train_test_split(x,y,test_size=0.2,random_state=2)"
      ],
      "metadata": {
        "id": "ipJvP8J5a7vt"
      },
      "execution_count": null,
      "outputs": []
    },
    {
      "cell_type": "code",
      "source": [
        "# HashingVectorizer\n",
        "from sklearn.feature_extraction.text import HashingVectorizer\n",
        "cv = HashingVectorizer()\n",
        "x_train1 = cv.fit_transform(x_train1)\n",
        "x_test1 = cv.transform(x_test1)"
      ],
      "metadata": {
        "id": "4YMk5Xh0Xu_E"
      },
      "execution_count": null,
      "outputs": []
    },
    {
      "cell_type": "code",
      "source": [
        "#make a model\n",
        "from sklearn.svm import SVC\n",
        "svc=SVC(probability=True)\n",
        "svc.fit(x_train1, y_train1)\n",
        "y_pred1=svc.predict(x_test1)"
      ],
      "metadata": {
        "id": "ub1w2iVnbIKc"
      },
      "execution_count": null,
      "outputs": []
    },
    {
      "cell_type": "code",
      "source": [
        "# Show evaluation metrics\n",
        "from sklearn.metrics import confusion_matrix\n",
        "confmat = confusion_matrix(y_true=y_test1, y_pred=y_pred1)\n",
        "print(confmat)\n",
        "accuracy = accuracy_score(y_pred1, y_test1)\n",
        "print('Accuracy: {}'.format(accuracy))\n",
        "print('F1 Score: {}'.format(f1_score(y_test1,y_pred1,zero_division=1)))\n",
        "print(classification_report(y_test1,y_pred1))\n"
      ],
      "metadata": {
        "colab": {
          "base_uri": "https://localhost:8080/"
        },
        "id": "EgfTm9aObcNm",
        "outputId": "09f876b2-ebcf-4d51-d6e4-444288482990"
      },
      "execution_count": null,
      "outputs": [
        {
          "output_type": "stream",
          "name": "stdout",
          "text": [
            "[[  68  162]\n",
            " [   3 8543]]\n",
            "Accuracy: 0.9811987237921604\n",
            "F1 Score: 0.9904353370819082\n",
            "              precision    recall  f1-score   support\n",
            "\n",
            "           0       0.96      0.30      0.45       230\n",
            "           1       0.98      1.00      0.99      8546\n",
            "\n",
            "    accuracy                           0.98      8776\n",
            "   macro avg       0.97      0.65      0.72      8776\n",
            "weighted avg       0.98      0.98      0.98      8776\n",
            "\n"
          ]
        }
      ]
    },
    {
      "cell_type": "markdown",
      "source": [
        "#TfidfVectorizer & RandomForestClassifier"
      ],
      "metadata": {
        "id": "AHcRDG7Pdcz7"
      }
    },
    {
      "cell_type": "code",
      "source": [
        "#split\n",
        "x_train2, x_test2, y_train2, y_test2 = train_test_split(x,y,test_size=0.2,random_state=2)"
      ],
      "metadata": {
        "id": "qbd_m9bXce03"
      },
      "execution_count": null,
      "outputs": []
    },
    {
      "cell_type": "code",
      "source": [
        "#TfidfVectorizer\n",
        "from sklearn.feature_extraction.text import TfidfVectorizer\n",
        "cv = TfidfVectorizer()\n",
        "x_train2 = cv.fit_transform(x_train2)\n",
        "x_test2 = cv.transform(x_test2)"
      ],
      "metadata": {
        "id": "ifkTFyySciUr"
      },
      "execution_count": null,
      "outputs": []
    },
    {
      "cell_type": "code",
      "source": [
        "#make a model\n",
        "from sklearn.ensemble import RandomForestClassifier\n",
        "RandomForest=RandomForestClassifier()\n",
        "RandomForest.fit(x_train2,y_train2)\n",
        "y_pred2=RandomForest.predict(x_test2)\n"
      ],
      "metadata": {
        "id": "1B_7GScscsZ3"
      },
      "execution_count": null,
      "outputs": []
    },
    {
      "cell_type": "code",
      "source": [
        "# Show evaluation metrics\n",
        "from sklearn.metrics import confusion_matrix\n",
        "confmat = confusion_matrix(y_true=y_test2, y_pred=y_pred2)\n",
        "print(confmat)\n",
        "accuracy = accuracy_score(y_pred2, y_test2)\n",
        "print('Accuracy: {}'.format(accuracy))\n",
        "print('F1 Score: {}'.format(f1_score(y_test2,y_pred2,zero_division=1)))\n",
        "print(classification_report(y_test2,y_pred2))"
      ],
      "metadata": {
        "colab": {
          "base_uri": "https://localhost:8080/"
        },
        "id": "YVCT2LtSdAzV",
        "outputId": "983b954b-ad85-425e-9d23-9ccae84040ef"
      },
      "execution_count": null,
      "outputs": [
        {
          "output_type": "stream",
          "name": "stdout",
          "text": [
            "[[ 138   92]\n",
            " [   7 8539]]\n",
            "Accuracy: 0.9887192342752963\n",
            "F1 Score: 0.9942364790126332\n",
            "              precision    recall  f1-score   support\n",
            "\n",
            "           0       0.95      0.60      0.74       230\n",
            "           1       0.99      1.00      0.99      8546\n",
            "\n",
            "    accuracy                           0.99      8776\n",
            "   macro avg       0.97      0.80      0.87      8776\n",
            "weighted avg       0.99      0.99      0.99      8776\n",
            "\n"
          ]
        }
      ]
    },
    {
      "cell_type": "markdown",
      "source": [
        "#HashingVectorizer & AdaBoostClassifier"
      ],
      "metadata": {
        "id": "6CgDRxq0caae"
      }
    },
    {
      "cell_type": "code",
      "source": [
        "#split\n",
        "x_train3, x_test3, y_train3, y_test3 = train_test_split(x,y,test_size=0.2,random_state=2)"
      ],
      "metadata": {
        "id": "wY76E6jxbdBy"
      },
      "execution_count": null,
      "outputs": []
    },
    {
      "cell_type": "code",
      "source": [
        "# HashingVectorizer\n",
        "from sklearn.feature_extraction.text import HashingVectorizer\n",
        "cv = HashingVectorizer()\n",
        "x_train3 = cv.fit_transform(x_train3)\n",
        "x_test3 = cv.transform(x_test3)"
      ],
      "metadata": {
        "id": "OYKTH7ZJbc2_"
      },
      "execution_count": null,
      "outputs": []
    },
    {
      "cell_type": "code",
      "source": [
        "#make a model\n",
        "from sklearn.ensemble import AdaBoostClassifier\n",
        "adaboost=AdaBoostClassifier()\n",
        "adaboost.fit(x_train3, y_train3)\n",
        "y_pred3=adaboost.predict(x_test3)"
      ],
      "metadata": {
        "id": "xP13a-ipeUWA"
      },
      "execution_count": null,
      "outputs": []
    },
    {
      "cell_type": "code",
      "source": [
        "# Show evaluation metrics\n",
        "from sklearn.metrics import confusion_matrix\n",
        "confmat = confusion_matrix(y_true=y_test3, y_pred=y_pred3)\n",
        "print(confmat)\n",
        "accuracy = accuracy_score(y_pred3, y_test3)\n",
        "print('Accuracy: {}'.format(accuracy))\n",
        "print('F1 Score: {}'.format(f1_score(y_test3,y_pred3,zero_division=1)))\n",
        "print(classification_report(y_test3,y_pred3))"
      ],
      "metadata": {
        "colab": {
          "base_uri": "https://localhost:8080/"
        },
        "id": "uc6JWPmPeVwL",
        "outputId": "9259dcb2-9445-44cd-a035-2f70be2e2a9a"
      },
      "execution_count": null,
      "outputs": [
        {
          "output_type": "stream",
          "name": "stdout",
          "text": [
            "[[ 107  123]\n",
            " [  21 8525]]\n",
            "Accuracy: 0.98359161349134\n",
            "F1 Score: 0.9916249854600441\n",
            "              precision    recall  f1-score   support\n",
            "\n",
            "           0       0.84      0.47      0.60       230\n",
            "           1       0.99      1.00      0.99      8546\n",
            "\n",
            "    accuracy                           0.98      8776\n",
            "   macro avg       0.91      0.73      0.79      8776\n",
            "weighted avg       0.98      0.98      0.98      8776\n",
            "\n"
          ]
        }
      ]
    },
    {
      "cell_type": "markdown",
      "source": [
        "#roc curve"
      ],
      "metadata": {
        "id": "Ba4R_UEQfblP"
      }
    },
    {
      "cell_type": "code",
      "source": [
        "from sklearn.metrics import roc_curve\n",
        "from sklearn.metrics import auc\n",
        "import matplotlib.pyplot as plt"
      ],
      "metadata": {
        "id": "OhpU9tYyNX5B"
      },
      "execution_count": null,
      "outputs": []
    },
    {
      "cell_type": "code",
      "source": [
        "# predict 는 0과 1\n",
        "# predict_proba는 0과 1사이의 스코어로 받을 수 있음\n",
        "# roc와 auc 그래프 그려보기\n",
        "# y_scores[:, 1] 두개가나옴 -> 0클래스에 대한 스코어, 1클래스에 대한 스코어 2개가 나오기때문에\n",
        "# 우리가 얼마나 악성코드에 가까운 스코어가 필요하기 때문에 0번은 버리고 모든샘플에 대해서 1번만\n",
        "\n",
        "#roc curve 그리기\n",
        "y_scores = kNN.predict_proba(x_test)\n",
        "y_scores1=svc.predict_proba(x_test1)\n",
        "y_scores2=RandomForest.predict_proba(x_test2)\n",
        "y_scores3=adaboost.predict_proba(x_test3)\n",
        "fpr, tpr, threshold = roc_curve(y_test, y_scores[:, 1])\n",
        "fpr1, tpr1, threshold1 = roc_curve(y_test1, y_scores1[:, 1])\n",
        "fpr2, tpr2, threshold2 = roc_curve(y_test2, y_scores2[:, 1])\n",
        "fpr3, tpr3, threshold3 = roc_curve(y_test3, y_scores3[:, 1])\n",
        "\n",
        "roc_auc = auc(fpr, tpr)\n",
        "roc_auc1=auc(fpr1, tpr1)\n",
        "roc_auc2=auc(fpr2, tpr2)\n",
        "roc_auc3=auc(fpr3, tpr3)\n",
        "\n",
        "plt.title('Receiver Operating Characteristic')\n",
        "plt.plot(fpr, tpr, label = 'KNN AUC = %0.2f' % roc_auc)\n",
        "plt.plot(fpr1, tpr1, label='SVC AUC1=%0.2f'%roc_auc1)\n",
        "plt.plot(fpr2, tpr2, label = 'RandomF AUC2 = %0.2f' % roc_auc2)\n",
        "plt.plot(fpr3, tpr3, label = 'ADA AUC3 = %0.2f' % roc_auc3)\n",
        "plt.legend(loc = 'lower right')\n",
        "plt.plot([0, 1], [0, 1],'r--')\n",
        "plt.xlim([0, 1])\n",
        "plt.ylim([0, 1])\n",
        "plt.ylabel('True Positive Rate')\n",
        "plt.xlabel('False Positive Rate')\n",
        "plt.title('ROC Curve of Models')\n",
        "plt.show()\n"
      ],
      "metadata": {
        "colab": {
          "base_uri": "https://localhost:8080/",
          "height": 295
        },
        "id": "1ibHRYyZZVQk",
        "outputId": "836d3681-5a5c-4674-ff8e-7c6ef830e6c5"
      },
      "execution_count": null,
      "outputs": [
        {
          "output_type": "display_data",
          "data": {
            "text/plain": [
              "<Figure size 432x288 with 1 Axes>"
            ],
            "image/png": "[encoded data removed]"
          },
          "metadata": {
            "needs_background": "light"
          }
        }
      ]
    },
    {
      "cell_type": "code",
      "source": [],
      "metadata": {
        "id": "sOHcoA14ZpcT"
      },
      "execution_count": null,
      "outputs": []
    }
  ]
}