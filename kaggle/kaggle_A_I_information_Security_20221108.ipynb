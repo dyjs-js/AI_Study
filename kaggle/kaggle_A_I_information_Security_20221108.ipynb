{
  "nbformat": 4,
  "nbformat_minor": 0,
  "metadata": {
    "colab": {
      "provenance": [],
      "toc_visible": true,
      "authorship_tag": "ABX9TyPWUaZdY5jo5bqiD3K8VS+A",
      "include_colab_link": true
    },
    "kernelspec": {
      "name": "python3",
      "display_name": "Python 3"
    },
    "language_info": {
      "name": "python"
    }
  },
  "cells": [
    {
      "cell_type": "markdown",
      "metadata": {
        "id": "view-in-github",
        "colab_type": "text"
      },
      "source": [
        "<a href=\"https://colab.research.google.com/github/dyjs-js/DaconStudy/blob/main/kaggle/kaggle_A_I_information_Security_20221108.ipynb\" target=\"_parent\"><img src=\"https://colab.research.google.com/assets/colab-badge.svg\" alt=\"Open In Colab\"/></a>"
      ]
    },
    {
      "cell_type": "markdown",
      "source": [
        "#데이터 불러오기"
      ],
      "metadata": {
        "id": "hCpBSbD-6OSt"
      }
    },
    {
      "cell_type": "code",
      "execution_count": 14,
      "metadata": {
        "colab": {
          "base_uri": "https://localhost:8080/"
        },
        "id": "DS_QA78mM-NZ",
        "outputId": "eb71c197-49b8-46ea-f05b-ef4609410464"
      },
      "outputs": [
        {
          "output_type": "stream",
          "name": "stdout",
          "text": [
            "Looking in indexes: https://pypi.org/simple, https://us-python.pkg.dev/colab-wheels/public/simple/\n",
            "Requirement already satisfied: kaggle in /usr/local/lib/python3.7/dist-packages (1.5.12)\n",
            "Requirement already satisfied: tqdm in /usr/local/lib/python3.7/dist-packages (from kaggle) (4.64.1)\n",
            "Requirement already satisfied: urllib3 in /usr/local/lib/python3.7/dist-packages (from kaggle) (1.24.3)\n",
            "Requirement already satisfied: six>=1.10 in /usr/local/lib/python3.7/dist-packages (from kaggle) (1.15.0)\n",
            "Requirement already satisfied: python-dateutil in /usr/local/lib/python3.7/dist-packages (from kaggle) (2.8.2)\n",
            "Requirement already satisfied: python-slugify in /usr/local/lib/python3.7/dist-packages (from kaggle) (6.1.2)\n",
            "Requirement already satisfied: requests in /usr/local/lib/python3.7/dist-packages (from kaggle) (2.23.0)\n",
            "Requirement already satisfied: certifi in /usr/local/lib/python3.7/dist-packages (from kaggle) (2022.9.24)\n",
            "Requirement already satisfied: text-unidecode>=1.3 in /usr/local/lib/python3.7/dist-packages (from python-slugify->kaggle) (1.3)\n",
            "Requirement already satisfied: idna<3,>=2.5 in /usr/local/lib/python3.7/dist-packages (from requests->kaggle) (2.10)\n",
            "Requirement already satisfied: chardet<4,>=3.0.2 in /usr/local/lib/python3.7/dist-packages (from requests->kaggle) (3.0.4)\n"
          ]
        }
      ],
      "source": [
        "!pip install kaggle"
      ]
    },
    {
      "cell_type": "code",
      "source": [
        "from google.colab import drive\n",
        "drive.mount('/content/gdrive')"
      ],
      "metadata": {
        "colab": {
          "base_uri": "https://localhost:8080/"
        },
        "id": "rc9686rLN6vn",
        "outputId": "e97cda44-d4ad-47d9-9ebb-a8fe593b2f57"
      },
      "execution_count": 2,
      "outputs": [
        {
          "output_type": "stream",
          "name": "stdout",
          "text": [
            "Mounted at /content/gdrive\n"
          ]
        }
      ]
    },
    {
      "cell_type": "code",
      "source": [
        "!mkdir -p '/content/gdrive/My Drive/dkudata2/.kaggle'\n",
        "%cd /content/gdrive/My Drive/dkudata2/.kaggle"
      ],
      "metadata": {
        "colab": {
          "base_uri": "https://localhost:8080/"
        },
        "id": "LSQ-1PfDOART",
        "outputId": "4c29a993-9514-4c83-d8e2-84a7cebe4004"
      },
      "execution_count": 25,
      "outputs": [
        {
          "output_type": "stream",
          "name": "stdout",
          "text": [
            "/content/gdrive/My Drive/dkudata2/.kaggle\n"
          ]
        }
      ]
    },
    {
      "cell_type": "code",
      "source": [
        "from google.colab import files\n",
        "files.upload()"
      ],
      "metadata": {
        "colab": {
          "base_uri": "https://localhost:8080/",
          "height": 95
        },
        "id": "_mzvl8elONaS",
        "outputId": "c56eb930-0a89-4f89-9033-e05c72fdfb4a"
      },
      "execution_count": 26,
      "outputs": [
        {
          "output_type": "display_data",
          "data": {
            "text/plain": [
              "<IPython.core.display.HTML object>"
            ],
            "text/html": [
              "\n",
              "     <input type=\"file\" id=\"files-6871a02e-2431-424e-8a16-6cebefc25b41\" name=\"files[]\" multiple disabled\n",
              "        style=\"border:none\" />\n",
              "     <output id=\"result-6871a02e-2431-424e-8a16-6cebefc25b41\">\n",
              "      Upload widget is only available when the cell has been executed in the\n",
              "      current browser session. Please rerun this cell to enable.\n",
              "      </output>\n",
              "      <script>// Copyright 2017 Google LLC\n",
              "//\n",
              "// Licensed under the Apache License, Version 2.0 (the \"License\");\n",
              "// you may not use this file except in compliance with the License.\n",
              "// You may obtain a copy of the License at\n",
              "//\n",
              "//      http://www.apache.org/licenses/LICENSE-2.0\n",
              "//\n",
              "// Unless required by applicable law or agreed to in writing, software\n",
              "// distributed under the License is distributed on an \"AS IS\" BASIS,\n",
              "// WITHOUT WARRANTIES OR CONDITIONS OF ANY KIND, either express or implied.\n",
              "// See the License for the specific language governing permissions and\n",
              "// limitations under the License.\n",
              "\n",
              "/**\n",
              " * @fileoverview Helpers for google.colab Python module.\n",
              " */\n",
              "(function(scope) {\n",
              "function span(text, styleAttributes = {}) {\n",
              "  const element = document.createElement('span');\n",
              "  element.textContent = text;\n",
              "  for (const key of Object.keys(styleAttributes)) {\n",
              "    element.style[key] = styleAttributes[key];\n",
              "  }\n",
              "  return element;\n",
              "}\n",
              "\n",
              "// Max number of bytes which will be uploaded at a time.\n",
              "const MAX_PAYLOAD_SIZE = 100 * 1024;\n",
              "\n",
              "function _uploadFiles(inputId, outputId) {\n",
              "  const steps = uploadFilesStep(inputId, outputId);\n",
              "  const outputElement = document.getElementById(outputId);\n",
              "  // Cache steps on the outputElement to make it available for the next call\n",
              "  // to uploadFilesContinue from Python.\n",
              "  outputElement.steps = steps;\n",
              "\n",
              "  return _uploadFilesContinue(outputId);\n",
              "}\n",
              "\n",
              "// This is roughly an async generator (not supported in the browser yet),\n",
              "// where there are multiple asynchronous steps and the Python side is going\n",
              "// to poll for completion of each step.\n",
              "// This uses a Promise to block the python side on completion of each step,\n",
              "// then passes the result of the previous step as the input to the next step.\n",
              "function _uploadFilesContinue(outputId) {\n",
              "  const outputElement = document.getElementById(outputId);\n",
              "  const steps = outputElement.steps;\n",
              "\n",
              "  const next = steps.next(outputElement.lastPromiseValue);\n",
              "  return Promise.resolve(next.value.promise).then((value) => {\n",
              "    // Cache the last promise value to make it available to the next\n",
              "    // step of the generator.\n",
              "    outputElement.lastPromiseValue = value;\n",
              "    return next.value.response;\n",
              "  });\n",
              "}\n",
              "\n",
              "/**\n",
              " * Generator function which is called between each async step of the upload\n",
              " * process.\n",
              " * @param {string} inputId Element ID of the input file picker element.\n",
              " * @param {string} outputId Element ID of the output display.\n",
              " * @return {!Iterable<!Object>} Iterable of next steps.\n",
              " */\n",
              "function* uploadFilesStep(inputId, outputId) {\n",
              "  const inputElement = document.getElementById(inputId);\n",
              "  inputElement.disabled = false;\n",
              "\n",
              "  const outputElement = document.getElementById(outputId);\n",
              "  outputElement.innerHTML = '';\n",
              "\n",
              "  const pickedPromise = new Promise((resolve) => {\n",
              "    inputElement.addEventListener('change', (e) => {\n",
              "      resolve(e.target.files);\n",
              "    });\n",
              "  });\n",
              "\n",
              "  const cancel = document.createElement('button');\n",
              "  inputElement.parentElement.appendChild(cancel);\n",
              "  cancel.textContent = 'Cancel upload';\n",
              "  const cancelPromise = new Promise((resolve) => {\n",
              "    cancel.onclick = () => {\n",
              "      resolve(null);\n",
              "    };\n",
              "  });\n",
              "\n",
              "  // Wait for the user to pick the files.\n",
              "  const files = yield {\n",
              "    promise: Promise.race([pickedPromise, cancelPromise]),\n",
              "    response: {\n",
              "      action: 'starting',\n",
              "    }\n",
              "  };\n",
              "\n",
              "  cancel.remove();\n",
              "\n",
              "  // Disable the input element since further picks are not allowed.\n",
              "  inputElement.disabled = true;\n",
              "\n",
              "  if (!files) {\n",
              "    return {\n",
              "      response: {\n",
              "        action: 'complete',\n",
              "      }\n",
              "    };\n",
              "  }\n",
              "\n",
              "  for (const file of files) {\n",
              "    const li = document.createElement('li');\n",
              "    li.append(span(file.name, {fontWeight: 'bold'}));\n",
              "    li.append(span(\n",
              "        `(${file.type || 'n/a'}) - ${file.size} bytes, ` +\n",
              "        `last modified: ${\n",
              "            file.lastModifiedDate ? file.lastModifiedDate.toLocaleDateString() :\n",
              "                                    'n/a'} - `));\n",
              "    const percent = span('0% done');\n",
              "    li.appendChild(percent);\n",
              "\n",
              "    outputElement.appendChild(li);\n",
              "\n",
              "    const fileDataPromise = new Promise((resolve) => {\n",
              "      const reader = new FileReader();\n",
              "      reader.onload = (e) => {\n",
              "        resolve(e.target.result);\n",
              "      };\n",
              "      reader.readAsArrayBuffer(file);\n",
              "    });\n",
              "    // Wait for the data to be ready.\n",
              "    let fileData = yield {\n",
              "      promise: fileDataPromise,\n",
              "      response: {\n",
              "        action: 'continue',\n",
              "      }\n",
              "    };\n",
              "\n",
              "    // Use a chunked sending to avoid message size limits. See b/62115660.\n",
              "    let position = 0;\n",
              "    do {\n",
              "      const length = Math.min(fileData.byteLength - position, MAX_PAYLOAD_SIZE);\n",
              "      const chunk = new Uint8Array(fileData, position, length);\n",
              "      position += length;\n",
              "\n",
              "      const base64 = btoa(String.fromCharCode.apply(null, chunk));\n",
              "      yield {\n",
              "        response: {\n",
              "          action: 'append',\n",
              "          file: file.name,\n",
              "          data: base64,\n",
              "        },\n",
              "      };\n",
              "\n",
              "      let percentDone = fileData.byteLength === 0 ?\n",
              "          100 :\n",
              "          Math.round((position / fileData.byteLength) * 100);\n",
              "      percent.textContent = `${percentDone}% done`;\n",
              "\n",
              "    } while (position < fileData.byteLength);\n",
              "  }\n",
              "\n",
              "  // All done.\n",
              "  yield {\n",
              "    response: {\n",
              "      action: 'complete',\n",
              "    }\n",
              "  };\n",
              "}\n",
              "\n",
              "scope.google = scope.google || {};\n",
              "scope.google.colab = scope.google.colab || {};\n",
              "scope.google.colab._files = {\n",
              "  _uploadFiles,\n",
              "  _uploadFilesContinue,\n",
              "};\n",
              "})(self);\n",
              "</script> "
            ]
          },
          "metadata": {}
        },
        {
          "output_type": "stream",
          "name": "stdout",
          "text": [
            "Saving kaggle.json to kaggle.json\n"
          ]
        },
        {
          "output_type": "execute_result",
          "data": {
            "text/plain": [
              "{'kaggle.json': b'{\"username\":\"jisooyeondd\",\"key\":\"1884f18cf3f85a2c10b0d3ab8a730fe6\"}'}"
            ]
          },
          "metadata": {},
          "execution_count": 26
        }
      ]
    },
    {
      "cell_type": "code",
      "source": [
        "# 내 kaggle 토근의 위치 설정\n",
        "import os\n",
        "os.environ['KAGGLE_CONFIG_DIR']=\"/content/gdrive/My Drive/dkudata2/.kaggle/\"\n",
        "\n",
        "!ls -l '/content/gdrive/My Drive/dkudata2/.kaggle'"
      ],
      "metadata": {
        "colab": {
          "base_uri": "https://localhost:8080/"
        },
        "id": "BMqhNpBQOvOf",
        "outputId": "0feccc1a-50e7-40f3-cd9a-b5c1a0965ffa"
      },
      "execution_count": 27,
      "outputs": [
        {
          "output_type": "stream",
          "name": "stdout",
          "text": [
            "total 1\n",
            "-rw------- 1 root root 67 Nov 23 07:54 kaggle.json\n"
          ]
        }
      ]
    },
    {
      "cell_type": "code",
      "source": [
        "!kaggle datasets list"
      ],
      "metadata": {
        "colab": {
          "base_uri": "https://localhost:8080/"
        },
        "id": "VQwlfwA1PaHJ",
        "outputId": "cfcaa6da-0eb9-43b7-8b90-b6bab64be82e"
      },
      "execution_count": 28,
      "outputs": [
        {
          "output_type": "stream",
          "name": "stdout",
          "text": [
            "ref                                                         title                                                size  lastUpdated          downloadCount  voteCount  usabilityRating  \n",
            "----------------------------------------------------------  --------------------------------------------------  -----  -------------------  -------------  ---------  ---------------  \n",
            "akshaydattatraykhare/diabetes-dataset                       Diabetes Dataset                                      9KB  2022-10-06 08:55:25          16949        489  1.0              \n",
            "akshaydattatraykhare/data-for-admission-in-the-university   Data for Admission in the University                  4KB  2022-10-27 11:05:45           4491        107  1.0              \n",
            "thedevastator/jobs-dataset-from-glassdoor                   Salary Prediction                                     3MB  2022-11-16 13:52:31           1004         32  1.0              \n",
            "piterfm/fifa-football-world-cup                             FIFA Football World Cup                              69KB  2022-11-22 10:05:38            672         29  1.0              \n",
            "swaptr/layoffs-2022                                         Layoffs 2022                                         30KB  2022-11-20 18:05:26           1453         43  1.0              \n",
            "meirnizri/covid19-dataset                                   COVID-19 Dataset                                      5MB  2022-11-13 15:47:17           1536         44  1.0              \n",
            "dheerajmukati/india-gdp-19602022                            India GDP 1960-2022                                   1KB  2022-11-11 12:08:46            765         26  1.0              \n",
            "whenamancodes/predict-diabities                             Predict Diabetes                                      9KB  2022-11-09 12:18:49           2157         48  1.0              \n",
            "elmoallistair/fertility-rate-19602020                       Fertility Rate (1960-2020)                           19KB  2022-11-17 01:31:16            571         28  0.9117647        \n",
            "zvr842/global-pollution-by-counties                         Global pollution by counties                         15KB  2022-11-14 10:57:31            809         26  0.9705882        \n",
            "whenamancodes/credit-card-customers-prediction              Credit Card Customers Prediction                    379KB  2022-10-30 13:03:27           2962         64  1.0              \n",
            "whenamancodes/covid-19-coronavirus-pandemic-dataset         COVID -19 Coronavirus Pandemic Dataset               11KB  2022-09-30 04:05:11          12088        375  1.0              \n",
            "jillanisofttech/flight-price-prediction-dataset             Flight Price Prediction DataSet                     602KB  2022-11-18 10:37:29            827         28  0.7941176        \n",
            "ifteshanajnin/carinsuranceclaimprediction-classification    Car Insurance Claim Prediction                        2MB  2022-11-14 15:38:26            719         25  1.0              \n",
            "dbarteaux99/stable-diffusion-1-5                            Stable Diffusion 1.5 (normal and EMAonly) with vae    7GB  2022-10-23 15:40:29             46         16  0.9375           \n",
            "maharshipandya/-spotify-tracks-dataset                      🎹 Spotify Tracks Dataset                              8MB  2022-10-22 14:40:15           3732        104  1.0              \n",
            "aneesayoub/world-universities-ranking-2022                  World Universities Ranking 2022                      41KB  2022-11-17 03:47:37           1295         33  0.9117647        \n",
            "hasibalmuzdadid/global-air-pollution-dataset                Global Air Pollution Dataset                        371KB  2022-11-08 14:43:32           2174         60  1.0              \n",
            "thedevastator/cancer-patients-and-air-pollution-a-new-link   Lung Cancer Prediction                               7KB  2022-11-14 13:40:40           1009         35  1.0              \n",
            "salmankhaliq22/road-traffic-collision-dataset               UK Road Traffic Collision Dataset                    99MB  2022-11-09 06:46:16            608         32  1.0              \n"
          ]
        }
      ]
    },
    {
      "cell_type": "code",
      "source": [
        "# specific dataset search\n",
        "!kaggle datasets list -s [Malware]"
      ],
      "metadata": {
        "colab": {
          "base_uri": "https://localhost:8080/"
        },
        "id": "3O-bocMQPnXR",
        "outputId": "99494542-3b3e-4910-bdfd-56c9d5e8d6ae"
      },
      "execution_count": 29,
      "outputs": [
        {
          "output_type": "stream",
          "name": "stdout",
          "text": [
            "ref                                                         title                                             size  lastUpdated          downloadCount  voteCount  usabilityRating  \n",
            "----------------------------------------------------------  -----------------------------------------------  -----  -------------------  -------------  ---------  ---------------  \n",
            "cdeotte/malware-timestamps                                  Malware Timestamps                               416KB  2019-01-17 14:19:25           1338         64  0.625            \n",
            "piyushrumao/malware-executable-detection                    Malware Executable Detection                      27KB  2020-06-30 18:15:45           1515         24  0.9705882        \n",
            "cdeotte/malware-timestamps-2                                Malware Timestamps 2                               8KB  2019-01-25 02:19:55            510         46  0.5625           \n",
            "saurabhshahane/classification-of-malwares                   Classification of Malwares (CLaMP)               435KB  2021-01-30 11:16:53           1123         28  0.9411765        \n",
            "xwolf12/datasetandroidpermissions                           Dataset malware/beningn permissions Android        9KB  2016-10-23 20:34:08           3937         53  0.7058824        \n",
            "nsaravana/malware-detection                                 Malware Detection                                556KB  2018-04-12 11:06:39           4083         44  0.29411766       \n",
            "shashwatwork/android-malware-dataset-for-machine-learning   Android Malware Dataset for Machine Learning     417KB  2021-03-13 15:44:29           2408         32  0.9411765        \n",
            "fabriciojoc/fast-furious-malware-data-stream                Fast & Furious: Malware Detection Data Stream      8GB  2022-08-12 04:12:38            464         18  1.0              \n",
            "ang3loliveira/malware-analysis-datasets-api-call-sequences  Malware Analysis Datasets: API Call Sequences      2MB  2019-10-24 02:01:43           1206         21  0.7058824        \n",
            "sid321axn/malicious-urls-dataset                            Malicious URLs dataset                            17MB  2021-07-23 18:03:30           3944         60  1.0              \n",
            "xwolf12/network-traffic-android-malware                     Network Traffic Android Malware                  114KB  2019-09-12 03:15:06           1821         18  0.5882353        \n",
            "muhammad4hmed/malwaremicrosoftbig                           BIG Malware Dataset from Microsoft                62MB  2021-03-05 20:03:16            888         25  1.0              \n",
            "matthewfields/malware-as-images                             Malware as Images                                 10GB  2021-01-16 14:34:31            496         11  0.875            \n",
            "saurabhshahane/android-permission-dataset                   Android Permission Dataset                        17MB  2021-05-29 17:10:48           1010         38  0.9411765        \n",
            "rquintino/malware-avsigversion-threats                      Microsoft Malware - AvSigVersion Threat Details    8MB  2019-02-23 22:41:08            664         29  0.64705884       \n",
            "adityaecdrid/malware                                        malware                                            1MB  2018-12-24 13:50:34            236         11  0.25             \n",
            "amauricio/pe-files-malwares                                 Benign & Malicious PE Files                        2MB  2018-05-15 16:37:34           3181         49  0.7352941        \n",
            "saurabhshahane/android-malware-dataset                      Android Malware Dataset                            4MB  2021-06-04 19:14:33            451         14  0.88235295       \n",
            "dscclass/malware                                            Malware                                           12MB  2021-07-08 16:55:02            122          2  0.3529412        \n",
            "paytonjabir/comprehensive-malware-datasets                  Comprehensive malware datasets                   578KB  2021-10-08 23:05:33            140          8  0.7647059        \n"
          ]
        }
      ]
    },
    {
      "cell_type": "code",
      "source": [
        "!pwd"
      ],
      "metadata": {
        "colab": {
          "base_uri": "https://localhost:8080/"
        },
        "id": "vdLBey4feaZf",
        "outputId": "a2692315-980d-4de5-f71b-b2d792361dd9"
      },
      "execution_count": 30,
      "outputs": [
        {
          "output_type": "stream",
          "name": "stdout",
          "text": [
            "/content/gdrive/My Drive/dkudata2/.kaggle\n"
          ]
        }
      ]
    },
    {
      "cell_type": "code",
      "source": [
        "#We will use the malware analysis: PE section headers dataset\n",
        "!kaggle datasets list -s ang3loliveira/malware-analysis-datasets-pe-section-headers"
      ],
      "metadata": {
        "colab": {
          "base_uri": "https://localhost:8080/"
        },
        "id": "moER05t2P6KX",
        "outputId": "506017ea-e8d2-4ecb-c9b0-b927a9d82cc4"
      },
      "execution_count": 31,
      "outputs": [
        {
          "output_type": "stream",
          "name": "stdout",
          "text": [
            "ref                                                         title                                          size  lastUpdated          downloadCount  voteCount  usabilityRating  \n",
            "----------------------------------------------------------  ---------------------------------------------  ----  -------------------  -------------  ---------  ---------------  \n",
            "ang3loliveira/malware-analysis-datasets-pe-section-headers  Malware Analysis Datasets: PE Section Headers   1MB  2019-08-14 17:38:19            861         12  0.7058824        \n"
          ]
        }
      ]
    },
    {
      "cell_type": "code",
      "source": [
        "#Download & Unzip the dataset\n",
        "!kaggle datasets download -d ang3loliveira/malware-analysis-datasets-pe-section-headers"
      ],
      "metadata": {
        "colab": {
          "base_uri": "https://localhost:8080/"
        },
        "id": "4zKRLaBKQaHa",
        "outputId": "76624c57-e783-456e-f978-71fbd181fe46"
      },
      "execution_count": 32,
      "outputs": [
        {
          "output_type": "stream",
          "name": "stdout",
          "text": [
            "Downloading malware-analysis-datasets-pe-section-headers.zip to /content/gdrive/My Drive/dkudata2/.kaggle\n",
            "\r  0% 0.00/1.25M [00:00<?, ?B/s]\n",
            "\r100% 1.25M/1.25M [00:00<00:00, 70.6MB/s]\n"
          ]
        }
      ]
    },
    {
      "cell_type": "code",
      "source": [
        "!unzip malware-analysis-datasets-pe-section-headers.zip"
      ],
      "metadata": {
        "colab": {
          "base_uri": "https://localhost:8080/"
        },
        "id": "Sty2U_mceUu1",
        "outputId": "76e13fb4-5701-4740-f54a-811e18ac513b"
      },
      "execution_count": 33,
      "outputs": [
        {
          "output_type": "stream",
          "name": "stdout",
          "text": [
            "Archive:  malware-analysis-datasets-pe-section-headers.zip\n",
            "  inflating: pe_section_headers.csv  \n"
          ]
        }
      ]
    },
    {
      "cell_type": "code",
      "source": [
        "!ls -l"
      ],
      "metadata": {
        "colab": {
          "base_uri": "https://localhost:8080/"
        },
        "id": "2EHY9Hk_Qz15",
        "outputId": "7f5a260d-ff0b-4ed5-cfda-f0122f16fc10"
      },
      "execution_count": 34,
      "outputs": [
        {
          "output_type": "stream",
          "name": "stdout",
          "text": [
            "total 4308\n",
            "-rw------- 1 root root      67 Nov 23 07:54 kaggle.json\n",
            "-rw------- 1 root root 1307424 Nov 23 07:54 malware-analysis-datasets-pe-section-headers.zip\n",
            "-rw------- 1 root root 3102951 Aug 14  2019 pe_section_headers.csv\n"
          ]
        }
      ]
    },
    {
      "cell_type": "code",
      "source": [
        "#load data from the file\n",
        "import pandas as pd\n",
        "dataset=pd.read_csv(\"./pe_section_headers.csv\")\n",
        "dataset"
      ],
      "metadata": {
        "colab": {
          "base_uri": "https://localhost:8080/",
          "height": 424
        },
        "id": "zn-AqOEEQ9Je",
        "outputId": "dd8f27df-88b4-4775-eb72-dd622f2b7903"
      },
      "execution_count": 36,
      "outputs": [
        {
          "output_type": "execute_result",
          "data": {
            "text/plain": [
              "                                   hash  size_of_data  virtual_address  \\\n",
              "0      071e8c3f8922e186e57548cd4c703a5d        443392             4096   \n",
              "1      33f8e6d08a6aae939f25a8e0d63dd523        331264             4096   \n",
              "2      b68abd064e975e1c6d5f25e748663076         74240             4096   \n",
              "3      72049be7bd30ea61297ea624ae198067        219648             4096   \n",
              "4      c9b3700a77facf29172f32df6bc77f48        262144             4096   \n",
              "...                                 ...           ...              ...   \n",
              "43288  9b917bab7f32188ae40c744f2be9aaf8        286720             4096   \n",
              "43289  35a18ee05f75f04912018d9f462cb990        262144             4096   \n",
              "43290  654139d715abcf7ecdddbef5a84f224b        262144             4096   \n",
              "43291  078c9d4e7be4819a06974c6f292a4857        443392             4096   \n",
              "43292  28a46c37f3a894f6d4ce8c38c2ff1fb1        803840             4096   \n",
              "\n",
              "        entropy  virtual_size  malware  \n",
              "0      6.529624        442984        1  \n",
              "1      6.604314        330784        1  \n",
              "2      6.046789         73819        1  \n",
              "3      6.497018        219524        1  \n",
              "4      6.638142        261943        1  \n",
              "...         ...           ...      ...  \n",
              "43288  6.585726        286359        1  \n",
              "43289  6.638142        261943        1  \n",
              "43290  6.638142        261943        1  \n",
              "43291  6.529624        442984        1  \n",
              "43292  6.384199        803576        0  \n",
              "\n",
              "[43293 rows x 6 columns]"
            ],
            "text/html": [
              "\n",
              "  <div id=\"df-129eee57-3c00-4b1b-8380-4cc2736312aa\">\n",
              "    <div class=\"colab-df-container\">\n",
              "      <div>\n",
              "<style scoped>\n",
              "    .dataframe tbody tr th:only-of-type {\n",
              "        vertical-align: middle;\n",
              "    }\n",
              "\n",
              "    .dataframe tbody tr th {\n",
              "        vertical-align: top;\n",
              "    }\n",
              "\n",
              "    .dataframe thead th {\n",
              "        text-align: right;\n",
              "    }\n",
              "</style>\n",
              "<table border=\"1\" class=\"dataframe\">\n",
              "  <thead>\n",
              "    <tr style=\"text-align: right;\">\n",
              "      <th></th>\n",
              "      <th>hash</th>\n",
              "      <th>size_of_data</th>\n",
              "      <th>virtual_address</th>\n",
              "      <th>entropy</th>\n",
              "      <th>virtual_size</th>\n",
              "      <th>malware</th>\n",
              "    </tr>\n",
              "  </thead>\n",
              "  <tbody>\n",
              "    <tr>\n",
              "      <th>0</th>\n",
              "      <td>071e8c3f8922e186e57548cd4c703a5d</td>\n",
              "      <td>443392</td>\n",
              "      <td>4096</td>\n",
              "      <td>6.529624</td>\n",
              "      <td>442984</td>\n",
              "      <td>1</td>\n",
              "    </tr>\n",
              "    <tr>\n",
              "      <th>1</th>\n",
              "      <td>33f8e6d08a6aae939f25a8e0d63dd523</td>\n",
              "      <td>331264</td>\n",
              "      <td>4096</td>\n",
              "      <td>6.604314</td>\n",
              "      <td>330784</td>\n",
              "      <td>1</td>\n",
              "    </tr>\n",
              "    <tr>\n",
              "      <th>2</th>\n",
              "      <td>b68abd064e975e1c6d5f25e748663076</td>\n",
              "      <td>74240</td>\n",
              "      <td>4096</td>\n",
              "      <td>6.046789</td>\n",
              "      <td>73819</td>\n",
              "      <td>1</td>\n",
              "    </tr>\n",
              "    <tr>\n",
              "      <th>3</th>\n",
              "      <td>72049be7bd30ea61297ea624ae198067</td>\n",
              "      <td>219648</td>\n",
              "      <td>4096</td>\n",
              "      <td>6.497018</td>\n",
              "      <td>219524</td>\n",
              "      <td>1</td>\n",
              "    </tr>\n",
              "    <tr>\n",
              "      <th>4</th>\n",
              "      <td>c9b3700a77facf29172f32df6bc77f48</td>\n",
              "      <td>262144</td>\n",
              "      <td>4096</td>\n",
              "      <td>6.638142</td>\n",
              "      <td>261943</td>\n",
              "      <td>1</td>\n",
              "    </tr>\n",
              "    <tr>\n",
              "      <th>...</th>\n",
              "      <td>...</td>\n",
              "      <td>...</td>\n",
              "      <td>...</td>\n",
              "      <td>...</td>\n",
              "      <td>...</td>\n",
              "      <td>...</td>\n",
              "    </tr>\n",
              "    <tr>\n",
              "      <th>43288</th>\n",
              "      <td>9b917bab7f32188ae40c744f2be9aaf8</td>\n",
              "      <td>286720</td>\n",
              "      <td>4096</td>\n",
              "      <td>6.585726</td>\n",
              "      <td>286359</td>\n",
              "      <td>1</td>\n",
              "    </tr>\n",
              "    <tr>\n",
              "      <th>43289</th>\n",
              "      <td>35a18ee05f75f04912018d9f462cb990</td>\n",
              "      <td>262144</td>\n",
              "      <td>4096</td>\n",
              "      <td>6.638142</td>\n",
              "      <td>261943</td>\n",
              "      <td>1</td>\n",
              "    </tr>\n",
              "    <tr>\n",
              "      <th>43290</th>\n",
              "      <td>654139d715abcf7ecdddbef5a84f224b</td>\n",
              "      <td>262144</td>\n",
              "      <td>4096</td>\n",
              "      <td>6.638142</td>\n",
              "      <td>261943</td>\n",
              "      <td>1</td>\n",
              "    </tr>\n",
              "    <tr>\n",
              "      <th>43291</th>\n",
              "      <td>078c9d4e7be4819a06974c6f292a4857</td>\n",
              "      <td>443392</td>\n",
              "      <td>4096</td>\n",
              "      <td>6.529624</td>\n",
              "      <td>442984</td>\n",
              "      <td>1</td>\n",
              "    </tr>\n",
              "    <tr>\n",
              "      <th>43292</th>\n",
              "      <td>28a46c37f3a894f6d4ce8c38c2ff1fb1</td>\n",
              "      <td>803840</td>\n",
              "      <td>4096</td>\n",
              "      <td>6.384199</td>\n",
              "      <td>803576</td>\n",
              "      <td>0</td>\n",
              "    </tr>\n",
              "  </tbody>\n",
              "</table>\n",
              "<p>43293 rows × 6 columns</p>\n",
              "</div>\n",
              "      <button class=\"colab-df-convert\" onclick=\"convertToInteractive('df-129eee57-3c00-4b1b-8380-4cc2736312aa')\"\n",
              "              title=\"Convert this dataframe to an interactive table.\"\n",
              "              style=\"display:none;\">\n",
              "        \n",
              "  <svg xmlns=\"http://www.w3.org/2000/svg\" height=\"24px\"viewBox=\"0 0 24 24\"\n",
              "       width=\"24px\">\n",
              "    <path d=\"M0 0h24v24H0V0z\" fill=\"none\"/>\n",
              "    <path d=\"M18.56 5.44l.94 2.06.94-2.06 2.06-.94-2.06-.94-.94-2.06-.94 2.06-2.06.94zm-11 1L8.5 8.5l.94-2.06 2.06-.94-2.06-.94L8.5 2.5l-.94 2.06-2.06.94zm10 10l.94 2.06.94-2.06 2.06-.94-2.06-.94-.94-2.06-.94 2.06-2.06.94z\"/><path d=\"M17.41 7.96l-1.37-1.37c-.4-.4-.92-.59-1.43-.59-.52 0-1.04.2-1.43.59L10.3 9.45l-7.72 7.72c-.78.78-.78 2.05 0 2.83L4 21.41c.39.39.9.59 1.41.59.51 0 1.02-.2 1.41-.59l7.78-7.78 2.81-2.81c.8-.78.8-2.07 0-2.86zM5.41 20L4 18.59l7.72-7.72 1.47 1.35L5.41 20z\"/>\n",
              "  </svg>\n",
              "      </button>\n",
              "      \n",
              "  <style>\n",
              "    .colab-df-container {\n",
              "      display:flex;\n",
              "      flex-wrap:wrap;\n",
              "      gap: 12px;\n",
              "    }\n",
              "\n",
              "    .colab-df-convert {\n",
              "      background-color: #E8F0FE;\n",
              "      border: none;\n",
              "      border-radius: 50%;\n",
              "      cursor: pointer;\n",
              "      display: none;\n",
              "      fill: #1967D2;\n",
              "      height: 32px;\n",
              "      padding: 0 0 0 0;\n",
              "      width: 32px;\n",
              "    }\n",
              "\n",
              "    .colab-df-convert:hover {\n",
              "      background-color: #E2EBFA;\n",
              "      box-shadow: 0px 1px 2px rgba(60, 64, 67, 0.3), 0px 1px 3px 1px rgba(60, 64, 67, 0.15);\n",
              "      fill: #174EA6;\n",
              "    }\n",
              "\n",
              "    [theme=dark] .colab-df-convert {\n",
              "      background-color: #3B4455;\n",
              "      fill: #D2E3FC;\n",
              "    }\n",
              "\n",
              "    [theme=dark] .colab-df-convert:hover {\n",
              "      background-color: #434B5C;\n",
              "      box-shadow: 0px 1px 3px 1px rgba(0, 0, 0, 0.15);\n",
              "      filter: drop-shadow(0px 1px 2px rgba(0, 0, 0, 0.3));\n",
              "      fill: #FFFFFF;\n",
              "    }\n",
              "  </style>\n",
              "\n",
              "      <script>\n",
              "        const buttonEl =\n",
              "          document.querySelector('#df-129eee57-3c00-4b1b-8380-4cc2736312aa button.colab-df-convert');\n",
              "        buttonEl.style.display =\n",
              "          google.colab.kernel.accessAllowed ? 'block' : 'none';\n",
              "\n",
              "        async function convertToInteractive(key) {\n",
              "          const element = document.querySelector('#df-129eee57-3c00-4b1b-8380-4cc2736312aa');\n",
              "          const dataTable =\n",
              "            await google.colab.kernel.invokeFunction('convertToInteractive',\n",
              "                                                     [key], {});\n",
              "          if (!dataTable) return;\n",
              "\n",
              "          const docLinkHtml = 'Like what you see? Visit the ' +\n",
              "            '<a target=\"_blank\" href=https://colab.research.google.com/notebooks/data_table.ipynb>data table notebook</a>'\n",
              "            + ' to learn more about interactive tables.';\n",
              "          element.innerHTML = '';\n",
              "          dataTable['output_type'] = 'display_data';\n",
              "          await google.colab.output.renderOutput(dataTable, element);\n",
              "          const docLink = document.createElement('div');\n",
              "          docLink.innerHTML = docLinkHtml;\n",
              "          element.appendChild(docLink);\n",
              "        }\n",
              "      </script>\n",
              "    </div>\n",
              "  </div>\n",
              "  "
            ]
          },
          "metadata": {},
          "execution_count": 36
        }
      ]
    },
    {
      "cell_type": "code",
      "source": [
        "dataset.info()"
      ],
      "metadata": {
        "colab": {
          "base_uri": "https://localhost:8080/"
        },
        "id": "NruPLNMURHSW",
        "outputId": "cd123d7a-f284-4ff7-f62b-8ab8caa587ae"
      },
      "execution_count": 37,
      "outputs": [
        {
          "output_type": "stream",
          "name": "stdout",
          "text": [
            "<class 'pandas.core.frame.DataFrame'>\n",
            "RangeIndex: 43293 entries, 0 to 43292\n",
            "Data columns (total 6 columns):\n",
            " #   Column           Non-Null Count  Dtype  \n",
            "---  ------           --------------  -----  \n",
            " 0   hash             43293 non-null  object \n",
            " 1   size_of_data     43293 non-null  int64  \n",
            " 2   virtual_address  43293 non-null  int64  \n",
            " 3   entropy          43293 non-null  float64\n",
            " 4   virtual_size     43293 non-null  int64  \n",
            " 5   malware          43293 non-null  int64  \n",
            "dtypes: float64(1), int64(4), object(1)\n",
            "memory usage: 2.0+ MB\n"
          ]
        }
      ]
    },
    {
      "cell_type": "code",
      "source": [
        "dataset['malware'].value_counts()\n",
        "#target=malware 1=malware, 0=non malware"
      ],
      "metadata": {
        "colab": {
          "base_uri": "https://localhost:8080/"
        },
        "id": "dbrTy0KxRMJf",
        "outputId": "e94b74f8-495a-4acc-c50a-72a2c197426e"
      },
      "execution_count": 38,
      "outputs": [
        {
          "output_type": "execute_result",
          "data": {
            "text/plain": [
              "1    41568\n",
              "0     1725\n",
              "Name: malware, dtype: int64"
            ]
          },
          "metadata": {},
          "execution_count": 38
        }
      ]
    },
    {
      "cell_type": "code",
      "source": [
        "import seaborn as sns\n",
        "sns.displot(data=dataset, x=\"entropy\", hue=\"malware\", kind='kde')\n",
        "sns.displot(data=dataset, x=\"virtual_size\", hue=\"malware\", kind='kde')\n",
        "\n",
        "#virtual size -> 파일로있을때보다 메모리에서 실행될때의 사이즈"
      ],
      "metadata": {
        "colab": {
          "base_uri": "https://localhost:8080/",
          "height": 739
        },
        "id": "loguh9awRsLe",
        "outputId": "475193d4-6d78-402a-e541-b29f075b1291"
      },
      "execution_count": 39,
      "outputs": [
        {
          "output_type": "execute_result",
          "data": {
            "text/plain": [
              "<seaborn.axisgrid.FacetGrid at 0x7fa8bd630990>"
            ]
          },
          "metadata": {},
          "execution_count": 39
        },
        {
          "output_type": "display_data",
          "data": {
            "text/plain": [
              "<Figure size 410.875x360 with 1 Axes>"
            ],
            "image/png": "[encoded data removed]"
          },
          "metadata": {
            "needs_background": "light"
          }
        },
        {
          "output_type": "display_data",
          "data": {
            "text/plain": [
              "<Figure size 410.875x360 with 1 Axes>"
            ],
            "image/png": "[encoded data removed]"
          },
          "metadata": {
            "needs_background": "light"
          }
        }
      ]
    },
    {
      "cell_type": "code",
      "source": [
        "sns.heatmap(dataset.corr())\n",
        "dataset.corr()"
      ],
      "metadata": {
        "colab": {
          "base_uri": "https://localhost:8080/",
          "height": 525
        },
        "id": "I9mFyDDxSrNZ",
        "outputId": "7946ba18-00e9-4d28-8601-41d154b748ad"
      },
      "execution_count": 40,
      "outputs": [
        {
          "output_type": "execute_result",
          "data": {
            "text/plain": [
              "                 size_of_data  virtual_address   entropy  virtual_size  \\\n",
              "size_of_data         1.000000        -0.017352 -0.002101      0.986949   \n",
              "virtual_address     -0.017352         1.000000 -0.017900     -0.016843   \n",
              "entropy             -0.002101        -0.017900  1.000000     -0.022811   \n",
              "virtual_size         0.986949        -0.016843 -0.022811      1.000000   \n",
              "malware             -0.007240         0.008876  0.016476     -0.005979   \n",
              "\n",
              "                  malware  \n",
              "size_of_data    -0.007240  \n",
              "virtual_address  0.008876  \n",
              "entropy          0.016476  \n",
              "virtual_size    -0.005979  \n",
              "malware          1.000000  "
            ],
            "text/html": [
              "\n",
              "  <div id=\"df-0b16901b-4ab9-4e4b-8c04-0c4889a1c5c9\">\n",
              "    <div class=\"colab-df-container\">\n",
              "      <div>\n",
              "<style scoped>\n",
              "    .dataframe tbody tr th:only-of-type {\n",
              "        vertical-align: middle;\n",
              "    }\n",
              "\n",
              "    .dataframe tbody tr th {\n",
              "        vertical-align: top;\n",
              "    }\n",
              "\n",
              "    .dataframe thead th {\n",
              "        text-align: right;\n",
              "    }\n",
              "</style>\n",
              "<table border=\"1\" class=\"dataframe\">\n",
              "  <thead>\n",
              "    <tr style=\"text-align: right;\">\n",
              "      <th></th>\n",
              "      <th>size_of_data</th>\n",
              "      <th>virtual_address</th>\n",
              "      <th>entropy</th>\n",
              "      <th>virtual_size</th>\n",
              "      <th>malware</th>\n",
              "    </tr>\n",
              "  </thead>\n",
              "  <tbody>\n",
              "    <tr>\n",
              "      <th>size_of_data</th>\n",
              "      <td>1.000000</td>\n",
              "      <td>-0.017352</td>\n",
              "      <td>-0.002101</td>\n",
              "      <td>0.986949</td>\n",
              "      <td>-0.007240</td>\n",
              "    </tr>\n",
              "    <tr>\n",
              "      <th>virtual_address</th>\n",
              "      <td>-0.017352</td>\n",
              "      <td>1.000000</td>\n",
              "      <td>-0.017900</td>\n",
              "      <td>-0.016843</td>\n",
              "      <td>0.008876</td>\n",
              "    </tr>\n",
              "    <tr>\n",
              "      <th>entropy</th>\n",
              "      <td>-0.002101</td>\n",
              "      <td>-0.017900</td>\n",
              "      <td>1.000000</td>\n",
              "      <td>-0.022811</td>\n",
              "      <td>0.016476</td>\n",
              "    </tr>\n",
              "    <tr>\n",
              "      <th>virtual_size</th>\n",
              "      <td>0.986949</td>\n",
              "      <td>-0.016843</td>\n",
              "      <td>-0.022811</td>\n",
              "      <td>1.000000</td>\n",
              "      <td>-0.005979</td>\n",
              "    </tr>\n",
              "    <tr>\n",
              "      <th>malware</th>\n",
              "      <td>-0.007240</td>\n",
              "      <td>0.008876</td>\n",
              "      <td>0.016476</td>\n",
              "      <td>-0.005979</td>\n",
              "      <td>1.000000</td>\n",
              "    </tr>\n",
              "  </tbody>\n",
              "</table>\n",
              "</div>\n",
              "      <button class=\"colab-df-convert\" onclick=\"convertToInteractive('df-0b16901b-4ab9-4e4b-8c04-0c4889a1c5c9')\"\n",
              "              title=\"Convert this dataframe to an interactive table.\"\n",
              "              style=\"display:none;\">\n",
              "        \n",
              "  <svg xmlns=\"http://www.w3.org/2000/svg\" height=\"24px\"viewBox=\"0 0 24 24\"\n",
              "       width=\"24px\">\n",
              "    <path d=\"M0 0h24v24H0V0z\" fill=\"none\"/>\n",
              "    <path d=\"M18.56 5.44l.94 2.06.94-2.06 2.06-.94-2.06-.94-.94-2.06-.94 2.06-2.06.94zm-11 1L8.5 8.5l.94-2.06 2.06-.94-2.06-.94L8.5 2.5l-.94 2.06-2.06.94zm10 10l.94 2.06.94-2.06 2.06-.94-2.06-.94-.94-2.06-.94 2.06-2.06.94z\"/><path d=\"M17.41 7.96l-1.37-1.37c-.4-.4-.92-.59-1.43-.59-.52 0-1.04.2-1.43.59L10.3 9.45l-7.72 7.72c-.78.78-.78 2.05 0 2.83L4 21.41c.39.39.9.59 1.41.59.51 0 1.02-.2 1.41-.59l7.78-7.78 2.81-2.81c.8-.78.8-2.07 0-2.86zM5.41 20L4 18.59l7.72-7.72 1.47 1.35L5.41 20z\"/>\n",
              "  </svg>\n",
              "      </button>\n",
              "      \n",
              "  <style>\n",
              "    .colab-df-container {\n",
              "      display:flex;\n",
              "      flex-wrap:wrap;\n",
              "      gap: 12px;\n",
              "    }\n",
              "\n",
              "    .colab-df-convert {\n",
              "      background-color: #E8F0FE;\n",
              "      border: none;\n",
              "      border-radius: 50%;\n",
              "      cursor: pointer;\n",
              "      display: none;\n",
              "      fill: #1967D2;\n",
              "      height: 32px;\n",
              "      padding: 0 0 0 0;\n",
              "      width: 32px;\n",
              "    }\n",
              "\n",
              "    .colab-df-convert:hover {\n",
              "      background-color: #E2EBFA;\n",
              "      box-shadow: 0px 1px 2px rgba(60, 64, 67, 0.3), 0px 1px 3px 1px rgba(60, 64, 67, 0.15);\n",
              "      fill: #174EA6;\n",
              "    }\n",
              "\n",
              "    [theme=dark] .colab-df-convert {\n",
              "      background-color: #3B4455;\n",
              "      fill: #D2E3FC;\n",
              "    }\n",
              "\n",
              "    [theme=dark] .colab-df-convert:hover {\n",
              "      background-color: #434B5C;\n",
              "      box-shadow: 0px 1px 3px 1px rgba(0, 0, 0, 0.15);\n",
              "      filter: drop-shadow(0px 1px 2px rgba(0, 0, 0, 0.3));\n",
              "      fill: #FFFFFF;\n",
              "    }\n",
              "  </style>\n",
              "\n",
              "      <script>\n",
              "        const buttonEl =\n",
              "          document.querySelector('#df-0b16901b-4ab9-4e4b-8c04-0c4889a1c5c9 button.colab-df-convert');\n",
              "        buttonEl.style.display =\n",
              "          google.colab.kernel.accessAllowed ? 'block' : 'none';\n",
              "\n",
              "        async function convertToInteractive(key) {\n",
              "          const element = document.querySelector('#df-0b16901b-4ab9-4e4b-8c04-0c4889a1c5c9');\n",
              "          const dataTable =\n",
              "            await google.colab.kernel.invokeFunction('convertToInteractive',\n",
              "                                                     [key], {});\n",
              "          if (!dataTable) return;\n",
              "\n",
              "          const docLinkHtml = 'Like what you see? Visit the ' +\n",
              "            '<a target=\"_blank\" href=https://colab.research.google.com/notebooks/data_table.ipynb>data table notebook</a>'\n",
              "            + ' to learn more about interactive tables.';\n",
              "          element.innerHTML = '';\n",
              "          dataTable['output_type'] = 'display_data';\n",
              "          await google.colab.output.renderOutput(dataTable, element);\n",
              "          const docLink = document.createElement('div');\n",
              "          docLink.innerHTML = docLinkHtml;\n",
              "          element.appendChild(docLink);\n",
              "        }\n",
              "      </script>\n",
              "    </div>\n",
              "  </div>\n",
              "  "
            ]
          },
          "metadata": {},
          "execution_count": 40
        },
        {
          "output_type": "display_data",
          "data": {
            "text/plain": [
              "<Figure size 432x288 with 2 Axes>"
            ],
            "image/png": "[encoded data removed]"
          },
          "metadata": {
            "needs_background": "light"
          }
        }
      ]
    },
    {
      "cell_type": "code",
      "source": [
        "x=dataset.drop(['malware', 'hash'],axis=1) # 식별자와 정답\n",
        "y=dataset['malware']\n"
      ],
      "metadata": {
        "id": "awLtNk4KSy08"
      },
      "execution_count": 41,
      "outputs": []
    },
    {
      "cell_type": "code",
      "source": [
        "from sklearn.metrics import f1_score, recall_score, accuracy_score\n",
        "from sklearn.metrics import classification_report\n",
        "from sklearn.model_selection import train_test_split\n",
        "from sklearn.preprocessing import StandardScaler #일정한 범위로 스케일링할때\n"
      ],
      "metadata": {
        "id": "sC3fmZVMT4K9"
      },
      "execution_count": 42,
      "outputs": []
    },
    {
      "cell_type": "code",
      "source": [
        "#Split the train and test data (train:test = 8:2)\n",
        "x_train,x_test,y_train,y_test=train_test_split(x,y,test_size=0.2, random_state=2)"
      ],
      "metadata": {
        "id": "kM3r0RVRT9o2"
      },
      "execution_count": 81,
      "outputs": []
    },
    {
      "cell_type": "code",
      "source": [
        "#Feature Scaling\n",
        "sc=StandardScaler()\n",
        "x_train=sc.fit_transform(x_train)\n",
        "x_test=sc.transform(x_test)\n",
        "#fit_transform 주어진데이터를 스케일러의 범위를 맞춤 0~1 사이로??\n",
        "#transform은 fit_ 함수를 토대로 test셋에 적용을 하는데 fit_transform을 test셋으로 다시 적용하면 0~1사이가 아닐수있기때문에\n",
        "#transform만 함\n"
      ],
      "metadata": {
        "id": "RJv3pK0FUOeb"
      },
      "execution_count": 82,
      "outputs": []
    },
    {
      "cell_type": "markdown",
      "source": [
        "# KNN classifier"
      ],
      "metadata": {
        "id": "LFWmCuX5hDdU"
      }
    },
    {
      "cell_type": "code",
      "source": [
        "# KNN classifier 모델 적용\n",
        "from sklearn.neighbors import KNeighborsClassifier\n",
        "kNN = KNeighborsClassifier()\n",
        "kNN.fit(x_train,y_train)\n",
        "y_pred = kNN.predict(x_test)"
      ],
      "metadata": {
        "id": "KbcWNA8pVDFa"
      },
      "execution_count": 83,
      "outputs": []
    },
    {
      "cell_type": "code",
      "source": [
        "from sklearn.metrics import confusion_matrix\n",
        "confmat = confusion_matrix(y_true=y_test, y_pred=y_pred)\n",
        "print(confmat)\n",
        "accuracy = accuracy_score(y_pred, y_test)\n",
        "print('Accuracy: {}'.format(accuracy))\n",
        "print('F1 Score: {}'.format(f1_score(y_test,y_pred,zero_division=1)))\n",
        "print(classification_report(y_test,y_pred))\n",
        "\n",
        "# malware=malware 라고 예측 8251 \n",
        "# 0 양성 1 음성\n"
      ],
      "metadata": {
        "colab": {
          "base_uri": "https://localhost:8080/"
        },
        "id": "AIC9A1-SVmV4",
        "outputId": "9a18adb4-9249-4f5a-bf3c-3e97489d246d"
      },
      "execution_count": 84,
      "outputs": [
        {
          "output_type": "stream",
          "name": "stdout",
          "text": [
            "[[ 120  230]\n",
            " [  70 8239]]\n",
            "Accuracy: 0.9653539669707818\n",
            "F1 Score: 0.9821194421265944\n",
            "              precision    recall  f1-score   support\n",
            "\n",
            "           0       0.63      0.34      0.44       350\n",
            "           1       0.97      0.99      0.98      8309\n",
            "\n",
            "    accuracy                           0.97      8659\n",
            "   macro avg       0.80      0.67      0.71      8659\n",
            "weighted avg       0.96      0.97      0.96      8659\n",
            "\n"
          ]
        }
      ]
    },
    {
      "cell_type": "markdown",
      "source": [
        "# DecisionTreeClassifier"
      ],
      "metadata": {
        "id": "xCy4QkNR576X"
      }
    },
    {
      "cell_type": "code",
      "source": [
        "x_train1,x_test1,y_train1,y_test1=train_test_split(x,y,test_size=0.2, random_state=2)"
      ],
      "metadata": {
        "id": "2MJa5vIsnkA9"
      },
      "execution_count": 85,
      "outputs": []
    },
    {
      "cell_type": "code",
      "source": [
        "#Feature Scaling\n",
        "sc=StandardScaler()\n",
        "x_train1=sc.fit_transform(x_train1)\n",
        "x_test1=sc.transform(x_test1)\n",
        "#fit_transform 주어진데이터를 스케일러의 범위를 맞춤 0~1 사이로??\n",
        "#transform은 fit_ 함수를 토대로 test셋에 적용을 하는데 fit_transform을 test셋으로 다시 적용하면 0~1사이가 아닐수있기때문에\n",
        "#transform만 함"
      ],
      "metadata": {
        "id": "ysWAtYXcnmzN"
      },
      "execution_count": 86,
      "outputs": []
    },
    {
      "cell_type": "code",
      "source": [
        "from sklearn.tree import DecisionTreeClassifier\n",
        "\n",
        "DecisionTree=DecisionTreeClassifier()\n",
        "DecisionTree.fit(x_train1, y_train1)\n",
        "y_pred1=DecisionTree.predict(x_test1)"
      ],
      "metadata": {
        "id": "JmuxamaylkOH"
      },
      "execution_count": 87,
      "outputs": []
    },
    {
      "cell_type": "code",
      "source": [
        "confmat = confusion_matrix(y_true=y_test1, y_pred=y_pred1)\n",
        "print(confmat)\n",
        "accuracy = accuracy_score(y_pred1, y_test1)\n",
        "print('Accuracy: {}'.format(accuracy))\n",
        "print('F1 Score: {}'.format(f1_score(y_test1,y_pred1,zero_division=1)))\n",
        "print(classification_report(y_test1,y_pred1))"
      ],
      "metadata": {
        "colab": {
          "base_uri": "https://localhost:8080/"
        },
        "id": "WAq-Q10Yl1CC",
        "outputId": "89ea223b-d6e7-455a-fc5d-408008663946"
      },
      "execution_count": 88,
      "outputs": [
        {
          "output_type": "stream",
          "name": "stdout",
          "text": [
            "[[ 173  177]\n",
            " [ 170 8139]]\n",
            "Accuracy: 0.959926088462871\n",
            "F1 Score: 0.9791278195488723\n",
            "              precision    recall  f1-score   support\n",
            "\n",
            "           0       0.50      0.49      0.50       350\n",
            "           1       0.98      0.98      0.98      8309\n",
            "\n",
            "    accuracy                           0.96      8659\n",
            "   macro avg       0.74      0.74      0.74      8659\n",
            "weighted avg       0.96      0.96      0.96      8659\n",
            "\n"
          ]
        }
      ]
    },
    {
      "cell_type": "markdown",
      "source": [
        "# RandomForestClassifier"
      ],
      "metadata": {
        "id": "y_sGnu1U6DSC"
      }
    },
    {
      "cell_type": "code",
      "source": [
        "x_train2,x_test2,y_train2,y_test2=train_test_split(x,y,test_size=0.2, random_state=2)"
      ],
      "metadata": {
        "id": "_W_2dXJO2yUx"
      },
      "execution_count": 89,
      "outputs": []
    },
    {
      "cell_type": "code",
      "source": [
        "#Feature Scaling\n",
        "sc=StandardScaler()\n",
        "x_train2=sc.fit_transform(x_train2)\n",
        "x_test2=sc.transform(x_test2)"
      ],
      "metadata": {
        "id": "RYJ9bK9a3EQA"
      },
      "execution_count": 90,
      "outputs": []
    },
    {
      "cell_type": "code",
      "source": [
        "from sklearn.ensemble import RandomForestClassifier\n",
        "RandomF=RandomForestClassifier()\n",
        "RandomF.fit(x_train2, y_train2)\n",
        "y_pred2=RandomF.predict(x_test2)"
      ],
      "metadata": {
        "id": "gRIWAEWnl6AD"
      },
      "execution_count": 91,
      "outputs": []
    },
    {
      "cell_type": "code",
      "source": [
        "confmat = confusion_matrix(y_true=y_test2, y_pred=y_pred2)\n",
        "print(confmat)\n",
        "accuracy = accuracy_score(y_pred2, y_test2)\n",
        "print('Accuracy: {}'.format(accuracy))\n",
        "print('F1 Score: {}'.format(f1_score(y_test2,y_pred2,zero_division=1)))\n",
        "print(classification_report(y_test2,y_pred2))"
      ],
      "metadata": {
        "colab": {
          "base_uri": "https://localhost:8080/"
        },
        "id": "6RrW3c923Kcq",
        "outputId": "c7ce6b90-19b2-4a1d-b321-3f81e9dbf75a"
      },
      "execution_count": 92,
      "outputs": [
        {
          "output_type": "stream",
          "name": "stdout",
          "text": [
            "[[ 156  194]\n",
            " [  66 8243]]\n",
            "Accuracy: 0.9699734380413443\n",
            "F1 Score: 0.9844739042159321\n",
            "              precision    recall  f1-score   support\n",
            "\n",
            "           0       0.70      0.45      0.55       350\n",
            "           1       0.98      0.99      0.98      8309\n",
            "\n",
            "    accuracy                           0.97      8659\n",
            "   macro avg       0.84      0.72      0.76      8659\n",
            "weighted avg       0.97      0.97      0.97      8659\n",
            "\n"
          ]
        }
      ]
    },
    {
      "cell_type": "markdown",
      "source": [
        "# MLPClassifier"
      ],
      "metadata": {
        "id": "qqJ6zSng6Inb"
      }
    },
    {
      "cell_type": "code",
      "source": [
        "x_train3,x_test3,y_train3,y_test3=train_test_split(x,y,test_size=0.2, random_state=2)"
      ],
      "metadata": {
        "id": "NfRGRbaR2w15"
      },
      "execution_count": 93,
      "outputs": []
    },
    {
      "cell_type": "code",
      "source": [
        "#Feature Scaling\n",
        "sc=StandardScaler()\n",
        "x_train3=sc.fit_transform(x_train3)\n",
        "x_test3=sc.transform(x_test3)"
      ],
      "metadata": {
        "id": "B9VraEOH3fic"
      },
      "execution_count": 94,
      "outputs": []
    },
    {
      "cell_type": "code",
      "source": [
        "from sklearn.neural_network import MLPClassifier\n",
        "MLPC=MLPClassifier()\n",
        "MLPC.fit(x_train3, y_train3)\n",
        "y_pred3=MLPC.predict(x_test3)"
      ],
      "metadata": {
        "id": "URIplMiS3fbD"
      },
      "execution_count": 95,
      "outputs": []
    },
    {
      "cell_type": "code",
      "source": [
        "confmat = confusion_matrix(y_true=y_test3, y_pred=y_pred3)\n",
        "print(confmat)\n",
        "accuracy = accuracy_score(y_pred3, y_test3)\n",
        "print('Accuracy: {}'.format(accuracy))\n",
        "print('F1 Score: {}'.format(f1_score(y_test3,y_pred3,zero_division=1)))\n",
        "print(classification_report(y_test3,y_pred3))"
      ],
      "metadata": {
        "colab": {
          "base_uri": "https://localhost:8080/"
        },
        "id": "cML9THEF31Zn",
        "outputId": "b9f85cad-6616-44bd-971a-1d04e47a2920"
      },
      "execution_count": 96,
      "outputs": [
        {
          "output_type": "stream",
          "name": "stdout",
          "text": [
            "[[   5  345]\n",
            " [   5 8304]]\n",
            "Accuracy: 0.9595796281325788\n",
            "F1 Score: 0.979360773676141\n",
            "              precision    recall  f1-score   support\n",
            "\n",
            "           0       0.50      0.01      0.03       350\n",
            "           1       0.96      1.00      0.98      8309\n",
            "\n",
            "    accuracy                           0.96      8659\n",
            "   macro avg       0.73      0.51      0.50      8659\n",
            "weighted avg       0.94      0.96      0.94      8659\n",
            "\n"
          ]
        }
      ]
    },
    {
      "cell_type": "markdown",
      "source": [
        "# ROC Curve"
      ],
      "metadata": {
        "id": "pboyQBL_5mkm"
      }
    },
    {
      "cell_type": "code",
      "source": [
        "from sklearn.metrics import roc_curve\n",
        "from sklearn.metrics import auc\n",
        "import matplotlib.pyplot as plt"
      ],
      "metadata": {
        "id": "ay05Hs0q5qqC"
      },
      "execution_count": 97,
      "outputs": []
    },
    {
      "cell_type": "code",
      "source": [
        "# predict 는 0과 1\n",
        "# predict_proba는 0과 1사이의 스코어로 받을 수 있음\n",
        "# roc와 auc 그래프 그려보기\n",
        "# y_scores[:, 1] 두개가나옴 -> 0클래스에 대한 스코어, 1클래스에 대한 스코어 2개가 나오기때문에\n",
        "# 우리가 얼마나 악성코드에 가까운 스코어가 필요하기 때문에 0번은 버리고 모든샘플에 대해서 1번만\n",
        "\n",
        "#roc curve 그리기\n",
        "y_scores = kNN.predict_proba(x_test)\n",
        "y_scores1=DecisionTree.predict_proba(x_test1)\n",
        "y_scores2=RandomF.predict_proba(x_test2)\n",
        "y_scores3=MLPC.predict_proba(x_test3)\n",
        "fpr, tpr, threshold = roc_curve(y_test, y_scores[:, 1])\n",
        "fpr1, tpr1, threshold1 = roc_curve(y_test1, y_scores1[:, 1])\n",
        "fpr2, tpr2, threshold2 = roc_curve(y_test2, y_scores2[:, 1])\n",
        "fpr3, tpr3, threshold3 = roc_curve(y_test3, y_scores3[:, 1])\n",
        "\n",
        "roc_auc = auc(fpr, tpr)\n",
        "roc_auc1=auc(fpr1, tpr1)\n",
        "roc_auc2=auc(fpr2, tpr2)\n",
        "roc_auc3=auc(fpr3, tpr3)\n",
        "\n",
        "plt.title('Receiver Operating Characteristic')\n",
        "plt.plot(fpr, tpr, label = 'KNN AUC = %0.2f' % roc_auc)\n",
        "plt.plot(fpr1, tpr1, label='D.T AUC1=%0.2f'%roc_auc1)\n",
        "plt.plot(fpr2, tpr2, label = 'R.F AUC2 = %0.2f' % roc_auc2)\n",
        "plt.plot(fpr3, tpr3, label = 'MLP AUC3 = %0.2f' % roc_auc3)\n",
        "plt.legend(loc = 'lower right')\n",
        "plt.plot([0, 1], [0, 1],'r--')\n",
        "plt.xlim([0, 1])\n",
        "plt.ylim([0, 1])\n",
        "plt.ylabel('True Positive Rate')\n",
        "plt.xlabel('False Positive Rate')\n",
        "plt.title('ROC Curve of kNN')\n",
        "plt.show()\n"
      ],
      "metadata": {
        "colab": {
          "base_uri": "https://localhost:8080/",
          "height": 295
        },
        "id": "WmVkc5fK4DK9",
        "outputId": "c8e4bb46-7a31-4418-eb32-6ab482b69d00"
      },
      "execution_count": 100,
      "outputs": [
        {
          "output_type": "display_data",
          "data": {
            "text/plain": [
              "<Figure size 432x288 with 1 Axes>"
            ],
            "image/png": "[encoded data removed]"
          },
          "metadata": {
            "needs_background": "light"
          }
        }
      ]
    },
    {
      "cell_type": "code",
      "source": [],
      "metadata": {
        "id": "fOjk4Jxx5L96"
      },
      "execution_count": null,
      "outputs": []
    }
  ]
}