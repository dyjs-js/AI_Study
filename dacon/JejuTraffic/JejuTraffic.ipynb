{
  "nbformat": 4,
  "nbformat_minor": 0,
  "metadata": {
    "colab": {
      "provenance": [],
      "toc_visible": true,
      "authorship_tag": "ABX9TyNSqNupVKcGNoRaeVSryZgz",
      "include_colab_link": true
    },
    "kernelspec": {
      "name": "python3",
      "display_name": "Python 3"
    },
    "language_info": {
      "name": "python"
    }
  },
  "cells": [
    {
      "cell_type": "markdown",
      "metadata": {
        "id": "view-in-github",
        "colab_type": "text"
      },
      "source": [
        "<a href=\"https://colab.research.google.com/github/dyjs-js/DaconStudy/blob/main/dacon/JejuTraffic/JejuTraffic.ipynb\" target=\"_parent\"><img src=\"https://colab.research.google.com/assets/colab-badge.svg\" alt=\"Open In Colab\"/></a>"
      ]
    },
    {
      "cell_type": "code",
      "source": [
        "import matplotlib.font_manager as fm\n",
        "\n",
        "!apt-get -qq -y install fonts-nanum > /dev/null\n",
        "fontpath = '/usr/share/fonts/truetype/nanum/NanumBarunGothic.ttf'\n",
        "font = fm.FontProperties(fname=fontpath, size=9)\n",
        "fm._rebuild()"
      ],
      "metadata": {
        "id": "tec9vkL0wGYG"
      },
      "execution_count": 1,
      "outputs": []
    },
    {
      "cell_type": "code",
      "source": [
        "# 단계 2: 런타임 재시작\n",
        "import os\n",
        "os.kill(os.getpid(), 9)"
      ],
      "metadata": {
        "id": "gZNLKRU0wHUs"
      },
      "execution_count": null,
      "outputs": []
    },
    {
      "cell_type": "code",
      "source": [
        "# 단계 3: 한글 폰트 설정\n",
        "import matplotlib.pyplot as plt\n",
        "import matplotlib as mpl\n",
        "import matplotlib.font_manager as fm\n",
        "\n",
        "# 마이너스 표시 문제\n",
        "mpl.rcParams['axes.unicode_minus'] = False\n",
        "\t\n",
        "# 한글 폰트 설정\n",
        "path = '/usr/share/fonts/truetype/nanum/NanumGothicBold.ttf'\n",
        "font_name = fm.FontProperties(fname=path, size=18).get_name()\n",
        "plt.rc('font', family=font_name)\n",
        "fm._rebuild()"
      ],
      "metadata": {
        "id": "oay9CdvswImx"
      },
      "execution_count": 1,
      "outputs": []
    },
    {
      "cell_type": "code",
      "source": [
        "from google.colab import drive\n",
        "drive.mount('/gdrive')\n"
      ],
      "metadata": {
        "colab": {
          "base_uri": "https://localhost:8080/"
        },
        "id": "AlJCHrSQrWFx",
        "outputId": "bc7392ae-ae37-402e-e719-0645ab1d92ac"
      },
      "execution_count": 2,
      "outputs": [
        {
          "output_type": "stream",
          "name": "stdout",
          "text": [
            "Drive already mounted at /gdrive; to attempt to forcibly remount, call drive.mount(\"/gdrive\", force_remount=True).\n"
          ]
        }
      ]
    },
    {
      "cell_type": "code",
      "source": [
        "!pwd"
      ],
      "metadata": {
        "colab": {
          "base_uri": "https://localhost:8080/"
        },
        "id": "lKAw6Ew-r6wm",
        "outputId": "1b75250e-aaf1-4baa-b133-e55a6d035571"
      },
      "execution_count": 3,
      "outputs": [
        {
          "output_type": "stream",
          "name": "stdout",
          "text": [
            "/content\n"
          ]
        }
      ]
    },
    {
      "cell_type": "code",
      "source": [
        "!unzip -uq \"/gdrive/MyDrive/data/jejuTraffic/open.zip\" -d\"/content\""
      ],
      "metadata": {
        "id": "fT8ku3zJrYQq"
      },
      "execution_count": 4,
      "outputs": []
    },
    {
      "cell_type": "code",
      "source": [
        "import pandas as pd\n",
        "import matplotlib.pyplot as plt\n",
        "import seaborn as sns\n",
        "from sklearn.model_selection import train_test_split\n",
        "import numpy as np\n",
        "import gc\n"
      ],
      "metadata": {
        "id": "DnWbaUG1sOZ5"
      },
      "execution_count": 20,
      "outputs": []
    },
    {
      "cell_type": "markdown",
      "source": [
        "#csv to parquet\n",
        "-> 메모리에 효율적인 데이터 유형을 사용하여 용량을 크게 줄이고 빠른 작업이 가능합니다."
      ],
      "metadata": {
        "id": "7z8mausSvXYR"
      }
    },
    {
      "cell_type": "code",
      "source": [
        "def csv_to_parquet(csv_path, save_name):\n",
        "    df = pd.read_csv(csv_path)\n",
        "    df.to_parquet(f'./{save_name}.parquet')\n",
        "    del df\n",
        "    gc.collect()\n",
        "    print(save_name, 'Done.')"
      ],
      "metadata": {
        "id": "qnKlX3icvdya"
      },
      "execution_count": 6,
      "outputs": []
    },
    {
      "cell_type": "code",
      "source": [
        "csv_to_parquet('./open/train.csv', 'train')\n",
        "csv_to_parquet('./open/test.csv', 'test')"
      ],
      "metadata": {
        "colab": {
          "base_uri": "https://localhost:8080/"
        },
        "id": "iHUNC2yPv7lx",
        "outputId": "05cdd517-b2b0-4705-9980-3912af8c9d41"
      },
      "execution_count": 7,
      "outputs": [
        {
          "output_type": "stream",
          "name": "stdout",
          "text": [
            "train Done.\n",
            "test Done.\n"
          ]
        }
      ]
    },
    {
      "cell_type": "code",
      "source": [
        "train = pd.read_parquet('./train.parquet')\n",
        "test = pd.read_parquet('./test.parquet')"
      ],
      "metadata": {
        "id": "s8mjNTWGwmz8"
      },
      "execution_count": 8,
      "outputs": []
    },
    {
      "cell_type": "markdown",
      "source": [
        "#데이터 살펴보기"
      ],
      "metadata": {
        "id": "2BNir_pWsxfl"
      }
    },
    {
      "cell_type": "code",
      "source": [
        "info=pd.read_csv('open/data_info.csv')\n",
        "smpl_sub=pd.read_csv('open/sample_submission.csv')"
      ],
      "metadata": {
        "id": "HzW5KGWAswVu"
      },
      "execution_count": 9,
      "outputs": []
    },
    {
      "cell_type": "code",
      "source": [
        "info"
      ],
      "metadata": {
        "colab": {
          "base_uri": "https://localhost:8080/",
          "height": 802
        },
        "id": "JiPNc2lrua07",
        "outputId": "8c6b4b50-e71b-4845-a7b6-a393ab579a58"
      },
      "execution_count": 10,
      "outputs": [
        {
          "output_type": "execute_result",
          "data": {
            "text/plain": [
              "                      변수명           변수 설명\n",
              "0                      id             아이디\n",
              "1               base_date              날짜\n",
              "2             day_of_week              요일\n",
              "3               base_hour             시간대\n",
              "4             road_in_use          도로사용여부\n",
              "5              lane_count             차로수\n",
              "6             road_rating            도로등급\n",
              "7            multi_linked         중용구간 여부\n",
              "8            connect_code          연결로 코드\n",
              "9     maximum_speed_limit          최고속도제한\n",
              "10      weight_restricted          통과제한하중\n",
              "11      height_restricted          통과제한높이\n",
              "12              road_type            도로유형\n",
              "13         start_latitude        시작지점의 위도\n",
              "14        start_longitude        시작지점의 경도\n",
              "15  start_turn_restricted  시작 지점의 회전제한 유무\n",
              "16           end_latitude        도착지점의 위도\n",
              "17          end_longitude        도착지점의 경도\n",
              "18    end_turn_restricted   도작지점의 회전제한 유무\n",
              "19              road_name             도로명\n",
              "20        start_node_name           시작지점명\n",
              "21          end_node_name           도착지점명\n",
              "22     vehicle_restricted          통과제한차량\n",
              "23                 target        평균속도(km)"
            ],
            "text/html": [
              "\n",
              "  <div id=\"df-beb75bf2-9980-4c9c-936c-cbe68b58d02c\">\n",
              "    <div class=\"colab-df-container\">\n",
              "      <div>\n",
              "<style scoped>\n",
              "    .dataframe tbody tr th:only-of-type {\n",
              "        vertical-align: middle;\n",
              "    }\n",
              "\n",
              "    .dataframe tbody tr th {\n",
              "        vertical-align: top;\n",
              "    }\n",
              "\n",
              "    .dataframe thead th {\n",
              "        text-align: right;\n",
              "    }\n",
              "</style>\n",
              "<table border=\"1\" class=\"dataframe\">\n",
              "  <thead>\n",
              "    <tr style=\"text-align: right;\">\n",
              "      <th></th>\n",
              "      <th>변수명</th>\n",
              "      <th>변수 설명</th>\n",
              "    </tr>\n",
              "  </thead>\n",
              "  <tbody>\n",
              "    <tr>\n",
              "      <th>0</th>\n",
              "      <td>id</td>\n",
              "      <td>아이디</td>\n",
              "    </tr>\n",
              "    <tr>\n",
              "      <th>1</th>\n",
              "      <td>base_date</td>\n",
              "      <td>날짜</td>\n",
              "    </tr>\n",
              "    <tr>\n",
              "      <th>2</th>\n",
              "      <td>day_of_week</td>\n",
              "      <td>요일</td>\n",
              "    </tr>\n",
              "    <tr>\n",
              "      <th>3</th>\n",
              "      <td>base_hour</td>\n",
              "      <td>시간대</td>\n",
              "    </tr>\n",
              "    <tr>\n",
              "      <th>4</th>\n",
              "      <td>road_in_use</td>\n",
              "      <td>도로사용여부</td>\n",
              "    </tr>\n",
              "    <tr>\n",
              "      <th>5</th>\n",
              "      <td>lane_count</td>\n",
              "      <td>차로수</td>\n",
              "    </tr>\n",
              "    <tr>\n",
              "      <th>6</th>\n",
              "      <td>road_rating</td>\n",
              "      <td>도로등급</td>\n",
              "    </tr>\n",
              "    <tr>\n",
              "      <th>7</th>\n",
              "      <td>multi_linked</td>\n",
              "      <td>중용구간 여부</td>\n",
              "    </tr>\n",
              "    <tr>\n",
              "      <th>8</th>\n",
              "      <td>connect_code</td>\n",
              "      <td>연결로 코드</td>\n",
              "    </tr>\n",
              "    <tr>\n",
              "      <th>9</th>\n",
              "      <td>maximum_speed_limit</td>\n",
              "      <td>최고속도제한</td>\n",
              "    </tr>\n",
              "    <tr>\n",
              "      <th>10</th>\n",
              "      <td>weight_restricted</td>\n",
              "      <td>통과제한하중</td>\n",
              "    </tr>\n",
              "    <tr>\n",
              "      <th>11</th>\n",
              "      <td>height_restricted</td>\n",
              "      <td>통과제한높이</td>\n",
              "    </tr>\n",
              "    <tr>\n",
              "      <th>12</th>\n",
              "      <td>road_type</td>\n",
              "      <td>도로유형</td>\n",
              "    </tr>\n",
              "    <tr>\n",
              "      <th>13</th>\n",
              "      <td>start_latitude</td>\n",
              "      <td>시작지점의 위도</td>\n",
              "    </tr>\n",
              "    <tr>\n",
              "      <th>14</th>\n",
              "      <td>start_longitude</td>\n",
              "      <td>시작지점의 경도</td>\n",
              "    </tr>\n",
              "    <tr>\n",
              "      <th>15</th>\n",
              "      <td>start_turn_restricted</td>\n",
              "      <td>시작 지점의 회전제한 유무</td>\n",
              "    </tr>\n",
              "    <tr>\n",
              "      <th>16</th>\n",
              "      <td>end_latitude</td>\n",
              "      <td>도착지점의 위도</td>\n",
              "    </tr>\n",
              "    <tr>\n",
              "      <th>17</th>\n",
              "      <td>end_longitude</td>\n",
              "      <td>도착지점의 경도</td>\n",
              "    </tr>\n",
              "    <tr>\n",
              "      <th>18</th>\n",
              "      <td>end_turn_restricted</td>\n",
              "      <td>도작지점의 회전제한 유무</td>\n",
              "    </tr>\n",
              "    <tr>\n",
              "      <th>19</th>\n",
              "      <td>road_name</td>\n",
              "      <td>도로명</td>\n",
              "    </tr>\n",
              "    <tr>\n",
              "      <th>20</th>\n",
              "      <td>start_node_name</td>\n",
              "      <td>시작지점명</td>\n",
              "    </tr>\n",
              "    <tr>\n",
              "      <th>21</th>\n",
              "      <td>end_node_name</td>\n",
              "      <td>도착지점명</td>\n",
              "    </tr>\n",
              "    <tr>\n",
              "      <th>22</th>\n",
              "      <td>vehicle_restricted</td>\n",
              "      <td>통과제한차량</td>\n",
              "    </tr>\n",
              "    <tr>\n",
              "      <th>23</th>\n",
              "      <td>target</td>\n",
              "      <td>평균속도(km)</td>\n",
              "    </tr>\n",
              "  </tbody>\n",
              "</table>\n",
              "</div>\n",
              "      <button class=\"colab-df-convert\" onclick=\"convertToInteractive('df-beb75bf2-9980-4c9c-936c-cbe68b58d02c')\"\n",
              "              title=\"Convert this dataframe to an interactive table.\"\n",
              "              style=\"display:none;\">\n",
              "        \n",
              "  <svg xmlns=\"http://www.w3.org/2000/svg\" height=\"24px\"viewBox=\"0 0 24 24\"\n",
              "       width=\"24px\">\n",
              "    <path d=\"M0 0h24v24H0V0z\" fill=\"none\"/>\n",
              "    <path d=\"M18.56 5.44l.94 2.06.94-2.06 2.06-.94-2.06-.94-.94-2.06-.94 2.06-2.06.94zm-11 1L8.5 8.5l.94-2.06 2.06-.94-2.06-.94L8.5 2.5l-.94 2.06-2.06.94zm10 10l.94 2.06.94-2.06 2.06-.94-2.06-.94-.94-2.06-.94 2.06-2.06.94z\"/><path d=\"M17.41 7.96l-1.37-1.37c-.4-.4-.92-.59-1.43-.59-.52 0-1.04.2-1.43.59L10.3 9.45l-7.72 7.72c-.78.78-.78 2.05 0 2.83L4 21.41c.39.39.9.59 1.41.59.51 0 1.02-.2 1.41-.59l7.78-7.78 2.81-2.81c.8-.78.8-2.07 0-2.86zM5.41 20L4 18.59l7.72-7.72 1.47 1.35L5.41 20z\"/>\n",
              "  </svg>\n",
              "      </button>\n",
              "      \n",
              "  <style>\n",
              "    .colab-df-container {\n",
              "      display:flex;\n",
              "      flex-wrap:wrap;\n",
              "      gap: 12px;\n",
              "    }\n",
              "\n",
              "    .colab-df-convert {\n",
              "      background-color: #E8F0FE;\n",
              "      border: none;\n",
              "      border-radius: 50%;\n",
              "      cursor: pointer;\n",
              "      display: none;\n",
              "      fill: #1967D2;\n",
              "      height: 32px;\n",
              "      padding: 0 0 0 0;\n",
              "      width: 32px;\n",
              "    }\n",
              "\n",
              "    .colab-df-convert:hover {\n",
              "      background-color: #E2EBFA;\n",
              "      box-shadow: 0px 1px 2px rgba(60, 64, 67, 0.3), 0px 1px 3px 1px rgba(60, 64, 67, 0.15);\n",
              "      fill: #174EA6;\n",
              "    }\n",
              "\n",
              "    [theme=dark] .colab-df-convert {\n",
              "      background-color: #3B4455;\n",
              "      fill: #D2E3FC;\n",
              "    }\n",
              "\n",
              "    [theme=dark] .colab-df-convert:hover {\n",
              "      background-color: #434B5C;\n",
              "      box-shadow: 0px 1px 3px 1px rgba(0, 0, 0, 0.15);\n",
              "      filter: drop-shadow(0px 1px 2px rgba(0, 0, 0, 0.3));\n",
              "      fill: #FFFFFF;\n",
              "    }\n",
              "  </style>\n",
              "\n",
              "      <script>\n",
              "        const buttonEl =\n",
              "          document.querySelector('#df-beb75bf2-9980-4c9c-936c-cbe68b58d02c button.colab-df-convert');\n",
              "        buttonEl.style.display =\n",
              "          google.colab.kernel.accessAllowed ? 'block' : 'none';\n",
              "\n",
              "        async function convertToInteractive(key) {\n",
              "          const element = document.querySelector('#df-beb75bf2-9980-4c9c-936c-cbe68b58d02c');\n",
              "          const dataTable =\n",
              "            await google.colab.kernel.invokeFunction('convertToInteractive',\n",
              "                                                     [key], {});\n",
              "          if (!dataTable) return;\n",
              "\n",
              "          const docLinkHtml = 'Like what you see? Visit the ' +\n",
              "            '<a target=\"_blank\" href=https://colab.research.google.com/notebooks/data_table.ipynb>data table notebook</a>'\n",
              "            + ' to learn more about interactive tables.';\n",
              "          element.innerHTML = '';\n",
              "          dataTable['output_type'] = 'display_data';\n",
              "          await google.colab.output.renderOutput(dataTable, element);\n",
              "          const docLink = document.createElement('div');\n",
              "          docLink.innerHTML = docLinkHtml;\n",
              "          element.appendChild(docLink);\n",
              "        }\n",
              "      </script>\n",
              "    </div>\n",
              "  </div>\n",
              "  "
            ]
          },
          "metadata": {},
          "execution_count": 10
        }
      ]
    },
    {
      "cell_type": "code",
      "source": [
        "print(train.shape)\n",
        "print(test.shape)"
      ],
      "metadata": {
        "colab": {
          "base_uri": "https://localhost:8080/"
        },
        "id": "Tw-jgWnhs9Gg",
        "outputId": "e94c75d3-4aaa-46c8-ab0f-97bc55ebc07d"
      },
      "execution_count": 11,
      "outputs": [
        {
          "output_type": "stream",
          "name": "stdout",
          "text": [
            "(4701217, 23)\n",
            "(291241, 22)\n"
          ]
        }
      ]
    },
    {
      "cell_type": "code",
      "source": [
        "train.info()"
      ],
      "metadata": {
        "colab": {
          "base_uri": "https://localhost:8080/"
        },
        "id": "W6qD2pGmtEu8",
        "outputId": "c691b3b5-49af-4bc2-879f-9c6f72e92a7c"
      },
      "execution_count": 12,
      "outputs": [
        {
          "output_type": "stream",
          "name": "stdout",
          "text": [
            "<class 'pandas.core.frame.DataFrame'>\n",
            "RangeIndex: 4701217 entries, 0 to 4701216\n",
            "Data columns (total 23 columns):\n",
            " #   Column                 Dtype  \n",
            "---  ------                 -----  \n",
            " 0   id                     object \n",
            " 1   base_date              int64  \n",
            " 2   day_of_week            object \n",
            " 3   base_hour              int64  \n",
            " 4   lane_count             int64  \n",
            " 5   road_rating            int64  \n",
            " 6   road_name              object \n",
            " 7   multi_linked           int64  \n",
            " 8   connect_code           int64  \n",
            " 9   maximum_speed_limit    float64\n",
            " 10  vehicle_restricted     float64\n",
            " 11  weight_restricted      float64\n",
            " 12  height_restricted      float64\n",
            " 13  road_type              int64  \n",
            " 14  start_node_name        object \n",
            " 15  start_latitude         float64\n",
            " 16  start_longitude        float64\n",
            " 17  start_turn_restricted  object \n",
            " 18  end_node_name          object \n",
            " 19  end_latitude           float64\n",
            " 20  end_longitude          float64\n",
            " 21  end_turn_restricted    object \n",
            " 22  target                 float64\n",
            "dtypes: float64(9), int64(7), object(7)\n",
            "memory usage: 825.0+ MB\n"
          ]
        }
      ]
    },
    {
      "cell_type": "code",
      "source": [
        "test.info()"
      ],
      "metadata": {
        "colab": {
          "base_uri": "https://localhost:8080/"
        },
        "id": "I3CF6SEqtHUl",
        "outputId": "653ee00b-5de2-430f-82b8-682c2d46fac2"
      },
      "execution_count": 13,
      "outputs": [
        {
          "output_type": "stream",
          "name": "stdout",
          "text": [
            "<class 'pandas.core.frame.DataFrame'>\n",
            "RangeIndex: 291241 entries, 0 to 291240\n",
            "Data columns (total 22 columns):\n",
            " #   Column                 Non-Null Count   Dtype  \n",
            "---  ------                 --------------   -----  \n",
            " 0   id                     291241 non-null  object \n",
            " 1   base_date              291241 non-null  int64  \n",
            " 2   day_of_week            291241 non-null  object \n",
            " 3   base_hour              291241 non-null  int64  \n",
            " 4   lane_count             291241 non-null  int64  \n",
            " 5   road_rating            291241 non-null  int64  \n",
            " 6   road_name              291241 non-null  object \n",
            " 7   multi_linked           291241 non-null  int64  \n",
            " 8   connect_code           291241 non-null  int64  \n",
            " 9   maximum_speed_limit    291241 non-null  float64\n",
            " 10  vehicle_restricted     291241 non-null  float64\n",
            " 11  weight_restricted      291241 non-null  float64\n",
            " 12  height_restricted      291241 non-null  float64\n",
            " 13  road_type              291241 non-null  int64  \n",
            " 14  start_node_name        291241 non-null  object \n",
            " 15  start_latitude         291241 non-null  float64\n",
            " 16  start_longitude        291241 non-null  float64\n",
            " 17  start_turn_restricted  291241 non-null  object \n",
            " 18  end_node_name          291241 non-null  object \n",
            " 19  end_latitude           291241 non-null  float64\n",
            " 20  end_longitude          291241 non-null  float64\n",
            " 21  end_turn_restricted    291241 non-null  object \n",
            "dtypes: float64(8), int64(7), object(7)\n",
            "memory usage: 48.9+ MB\n"
          ]
        }
      ]
    },
    {
      "cell_type": "markdown",
      "source": [
        "##널 값 확인"
      ],
      "metadata": {
        "id": "MFI2pxPCtNuN"
      }
    },
    {
      "cell_type": "code",
      "source": [
        "train.isnull().sum()"
      ],
      "metadata": {
        "colab": {
          "base_uri": "https://localhost:8080/"
        },
        "id": "6DQGOBD1tJP1",
        "outputId": "91dd692e-4a01-4bf6-ebbb-0a0878b675ab"
      },
      "execution_count": 14,
      "outputs": [
        {
          "output_type": "execute_result",
          "data": {
            "text/plain": [
              "id                       0\n",
              "base_date                0\n",
              "day_of_week              0\n",
              "base_hour                0\n",
              "lane_count               0\n",
              "road_rating              0\n",
              "road_name                0\n",
              "multi_linked             0\n",
              "connect_code             0\n",
              "maximum_speed_limit      0\n",
              "vehicle_restricted       0\n",
              "weight_restricted        0\n",
              "height_restricted        0\n",
              "road_type                0\n",
              "start_node_name          0\n",
              "start_latitude           0\n",
              "start_longitude          0\n",
              "start_turn_restricted    0\n",
              "end_node_name            0\n",
              "end_latitude             0\n",
              "end_longitude            0\n",
              "end_turn_restricted      0\n",
              "target                   0\n",
              "dtype: int64"
            ]
          },
          "metadata": {},
          "execution_count": 14
        }
      ]
    },
    {
      "cell_type": "code",
      "source": [
        "test.isnull().sum()"
      ],
      "metadata": {
        "colab": {
          "base_uri": "https://localhost:8080/"
        },
        "id": "spdlqa1xtQuY",
        "outputId": "1bfa4c73-36c7-489e-9771-ad5875f519c4"
      },
      "execution_count": 15,
      "outputs": [
        {
          "output_type": "execute_result",
          "data": {
            "text/plain": [
              "id                       0\n",
              "base_date                0\n",
              "day_of_week              0\n",
              "base_hour                0\n",
              "lane_count               0\n",
              "road_rating              0\n",
              "road_name                0\n",
              "multi_linked             0\n",
              "connect_code             0\n",
              "maximum_speed_limit      0\n",
              "vehicle_restricted       0\n",
              "weight_restricted        0\n",
              "height_restricted        0\n",
              "road_type                0\n",
              "start_node_name          0\n",
              "start_latitude           0\n",
              "start_longitude          0\n",
              "start_turn_restricted    0\n",
              "end_node_name            0\n",
              "end_latitude             0\n",
              "end_longitude            0\n",
              "end_turn_restricted      0\n",
              "dtype: int64"
            ]
          },
          "metadata": {},
          "execution_count": 15
        }
      ]
    },
    {
      "cell_type": "code",
      "source": [
        "train.head()\n",
        "#day_of_week road_name start_turn_restricted end_turn_restricted -> 라벨인코더"
      ],
      "metadata": {
        "colab": {
          "base_uri": "https://localhost:8080/",
          "height": 369
        },
        "id": "bb784HcctV8X",
        "outputId": "8a674aea-ec6b-4d98-c9b9-7979fae5c39e"
      },
      "execution_count": 16,
      "outputs": [
        {
          "output_type": "execute_result",
          "data": {
            "text/plain": [
              "              id  base_date day_of_week  base_hour  lane_count  road_rating  \\\n",
              "0  TRAIN_0000000   20220623           목         17           1          106   \n",
              "1  TRAIN_0000001   20220728           목         21           2          103   \n",
              "2  TRAIN_0000002   20211010           일          7           2          103   \n",
              "3  TRAIN_0000003   20220311           금         13           2          107   \n",
              "4  TRAIN_0000004   20211005           화          8           2          103   \n",
              "\n",
              "   road_name  multi_linked  connect_code  maximum_speed_limit  ...  road_type  \\\n",
              "0  지방도1112호선             0             0                 60.0  ...          3   \n",
              "1   일반국도11호선             0             0                 60.0  ...          0   \n",
              "2   일반국도16호선             0             0                 80.0  ...          0   \n",
              "3        태평로             0             0                 50.0  ...          0   \n",
              "4   일반국도12호선             0             0                 80.0  ...          0   \n",
              "\n",
              "   start_node_name  start_latitude  start_longitude start_turn_restricted  \\\n",
              "0            제3교래교       33.427747       126.662612                    없음   \n",
              "1            광양사거리       33.500730       126.529107                    있음   \n",
              "2             창고천교       33.279145       126.368598                    없음   \n",
              "3            남양리조트       33.246081       126.567204                    없음   \n",
              "4             애월샷시       33.462214       126.326551                    없음   \n",
              "\n",
              "   end_node_name  end_latitude end_longitude end_turn_restricted  target  \n",
              "0          제3교래교     33.427749    126.662335                  없음    52.0  \n",
              "1         KAL사거리     33.504811    126.526240                  없음    30.0  \n",
              "2           상창육교     33.280072    126.362147                  없음    61.0  \n",
              "3           서현주택     33.245565    126.566228                  없음    20.0  \n",
              "4           애월입구     33.462677    126.330152                  없음    38.0  \n",
              "\n",
              "[5 rows x 23 columns]"
            ],
            "text/html": [
              "\n",
              "  <div id=\"df-e330a3a9-ea9d-4c3f-a9fe-6c662ae3f4b6\">\n",
              "    <div class=\"colab-df-container\">\n",
              "      <div>\n",
              "<style scoped>\n",
              "    .dataframe tbody tr th:only-of-type {\n",
              "        vertical-align: middle;\n",
              "    }\n",
              "\n",
              "    .dataframe tbody tr th {\n",
              "        vertical-align: top;\n",
              "    }\n",
              "\n",
              "    .dataframe thead th {\n",
              "        text-align: right;\n",
              "    }\n",
              "</style>\n",
              "<table border=\"1\" class=\"dataframe\">\n",
              "  <thead>\n",
              "    <tr style=\"text-align: right;\">\n",
              "      <th></th>\n",
              "      <th>id</th>\n",
              "      <th>base_date</th>\n",
              "      <th>day_of_week</th>\n",
              "      <th>base_hour</th>\n",
              "      <th>lane_count</th>\n",
              "      <th>road_rating</th>\n",
              "      <th>road_name</th>\n",
              "      <th>multi_linked</th>\n",
              "      <th>connect_code</th>\n",
              "      <th>maximum_speed_limit</th>\n",
              "      <th>...</th>\n",
              "      <th>road_type</th>\n",
              "      <th>start_node_name</th>\n",
              "      <th>start_latitude</th>\n",
              "      <th>start_longitude</th>\n",
              "      <th>start_turn_restricted</th>\n",
              "      <th>end_node_name</th>\n",
              "      <th>end_latitude</th>\n",
              "      <th>end_longitude</th>\n",
              "      <th>end_turn_restricted</th>\n",
              "      <th>target</th>\n",
              "    </tr>\n",
              "  </thead>\n",
              "  <tbody>\n",
              "    <tr>\n",
              "      <th>0</th>\n",
              "      <td>TRAIN_0000000</td>\n",
              "      <td>20220623</td>\n",
              "      <td>목</td>\n",
              "      <td>17</td>\n",
              "      <td>1</td>\n",
              "      <td>106</td>\n",
              "      <td>지방도1112호선</td>\n",
              "      <td>0</td>\n",
              "      <td>0</td>\n",
              "      <td>60.0</td>\n",
              "      <td>...</td>\n",
              "      <td>3</td>\n",
              "      <td>제3교래교</td>\n",
              "      <td>33.427747</td>\n",
              "      <td>126.662612</td>\n",
              "      <td>없음</td>\n",
              "      <td>제3교래교</td>\n",
              "      <td>33.427749</td>\n",
              "      <td>126.662335</td>\n",
              "      <td>없음</td>\n",
              "      <td>52.0</td>\n",
              "    </tr>\n",
              "    <tr>\n",
              "      <th>1</th>\n",
              "      <td>TRAIN_0000001</td>\n",
              "      <td>20220728</td>\n",
              "      <td>목</td>\n",
              "      <td>21</td>\n",
              "      <td>2</td>\n",
              "      <td>103</td>\n",
              "      <td>일반국도11호선</td>\n",
              "      <td>0</td>\n",
              "      <td>0</td>\n",
              "      <td>60.0</td>\n",
              "      <td>...</td>\n",
              "      <td>0</td>\n",
              "      <td>광양사거리</td>\n",
              "      <td>33.500730</td>\n",
              "      <td>126.529107</td>\n",
              "      <td>있음</td>\n",
              "      <td>KAL사거리</td>\n",
              "      <td>33.504811</td>\n",
              "      <td>126.526240</td>\n",
              "      <td>없음</td>\n",
              "      <td>30.0</td>\n",
              "    </tr>\n",
              "    <tr>\n",
              "      <th>2</th>\n",
              "      <td>TRAIN_0000002</td>\n",
              "      <td>20211010</td>\n",
              "      <td>일</td>\n",
              "      <td>7</td>\n",
              "      <td>2</td>\n",
              "      <td>103</td>\n",
              "      <td>일반국도16호선</td>\n",
              "      <td>0</td>\n",
              "      <td>0</td>\n",
              "      <td>80.0</td>\n",
              "      <td>...</td>\n",
              "      <td>0</td>\n",
              "      <td>창고천교</td>\n",
              "      <td>33.279145</td>\n",
              "      <td>126.368598</td>\n",
              "      <td>없음</td>\n",
              "      <td>상창육교</td>\n",
              "      <td>33.280072</td>\n",
              "      <td>126.362147</td>\n",
              "      <td>없음</td>\n",
              "      <td>61.0</td>\n",
              "    </tr>\n",
              "    <tr>\n",
              "      <th>3</th>\n",
              "      <td>TRAIN_0000003</td>\n",
              "      <td>20220311</td>\n",
              "      <td>금</td>\n",
              "      <td>13</td>\n",
              "      <td>2</td>\n",
              "      <td>107</td>\n",
              "      <td>태평로</td>\n",
              "      <td>0</td>\n",
              "      <td>0</td>\n",
              "      <td>50.0</td>\n",
              "      <td>...</td>\n",
              "      <td>0</td>\n",
              "      <td>남양리조트</td>\n",
              "      <td>33.246081</td>\n",
              "      <td>126.567204</td>\n",
              "      <td>없음</td>\n",
              "      <td>서현주택</td>\n",
              "      <td>33.245565</td>\n",
              "      <td>126.566228</td>\n",
              "      <td>없음</td>\n",
              "      <td>20.0</td>\n",
              "    </tr>\n",
              "    <tr>\n",
              "      <th>4</th>\n",
              "      <td>TRAIN_0000004</td>\n",
              "      <td>20211005</td>\n",
              "      <td>화</td>\n",
              "      <td>8</td>\n",
              "      <td>2</td>\n",
              "      <td>103</td>\n",
              "      <td>일반국도12호선</td>\n",
              "      <td>0</td>\n",
              "      <td>0</td>\n",
              "      <td>80.0</td>\n",
              "      <td>...</td>\n",
              "      <td>0</td>\n",
              "      <td>애월샷시</td>\n",
              "      <td>33.462214</td>\n",
              "      <td>126.326551</td>\n",
              "      <td>없음</td>\n",
              "      <td>애월입구</td>\n",
              "      <td>33.462677</td>\n",
              "      <td>126.330152</td>\n",
              "      <td>없음</td>\n",
              "      <td>38.0</td>\n",
              "    </tr>\n",
              "  </tbody>\n",
              "</table>\n",
              "<p>5 rows × 23 columns</p>\n",
              "</div>\n",
              "      <button class=\"colab-df-convert\" onclick=\"convertToInteractive('df-e330a3a9-ea9d-4c3f-a9fe-6c662ae3f4b6')\"\n",
              "              title=\"Convert this dataframe to an interactive table.\"\n",
              "              style=\"display:none;\">\n",
              "        \n",
              "  <svg xmlns=\"http://www.w3.org/2000/svg\" height=\"24px\"viewBox=\"0 0 24 24\"\n",
              "       width=\"24px\">\n",
              "    <path d=\"M0 0h24v24H0V0z\" fill=\"none\"/>\n",
              "    <path d=\"M18.56 5.44l.94 2.06.94-2.06 2.06-.94-2.06-.94-.94-2.06-.94 2.06-2.06.94zm-11 1L8.5 8.5l.94-2.06 2.06-.94-2.06-.94L8.5 2.5l-.94 2.06-2.06.94zm10 10l.94 2.06.94-2.06 2.06-.94-2.06-.94-.94-2.06-.94 2.06-2.06.94z\"/><path d=\"M17.41 7.96l-1.37-1.37c-.4-.4-.92-.59-1.43-.59-.52 0-1.04.2-1.43.59L10.3 9.45l-7.72 7.72c-.78.78-.78 2.05 0 2.83L4 21.41c.39.39.9.59 1.41.59.51 0 1.02-.2 1.41-.59l7.78-7.78 2.81-2.81c.8-.78.8-2.07 0-2.86zM5.41 20L4 18.59l7.72-7.72 1.47 1.35L5.41 20z\"/>\n",
              "  </svg>\n",
              "      </button>\n",
              "      \n",
              "  <style>\n",
              "    .colab-df-container {\n",
              "      display:flex;\n",
              "      flex-wrap:wrap;\n",
              "      gap: 12px;\n",
              "    }\n",
              "\n",
              "    .colab-df-convert {\n",
              "      background-color: #E8F0FE;\n",
              "      border: none;\n",
              "      border-radius: 50%;\n",
              "      cursor: pointer;\n",
              "      display: none;\n",
              "      fill: #1967D2;\n",
              "      height: 32px;\n",
              "      padding: 0 0 0 0;\n",
              "      width: 32px;\n",
              "    }\n",
              "\n",
              "    .colab-df-convert:hover {\n",
              "      background-color: #E2EBFA;\n",
              "      box-shadow: 0px 1px 2px rgba(60, 64, 67, 0.3), 0px 1px 3px 1px rgba(60, 64, 67, 0.15);\n",
              "      fill: #174EA6;\n",
              "    }\n",
              "\n",
              "    [theme=dark] .colab-df-convert {\n",
              "      background-color: #3B4455;\n",
              "      fill: #D2E3FC;\n",
              "    }\n",
              "\n",
              "    [theme=dark] .colab-df-convert:hover {\n",
              "      background-color: #434B5C;\n",
              "      box-shadow: 0px 1px 3px 1px rgba(0, 0, 0, 0.15);\n",
              "      filter: drop-shadow(0px 1px 2px rgba(0, 0, 0, 0.3));\n",
              "      fill: #FFFFFF;\n",
              "    }\n",
              "  </style>\n",
              "\n",
              "      <script>\n",
              "        const buttonEl =\n",
              "          document.querySelector('#df-e330a3a9-ea9d-4c3f-a9fe-6c662ae3f4b6 button.colab-df-convert');\n",
              "        buttonEl.style.display =\n",
              "          google.colab.kernel.accessAllowed ? 'block' : 'none';\n",
              "\n",
              "        async function convertToInteractive(key) {\n",
              "          const element = document.querySelector('#df-e330a3a9-ea9d-4c3f-a9fe-6c662ae3f4b6');\n",
              "          const dataTable =\n",
              "            await google.colab.kernel.invokeFunction('convertToInteractive',\n",
              "                                                     [key], {});\n",
              "          if (!dataTable) return;\n",
              "\n",
              "          const docLinkHtml = 'Like what you see? Visit the ' +\n",
              "            '<a target=\"_blank\" href=https://colab.research.google.com/notebooks/data_table.ipynb>data table notebook</a>'\n",
              "            + ' to learn more about interactive tables.';\n",
              "          element.innerHTML = '';\n",
              "          dataTable['output_type'] = 'display_data';\n",
              "          await google.colab.output.renderOutput(dataTable, element);\n",
              "          const docLink = document.createElement('div');\n",
              "          docLink.innerHTML = docLinkHtml;\n",
              "          element.appendChild(docLink);\n",
              "        }\n",
              "      </script>\n",
              "    </div>\n",
              "  </div>\n",
              "  "
            ]
          },
          "metadata": {},
          "execution_count": 16
        }
      ]
    },
    {
      "cell_type": "markdown",
      "source": [
        "##변수의 빈도수 확인"
      ],
      "metadata": {
        "id": "YNwAt3DSVsfx"
      }
    },
    {
      "cell_type": "code",
      "source": [
        "train['day_of_week'].value_counts().index"
      ],
      "metadata": {
        "colab": {
          "base_uri": "https://localhost:8080/"
        },
        "id": "7VhPXlwlpYzU",
        "outputId": "aa4f8d0b-8fb4-4380-eba2-aa665e83ef0c"
      },
      "execution_count": 17,
      "outputs": [
        {
          "output_type": "execute_result",
          "data": {
            "text/plain": [
              "Index(['금', '수', '목', '일', '토', '화', '월'], dtype='object')"
            ]
          },
          "metadata": {},
          "execution_count": 17
        }
      ]
    },
    {
      "cell_type": "code",
      "source": [
        "#day_of_week road_name start_turn_restricted end_turn_restricted \n",
        "# valuedatalist=['day_of_week', 'road_name', 'start_turn_restricted', 'end_turn_restricted']\n",
        "\n",
        "# for i in valuedatalist:\n",
        "#   print(train[i].value_counts())\n",
        "  # print(i)\n",
        "\n",
        "\n",
        "train['day_of_week'].value_counts()\n"
      ],
      "metadata": {
        "colab": {
          "base_uri": "https://localhost:8080/"
        },
        "id": "i6rvrzFoVsKN",
        "outputId": "4b0140d7-e756-4b01-9bca-466e3a0f131b"
      },
      "execution_count": 18,
      "outputs": [
        {
          "output_type": "execute_result",
          "data": {
            "text/plain": [
              "금    684024\n",
              "수    675583\n",
              "목    674070\n",
              "일    673632\n",
              "토    669767\n",
              "화    662498\n",
              "월    661643\n",
              "Name: day_of_week, dtype: int64"
            ]
          },
          "metadata": {},
          "execution_count": 18
        }
      ]
    },
    {
      "cell_type": "code",
      "source": [
        "ax= sns.countplot(x='day_of_week',data=train)\n",
        "for p in ax.patches:\n",
        "  height = p.get_height()\n",
        "  ax.text(p.get_x() + p.get_width() / 2., height + 100, height, ha = 'center', size = 10)\n",
        "plt.show()"
      ],
      "metadata": {
        "colab": {
          "base_uri": "https://localhost:8080/",
          "height": 278
        },
        "id": "nYWSNKdJpDo1",
        "outputId": "600eca10-1f2d-4041-c8c7-a37fc85dd8df"
      },
      "execution_count": 21,
      "outputs": [
        {
          "output_type": "display_data",
          "data": {
            "text/plain": [
              "<Figure size 432x288 with 1 Axes>"
            ],
            "image/png": "[encoded data removed]"
          },
          "metadata": {
            "needs_background": "light"
          }
        }
      ]
    },
    {
      "cell_type": "code",
      "source": [
        "train['road_name'].value_counts()"
      ],
      "metadata": {
        "colab": {
          "base_uri": "https://localhost:8080/"
        },
        "id": "L_gNuM0Mygfv",
        "outputId": "08d2134e-ac57-49e8-9a4a-a56edce7bc32"
      },
      "execution_count": 22,
      "outputs": [
        {
          "output_type": "execute_result",
          "data": {
            "text/plain": [
              "일반국도12호선    1046092\n",
              "-            569463\n",
              "일반국도16호선     554510\n",
              "일반국도95호선     248181\n",
              "일반국도11호선     215701\n",
              "             ...   \n",
              "애원로            7718\n",
              "아봉로            7342\n",
              "남조로            6813\n",
              "호서중앙로          2819\n",
              "호근로             587\n",
              "Name: road_name, Length: 61, dtype: int64"
            ]
          },
          "metadata": {},
          "execution_count": 22
        }
      ]
    },
    {
      "cell_type": "code",
      "source": [
        "train['start_turn_restricted'].value_counts()"
      ],
      "metadata": {
        "colab": {
          "base_uri": "https://localhost:8080/"
        },
        "id": "KgwhmL3bygXp",
        "outputId": "3a92673c-d784-4377-d19a-1dcb02e11113"
      },
      "execution_count": 23,
      "outputs": [
        {
          "output_type": "execute_result",
          "data": {
            "text/plain": [
              "없음    4239701\n",
              "있음     461516\n",
              "Name: start_turn_restricted, dtype: int64"
            ]
          },
          "metadata": {},
          "execution_count": 23
        }
      ]
    },
    {
      "cell_type": "code",
      "source": [
        "train['end_turn_restricted'].value_counts()\n"
      ],
      "metadata": {
        "colab": {
          "base_uri": "https://localhost:8080/"
        },
        "id": "LIJcFcAWygRa",
        "outputId": "80dc6dc6-aaf4-476b-904c-0828ce071973"
      },
      "execution_count": 26,
      "outputs": [
        {
          "output_type": "execute_result",
          "data": {
            "text/plain": [
              "없음    4239599\n",
              "있음     461618\n",
              "Name: end_turn_restricted, dtype: int64"
            ]
          },
          "metadata": {},
          "execution_count": 26
        }
      ]
    },
    {
      "cell_type": "code",
      "source": [
        "fig, axes = plt.subplots(2, 2, figsize=(12,12))\n",
        "\n",
        "sns.countplot(x='day_of_week', data=train, ax=axes[0][0])\n",
        "sns.countplot(x='road_name', data=train, ax=axes[0][1])\n",
        "sns.countplot(x='start_turn_restricted', data=train, ax=axes[1][0])\n",
        "sns.countplot(x='end_turn_restricted', data=train, ax=axes[1][1])\n",
        "\n",
        "\n",
        "plt.tight_layout()\n",
        "plt.show()\n"
      ],
      "metadata": {
        "colab": {
          "base_uri": "https://localhost:8080/",
          "height": 873
        },
        "id": "GCaPabTD01-J",
        "outputId": "98028250-752d-44b4-b95e-bb1b75554cce"
      },
      "execution_count": 27,
      "outputs": [
        {
          "output_type": "display_data",
          "data": {
            "text/plain": [
              "<Figure size 864x864 with 4 Axes>"
            ],
            "image/png": "[encoded data removed]"
          },
          "metadata": {
            "needs_background": "light"
          }
        }
      ]
    },
    {
      "cell_type": "markdown",
      "source": [
        "decribe()함수\n",
        "\n",
        "count: 해당 column에서 비어 있지 않은 값의 개수\n",
        "\n",
        "mean: 평균\n",
        "\n",
        "std: 표준편차\n",
        "\n",
        "min: 최솟값 (이상치 포함)\n",
        "\n",
        "25% (Q1): 전체 데이터를 순서대로 정렬했을 때, 아래에서 부터 1/4번째 지점에 있는 값\n",
        "\n",
        "50% (Q2): 중앙값 (전체 데이터를 순서대로 정렬했을 때, 아래에서 부터 2/4번째 지점에 있는 값)\n",
        "\n",
        "75% (Q3): 전체 데이터를 순서대로 정렬했을 때, 아래에서 부터 3/4번째 지점에 있는 값\n",
        "\n",
        "max: 최댓값 (이상치 포함)"
      ],
      "metadata": {
        "id": "hv2d3Buryl-e"
      }
    },
    {
      "cell_type": "code",
      "source": [
        "train.describe()\n",
        "# vehicle_restricted/height_restricted/base_date/target/start_node_name/end_node_name/id제거\n",
        "#day_of_week road_name start_turn_restricted end_turn_restricted -> 라벨인코더\n",
        "\n",
        "##mean과 50%가 크게 차이나면 이상치가 다수 존재할것으로 예상(multi_linked,weight_restricte,,,등등)"
      ],
      "metadata": {
        "colab": {
          "base_uri": "https://localhost:8080/",
          "height": 364
        },
        "id": "aJiykbhqx3cd",
        "outputId": "cf4b2b67-c04a-4a94-d804-81299f776965"
      },
      "execution_count": 28,
      "outputs": [
        {
          "output_type": "execute_result",
          "data": {
            "text/plain": [
              "          base_date     base_hour    lane_count   road_rating  multi_linked  \\\n",
              "count  4.701217e+06  4.701217e+06  4.701217e+06  4.701217e+06  4.701217e+06   \n",
              "mean   2.021672e+07  1.192820e+01  1.836651e+00  1.049585e+02  4.762597e-04   \n",
              "std    4.555709e+03  6.722092e+00  6.877513e-01  1.840107e+00  2.181818e-02   \n",
              "min    2.021090e+07  0.000000e+00  1.000000e+00  1.030000e+02  0.000000e+00   \n",
              "25%    2.021110e+07  6.000000e+00  1.000000e+00  1.030000e+02  0.000000e+00   \n",
              "50%    2.022013e+07  1.200000e+01  2.000000e+00  1.060000e+02  0.000000e+00   \n",
              "75%    2.022050e+07  1.800000e+01  2.000000e+00  1.070000e+02  0.000000e+00   \n",
              "max    2.022073e+07  2.300000e+01  3.000000e+00  1.070000e+02  1.000000e+00   \n",
              "\n",
              "       connect_code  maximum_speed_limit  vehicle_restricted  \\\n",
              "count  4.701217e+06         4.701217e+06           4701217.0   \n",
              "mean   2.660218e-01         6.125329e+01                 0.0   \n",
              "std    5.227760e+00         1.213354e+01                 0.0   \n",
              "min    0.000000e+00         3.000000e+01                 0.0   \n",
              "25%    0.000000e+00         5.000000e+01                 0.0   \n",
              "50%    0.000000e+00         6.000000e+01                 0.0   \n",
              "75%    0.000000e+00         7.000000e+01                 0.0   \n",
              "max    1.030000e+02         8.000000e+01                 0.0   \n",
              "\n",
              "       weight_restricted  height_restricted     road_type  start_latitude  \\\n",
              "count       4.701217e+06          4701217.0  4.701217e+06    4.701217e+06   \n",
              "mean        5.618742e+03                0.0  6.152237e-01    3.338432e+01   \n",
              "std         1.395343e+04                0.0  1.211268e+00    1.012015e-01   \n",
              "min         0.000000e+00                0.0  0.000000e+00    3.324343e+01   \n",
              "25%         0.000000e+00                0.0  0.000000e+00    3.326422e+01   \n",
              "50%         0.000000e+00                0.0  0.000000e+00    3.341257e+01   \n",
              "75%         0.000000e+00                0.0  0.000000e+00    3.347804e+01   \n",
              "max         5.000000e+04                0.0  3.000000e+00    3.355608e+01   \n",
              "\n",
              "       start_longitude  end_latitude  end_longitude        target  \n",
              "count     4.701217e+06  4.701217e+06   4.701217e+06  4.701217e+06  \n",
              "mean      1.265217e+02  3.338432e+01   1.265217e+02  4.278844e+01  \n",
              "std       1.563657e-01  1.011948e-01   1.563519e-01  1.595443e+01  \n",
              "min       1.261826e+02  3.324343e+01   1.261826e+02  1.000000e+00  \n",
              "25%       1.264232e+02  3.326422e+01   1.264232e+02  3.000000e+01  \n",
              "50%       1.265112e+02  3.341257e+01   1.265112e+02  4.300000e+01  \n",
              "75%       1.265840e+02  3.347804e+01   1.265840e+02  5.400000e+01  \n",
              "max       1.269309e+02  3.355608e+01   1.269309e+02  1.130000e+02  "
            ],
            "text/html": [
              "\n",
              "  <div id=\"df-fb10bc73-0669-4e93-aba6-13d60de9f7d5\">\n",
              "    <div class=\"colab-df-container\">\n",
              "      <div>\n",
              "<style scoped>\n",
              "    .dataframe tbody tr th:only-of-type {\n",
              "        vertical-align: middle;\n",
              "    }\n",
              "\n",
              "    .dataframe tbody tr th {\n",
              "        vertical-align: top;\n",
              "    }\n",
              "\n",
              "    .dataframe thead th {\n",
              "        text-align: right;\n",
              "    }\n",
              "</style>\n",
              "<table border=\"1\" class=\"dataframe\">\n",
              "  <thead>\n",
              "    <tr style=\"text-align: right;\">\n",
              "      <th></th>\n",
              "      <th>base_date</th>\n",
              "      <th>base_hour</th>\n",
              "      <th>lane_count</th>\n",
              "      <th>road_rating</th>\n",
              "      <th>multi_linked</th>\n",
              "      <th>connect_code</th>\n",
              "      <th>maximum_speed_limit</th>\n",
              "      <th>vehicle_restricted</th>\n",
              "      <th>weight_restricted</th>\n",
              "      <th>height_restricted</th>\n",
              "      <th>road_type</th>\n",
              "      <th>start_latitude</th>\n",
              "      <th>start_longitude</th>\n",
              "      <th>end_latitude</th>\n",
              "      <th>end_longitude</th>\n",
              "      <th>target</th>\n",
              "    </tr>\n",
              "  </thead>\n",
              "  <tbody>\n",
              "    <tr>\n",
              "      <th>count</th>\n",
              "      <td>4.701217e+06</td>\n",
              "      <td>4.701217e+06</td>\n",
              "      <td>4.701217e+06</td>\n",
              "      <td>4.701217e+06</td>\n",
              "      <td>4.701217e+06</td>\n",
              "      <td>4.701217e+06</td>\n",
              "      <td>4.701217e+06</td>\n",
              "      <td>4701217.0</td>\n",
              "      <td>4.701217e+06</td>\n",
              "      <td>4701217.0</td>\n",
              "      <td>4.701217e+06</td>\n",
              "      <td>4.701217e+06</td>\n",
              "      <td>4.701217e+06</td>\n",
              "      <td>4.701217e+06</td>\n",
              "      <td>4.701217e+06</td>\n",
              "      <td>4.701217e+06</td>\n",
              "    </tr>\n",
              "    <tr>\n",
              "      <th>mean</th>\n",
              "      <td>2.021672e+07</td>\n",
              "      <td>1.192820e+01</td>\n",
              "      <td>1.836651e+00</td>\n",
              "      <td>1.049585e+02</td>\n",
              "      <td>4.762597e-04</td>\n",
              "      <td>2.660218e-01</td>\n",
              "      <td>6.125329e+01</td>\n",
              "      <td>0.0</td>\n",
              "      <td>5.618742e+03</td>\n",
              "      <td>0.0</td>\n",
              "      <td>6.152237e-01</td>\n",
              "      <td>3.338432e+01</td>\n",
              "      <td>1.265217e+02</td>\n",
              "      <td>3.338432e+01</td>\n",
              "      <td>1.265217e+02</td>\n",
              "      <td>4.278844e+01</td>\n",
              "    </tr>\n",
              "    <tr>\n",
              "      <th>std</th>\n",
              "      <td>4.555709e+03</td>\n",
              "      <td>6.722092e+00</td>\n",
              "      <td>6.877513e-01</td>\n",
              "      <td>1.840107e+00</td>\n",
              "      <td>2.181818e-02</td>\n",
              "      <td>5.227760e+00</td>\n",
              "      <td>1.213354e+01</td>\n",
              "      <td>0.0</td>\n",
              "      <td>1.395343e+04</td>\n",
              "      <td>0.0</td>\n",
              "      <td>1.211268e+00</td>\n",
              "      <td>1.012015e-01</td>\n",
              "      <td>1.563657e-01</td>\n",
              "      <td>1.011948e-01</td>\n",
              "      <td>1.563519e-01</td>\n",
              "      <td>1.595443e+01</td>\n",
              "    </tr>\n",
              "    <tr>\n",
              "      <th>min</th>\n",
              "      <td>2.021090e+07</td>\n",
              "      <td>0.000000e+00</td>\n",
              "      <td>1.000000e+00</td>\n",
              "      <td>1.030000e+02</td>\n",
              "      <td>0.000000e+00</td>\n",
              "      <td>0.000000e+00</td>\n",
              "      <td>3.000000e+01</td>\n",
              "      <td>0.0</td>\n",
              "      <td>0.000000e+00</td>\n",
              "      <td>0.0</td>\n",
              "      <td>0.000000e+00</td>\n",
              "      <td>3.324343e+01</td>\n",
              "      <td>1.261826e+02</td>\n",
              "      <td>3.324343e+01</td>\n",
              "      <td>1.261826e+02</td>\n",
              "      <td>1.000000e+00</td>\n",
              "    </tr>\n",
              "    <tr>\n",
              "      <th>25%</th>\n",
              "      <td>2.021110e+07</td>\n",
              "      <td>6.000000e+00</td>\n",
              "      <td>1.000000e+00</td>\n",
              "      <td>1.030000e+02</td>\n",
              "      <td>0.000000e+00</td>\n",
              "      <td>0.000000e+00</td>\n",
              "      <td>5.000000e+01</td>\n",
              "      <td>0.0</td>\n",
              "      <td>0.000000e+00</td>\n",
              "      <td>0.0</td>\n",
              "      <td>0.000000e+00</td>\n",
              "      <td>3.326422e+01</td>\n",
              "      <td>1.264232e+02</td>\n",
              "      <td>3.326422e+01</td>\n",
              "      <td>1.264232e+02</td>\n",
              "      <td>3.000000e+01</td>\n",
              "    </tr>\n",
              "    <tr>\n",
              "      <th>50%</th>\n",
              "      <td>2.022013e+07</td>\n",
              "      <td>1.200000e+01</td>\n",
              "      <td>2.000000e+00</td>\n",
              "      <td>1.060000e+02</td>\n",
              "      <td>0.000000e+00</td>\n",
              "      <td>0.000000e+00</td>\n",
              "      <td>6.000000e+01</td>\n",
              "      <td>0.0</td>\n",
              "      <td>0.000000e+00</td>\n",
              "      <td>0.0</td>\n",
              "      <td>0.000000e+00</td>\n",
              "      <td>3.341257e+01</td>\n",
              "      <td>1.265112e+02</td>\n",
              "      <td>3.341257e+01</td>\n",
              "      <td>1.265112e+02</td>\n",
              "      <td>4.300000e+01</td>\n",
              "    </tr>\n",
              "    <tr>\n",
              "      <th>75%</th>\n",
              "      <td>2.022050e+07</td>\n",
              "      <td>1.800000e+01</td>\n",
              "      <td>2.000000e+00</td>\n",
              "      <td>1.070000e+02</td>\n",
              "      <td>0.000000e+00</td>\n",
              "      <td>0.000000e+00</td>\n",
              "      <td>7.000000e+01</td>\n",
              "      <td>0.0</td>\n",
              "      <td>0.000000e+00</td>\n",
              "      <td>0.0</td>\n",
              "      <td>0.000000e+00</td>\n",
              "      <td>3.347804e+01</td>\n",
              "      <td>1.265840e+02</td>\n",
              "      <td>3.347804e+01</td>\n",
              "      <td>1.265840e+02</td>\n",
              "      <td>5.400000e+01</td>\n",
              "    </tr>\n",
              "    <tr>\n",
              "      <th>max</th>\n",
              "      <td>2.022073e+07</td>\n",
              "      <td>2.300000e+01</td>\n",
              "      <td>3.000000e+00</td>\n",
              "      <td>1.070000e+02</td>\n",
              "      <td>1.000000e+00</td>\n",
              "      <td>1.030000e+02</td>\n",
              "      <td>8.000000e+01</td>\n",
              "      <td>0.0</td>\n",
              "      <td>5.000000e+04</td>\n",
              "      <td>0.0</td>\n",
              "      <td>3.000000e+00</td>\n",
              "      <td>3.355608e+01</td>\n",
              "      <td>1.269309e+02</td>\n",
              "      <td>3.355608e+01</td>\n",
              "      <td>1.269309e+02</td>\n",
              "      <td>1.130000e+02</td>\n",
              "    </tr>\n",
              "  </tbody>\n",
              "</table>\n",
              "</div>\n",
              "      <button class=\"colab-df-convert\" onclick=\"convertToInteractive('df-fb10bc73-0669-4e93-aba6-13d60de9f7d5')\"\n",
              "              title=\"Convert this dataframe to an interactive table.\"\n",
              "              style=\"display:none;\">\n",
              "        \n",
              "  <svg xmlns=\"http://www.w3.org/2000/svg\" height=\"24px\"viewBox=\"0 0 24 24\"\n",
              "       width=\"24px\">\n",
              "    <path d=\"M0 0h24v24H0V0z\" fill=\"none\"/>\n",
              "    <path d=\"M18.56 5.44l.94 2.06.94-2.06 2.06-.94-2.06-.94-.94-2.06-.94 2.06-2.06.94zm-11 1L8.5 8.5l.94-2.06 2.06-.94-2.06-.94L8.5 2.5l-.94 2.06-2.06.94zm10 10l.94 2.06.94-2.06 2.06-.94-2.06-.94-.94-2.06-.94 2.06-2.06.94z\"/><path d=\"M17.41 7.96l-1.37-1.37c-.4-.4-.92-.59-1.43-.59-.52 0-1.04.2-1.43.59L10.3 9.45l-7.72 7.72c-.78.78-.78 2.05 0 2.83L4 21.41c.39.39.9.59 1.41.59.51 0 1.02-.2 1.41-.59l7.78-7.78 2.81-2.81c.8-.78.8-2.07 0-2.86zM5.41 20L4 18.59l7.72-7.72 1.47 1.35L5.41 20z\"/>\n",
              "  </svg>\n",
              "      </button>\n",
              "      \n",
              "  <style>\n",
              "    .colab-df-container {\n",
              "      display:flex;\n",
              "      flex-wrap:wrap;\n",
              "      gap: 12px;\n",
              "    }\n",
              "\n",
              "    .colab-df-convert {\n",
              "      background-color: #E8F0FE;\n",
              "      border: none;\n",
              "      border-radius: 50%;\n",
              "      cursor: pointer;\n",
              "      display: none;\n",
              "      fill: #1967D2;\n",
              "      height: 32px;\n",
              "      padding: 0 0 0 0;\n",
              "      width: 32px;\n",
              "    }\n",
              "\n",
              "    .colab-df-convert:hover {\n",
              "      background-color: #E2EBFA;\n",
              "      box-shadow: 0px 1px 2px rgba(60, 64, 67, 0.3), 0px 1px 3px 1px rgba(60, 64, 67, 0.15);\n",
              "      fill: #174EA6;\n",
              "    }\n",
              "\n",
              "    [theme=dark] .colab-df-convert {\n",
              "      background-color: #3B4455;\n",
              "      fill: #D2E3FC;\n",
              "    }\n",
              "\n",
              "    [theme=dark] .colab-df-convert:hover {\n",
              "      background-color: #434B5C;\n",
              "      box-shadow: 0px 1px 3px 1px rgba(0, 0, 0, 0.15);\n",
              "      filter: drop-shadow(0px 1px 2px rgba(0, 0, 0, 0.3));\n",
              "      fill: #FFFFFF;\n",
              "    }\n",
              "  </style>\n",
              "\n",
              "      <script>\n",
              "        const buttonEl =\n",
              "          document.querySelector('#df-fb10bc73-0669-4e93-aba6-13d60de9f7d5 button.colab-df-convert');\n",
              "        buttonEl.style.display =\n",
              "          google.colab.kernel.accessAllowed ? 'block' : 'none';\n",
              "\n",
              "        async function convertToInteractive(key) {\n",
              "          const element = document.querySelector('#df-fb10bc73-0669-4e93-aba6-13d60de9f7d5');\n",
              "          const dataTable =\n",
              "            await google.colab.kernel.invokeFunction('convertToInteractive',\n",
              "                                                     [key], {});\n",
              "          if (!dataTable) return;\n",
              "\n",
              "          const docLinkHtml = 'Like what you see? Visit the ' +\n",
              "            '<a target=\"_blank\" href=https://colab.research.google.com/notebooks/data_table.ipynb>data table notebook</a>'\n",
              "            + ' to learn more about interactive tables.';\n",
              "          element.innerHTML = '';\n",
              "          dataTable['output_type'] = 'display_data';\n",
              "          await google.colab.output.renderOutput(dataTable, element);\n",
              "          const docLink = document.createElement('div');\n",
              "          docLink.innerHTML = docLinkHtml;\n",
              "          element.appendChild(docLink);\n",
              "        }\n",
              "      </script>\n",
              "    </div>\n",
              "  </div>\n",
              "  "
            ]
          },
          "metadata": {},
          "execution_count": 28
        }
      ]
    },
    {
      "cell_type": "code",
      "source": [
        "plt.figure(figsize=(13,13))\n",
        "sns.heatmap(data=train.corr(), annot=True, fmt='.2f', linewidths=.5, cmap='Blues')"
      ],
      "metadata": {
        "colab": {
          "base_uri": "https://localhost:8080/",
          "height": 870
        },
        "id": "tDSC--BHynKi",
        "outputId": "672395e4-d681-4290-8545-876268b2a825"
      },
      "execution_count": 29,
      "outputs": [
        {
          "output_type": "execute_result",
          "data": {
            "text/plain": [
              "<matplotlib.axes._subplots.AxesSubplot at 0x7f7188ab8eb0>"
            ]
          },
          "metadata": {},
          "execution_count": 29
        },
        {
          "output_type": "display_data",
          "data": {
            "text/plain": [
              "<Figure size 936x936 with 2 Axes>"
            ],
            "image/png": "[encoded data removed]"
          },
          "metadata": {
            "needs_background": "light"
          }
        }
      ]
    },
    {
      "cell_type": "code",
      "source": [
        "train.corr()"
      ],
      "metadata": {
        "colab": {
          "base_uri": "https://localhost:8080/",
          "height": 615
        },
        "id": "GJ9nBYSbtZJV",
        "outputId": "70566153-3ef5-4d5b-a839-cae4c90890ff"
      },
      "execution_count": 30,
      "outputs": [
        {
          "output_type": "execute_result",
          "data": {
            "text/plain": [
              "                     base_date  base_hour  lane_count  road_rating  \\\n",
              "base_date             1.000000  -0.008645    0.011463     0.018547   \n",
              "base_hour            -0.008645   1.000000   -0.029194     0.031658   \n",
              "lane_count            0.011463  -0.029194    1.000000    -0.095717   \n",
              "road_rating           0.018547   0.031658   -0.095717     1.000000   \n",
              "multi_linked          0.000832   0.005711   -0.026555     0.024218   \n",
              "connect_code         -0.010633  -0.002649   -0.029290    -0.054160   \n",
              "maximum_speed_limit  -0.018713  -0.036756    0.384002    -0.327474   \n",
              "vehicle_restricted         NaN        NaN         NaN          NaN   \n",
              "weight_restricted    -0.011030  -0.003231   -0.177224    -0.118630   \n",
              "height_restricted          NaN        NaN         NaN          NaN   \n",
              "road_type            -0.004599  -0.007880   -0.050715    -0.125618   \n",
              "start_latitude       -0.016818  -0.021599    0.182674    -0.204793   \n",
              "start_longitude      -0.004954  -0.011478   -0.094806     0.007401   \n",
              "end_latitude         -0.016786  -0.021597    0.182330    -0.204843   \n",
              "end_longitude        -0.004972  -0.011489   -0.094732     0.007386   \n",
              "target               -0.033997  -0.159407   -0.144256    -0.261693   \n",
              "\n",
              "                     multi_linked  connect_code  maximum_speed_limit  \\\n",
              "base_date                0.000832     -0.010633            -0.018713   \n",
              "base_hour                0.005711     -0.002649            -0.036756   \n",
              "lane_count              -0.026555     -0.029290             0.384002   \n",
              "road_rating              0.024218     -0.054160            -0.327474   \n",
              "multi_linked             1.000000     -0.001111            -0.020245   \n",
              "connect_code            -0.001111      1.000000            -0.015190   \n",
              "maximum_speed_limit     -0.020245     -0.015190             1.000000   \n",
              "vehicle_restricted            NaN           NaN                  NaN   \n",
              "weight_restricted       -0.008790     -0.020491             0.085080   \n",
              "height_restricted             NaN           NaN                  NaN   \n",
              "road_type                0.042977     -0.025846             0.059511   \n",
              "start_latitude          -0.014906      0.036623             0.253147   \n",
              "start_longitude          0.026895     -0.045695            -0.033018   \n",
              "end_latitude            -0.014907      0.037163             0.252958   \n",
              "end_longitude            0.026896     -0.044853            -0.032907   \n",
              "target                  -0.008408      0.048348             0.425715   \n",
              "\n",
              "                     vehicle_restricted  weight_restricted  height_restricted  \\\n",
              "base_date                           NaN          -0.011030                NaN   \n",
              "base_hour                           NaN          -0.003231                NaN   \n",
              "lane_count                          NaN          -0.177224                NaN   \n",
              "road_rating                         NaN          -0.118630                NaN   \n",
              "multi_linked                        NaN          -0.008790                NaN   \n",
              "connect_code                        NaN          -0.020491                NaN   \n",
              "maximum_speed_limit                 NaN           0.085080                NaN   \n",
              "vehicle_restricted                  NaN                NaN                NaN   \n",
              "weight_restricted                   NaN           1.000000                NaN   \n",
              "height_restricted                   NaN                NaN                NaN   \n",
              "road_type                           NaN           0.792803                NaN   \n",
              "start_latitude                      NaN          -0.128291                NaN   \n",
              "start_longitude                     NaN           0.034926                NaN   \n",
              "end_latitude                        NaN          -0.128305                NaN   \n",
              "end_longitude                       NaN           0.034915                NaN   \n",
              "target                              NaN           0.294092                NaN   \n",
              "\n",
              "                     road_type  start_latitude  start_longitude  end_latitude  \\\n",
              "base_date            -0.004599       -0.016818        -0.004954     -0.016786   \n",
              "base_hour            -0.007880       -0.021599        -0.011478     -0.021597   \n",
              "lane_count           -0.050715        0.182674        -0.094806      0.182330   \n",
              "road_rating          -0.125618       -0.204793         0.007401     -0.204843   \n",
              "multi_linked          0.042977       -0.014906         0.026895     -0.014907   \n",
              "connect_code         -0.025846        0.036623        -0.045695      0.037163   \n",
              "maximum_speed_limit   0.059511        0.253147        -0.033018      0.252958   \n",
              "vehicle_restricted         NaN             NaN              NaN           NaN   \n",
              "weight_restricted     0.792803       -0.128291         0.034926     -0.128305   \n",
              "height_restricted          NaN             NaN              NaN           NaN   \n",
              "road_type             1.000000       -0.043420         0.033684     -0.043430   \n",
              "start_latitude       -0.043420        1.000000         0.127042      0.999106   \n",
              "start_longitude       0.033684        0.127042         1.000000      0.126900   \n",
              "end_latitude         -0.043430        0.999106         0.126900      1.000000   \n",
              "end_longitude         0.033664        0.127005         0.999219      0.127098   \n",
              "target                0.200840        0.036280        -0.001168      0.036139   \n",
              "\n",
              "                     end_longitude    target  \n",
              "base_date                -0.004972 -0.033997  \n",
              "base_hour                -0.011489 -0.159407  \n",
              "lane_count               -0.094732 -0.144256  \n",
              "road_rating               0.007386 -0.261693  \n",
              "multi_linked              0.026896 -0.008408  \n",
              "connect_code             -0.044853  0.048348  \n",
              "maximum_speed_limit      -0.032907  0.425715  \n",
              "vehicle_restricted             NaN       NaN  \n",
              "weight_restricted         0.034915  0.294092  \n",
              "height_restricted              NaN       NaN  \n",
              "road_type                 0.033664  0.200840  \n",
              "start_latitude            0.127005  0.036280  \n",
              "start_longitude           0.999219 -0.001168  \n",
              "end_latitude              0.127098  0.036139  \n",
              "end_longitude             1.000000 -0.001000  \n",
              "target                   -0.001000  1.000000  "
            ],
            "text/html": [
              "\n",
              "  <div id=\"df-d97f669b-a514-47b6-a8dc-20ca8a923549\">\n",
              "    <div class=\"colab-df-container\">\n",
              "      <div>\n",
              "<style scoped>\n",
              "    .dataframe tbody tr th:only-of-type {\n",
              "        vertical-align: middle;\n",
              "    }\n",
              "\n",
              "    .dataframe tbody tr th {\n",
              "        vertical-align: top;\n",
              "    }\n",
              "\n",
              "    .dataframe thead th {\n",
              "        text-align: right;\n",
              "    }\n",
              "</style>\n",
              "<table border=\"1\" class=\"dataframe\">\n",
              "  <thead>\n",
              "    <tr style=\"text-align: right;\">\n",
              "      <th></th>\n",
              "      <th>base_date</th>\n",
              "      <th>base_hour</th>\n",
              "      <th>lane_count</th>\n",
              "      <th>road_rating</th>\n",
              "      <th>multi_linked</th>\n",
              "      <th>connect_code</th>\n",
              "      <th>maximum_speed_limit</th>\n",
              "      <th>vehicle_restricted</th>\n",
              "      <th>weight_restricted</th>\n",
              "      <th>height_restricted</th>\n",
              "      <th>road_type</th>\n",
              "      <th>start_latitude</th>\n",
              "      <th>start_longitude</th>\n",
              "      <th>end_latitude</th>\n",
              "      <th>end_longitude</th>\n",
              "      <th>target</th>\n",
              "    </tr>\n",
              "  </thead>\n",
              "  <tbody>\n",
              "    <tr>\n",
              "      <th>base_date</th>\n",
              "      <td>1.000000</td>\n",
              "      <td>-0.008645</td>\n",
              "      <td>0.011463</td>\n",
              "      <td>0.018547</td>\n",
              "      <td>0.000832</td>\n",
              "      <td>-0.010633</td>\n",
              "      <td>-0.018713</td>\n",
              "      <td>NaN</td>\n",
              "      <td>-0.011030</td>\n",
              "      <td>NaN</td>\n",
              "      <td>-0.004599</td>\n",
              "      <td>-0.016818</td>\n",
              "      <td>-0.004954</td>\n",
              "      <td>-0.016786</td>\n",
              "      <td>-0.004972</td>\n",
              "      <td>-0.033997</td>\n",
              "    </tr>\n",
              "    <tr>\n",
              "      <th>base_hour</th>\n",
              "      <td>-0.008645</td>\n",
              "      <td>1.000000</td>\n",
              "      <td>-0.029194</td>\n",
              "      <td>0.031658</td>\n",
              "      <td>0.005711</td>\n",
              "      <td>-0.002649</td>\n",
              "      <td>-0.036756</td>\n",
              "      <td>NaN</td>\n",
              "      <td>-0.003231</td>\n",
              "      <td>NaN</td>\n",
              "      <td>-0.007880</td>\n",
              "      <td>-0.021599</td>\n",
              "      <td>-0.011478</td>\n",
              "      <td>-0.021597</td>\n",
              "      <td>-0.011489</td>\n",
              "      <td>-0.159407</td>\n",
              "    </tr>\n",
              "    <tr>\n",
              "      <th>lane_count</th>\n",
              "      <td>0.011463</td>\n",
              "      <td>-0.029194</td>\n",
              "      <td>1.000000</td>\n",
              "      <td>-0.095717</td>\n",
              "      <td>-0.026555</td>\n",
              "      <td>-0.029290</td>\n",
              "      <td>0.384002</td>\n",
              "      <td>NaN</td>\n",
              "      <td>-0.177224</td>\n",
              "      <td>NaN</td>\n",
              "      <td>-0.050715</td>\n",
              "      <td>0.182674</td>\n",
              "      <td>-0.094806</td>\n",
              "      <td>0.182330</td>\n",
              "      <td>-0.094732</td>\n",
              "      <td>-0.144256</td>\n",
              "    </tr>\n",
              "    <tr>\n",
              "      <th>road_rating</th>\n",
              "      <td>0.018547</td>\n",
              "      <td>0.031658</td>\n",
              "      <td>-0.095717</td>\n",
              "      <td>1.000000</td>\n",
              "      <td>0.024218</td>\n",
              "      <td>-0.054160</td>\n",
              "      <td>-0.327474</td>\n",
              "      <td>NaN</td>\n",
              "      <td>-0.118630</td>\n",
              "      <td>NaN</td>\n",
              "      <td>-0.125618</td>\n",
              "      <td>-0.204793</td>\n",
              "      <td>0.007401</td>\n",
              "      <td>-0.204843</td>\n",
              "      <td>0.007386</td>\n",
              "      <td>-0.261693</td>\n",
              "    </tr>\n",
              "    <tr>\n",
              "      <th>multi_linked</th>\n",
              "      <td>0.000832</td>\n",
              "      <td>0.005711</td>\n",
              "      <td>-0.026555</td>\n",
              "      <td>0.024218</td>\n",
              "      <td>1.000000</td>\n",
              "      <td>-0.001111</td>\n",
              "      <td>-0.020245</td>\n",
              "      <td>NaN</td>\n",
              "      <td>-0.008790</td>\n",
              "      <td>NaN</td>\n",
              "      <td>0.042977</td>\n",
              "      <td>-0.014906</td>\n",
              "      <td>0.026895</td>\n",
              "      <td>-0.014907</td>\n",
              "      <td>0.026896</td>\n",
              "      <td>-0.008408</td>\n",
              "    </tr>\n",
              "    <tr>\n",
              "      <th>connect_code</th>\n",
              "      <td>-0.010633</td>\n",
              "      <td>-0.002649</td>\n",
              "      <td>-0.029290</td>\n",
              "      <td>-0.054160</td>\n",
              "      <td>-0.001111</td>\n",
              "      <td>1.000000</td>\n",
              "      <td>-0.015190</td>\n",
              "      <td>NaN</td>\n",
              "      <td>-0.020491</td>\n",
              "      <td>NaN</td>\n",
              "      <td>-0.025846</td>\n",
              "      <td>0.036623</td>\n",
              "      <td>-0.045695</td>\n",
              "      <td>0.037163</td>\n",
              "      <td>-0.044853</td>\n",
              "      <td>0.048348</td>\n",
              "    </tr>\n",
              "    <tr>\n",
              "      <th>maximum_speed_limit</th>\n",
              "      <td>-0.018713</td>\n",
              "      <td>-0.036756</td>\n",
              "      <td>0.384002</td>\n",
              "      <td>-0.327474</td>\n",
              "      <td>-0.020245</td>\n",
              "      <td>-0.015190</td>\n",
              "      <td>1.000000</td>\n",
              "      <td>NaN</td>\n",
              "      <td>0.085080</td>\n",
              "      <td>NaN</td>\n",
              "      <td>0.059511</td>\n",
              "      <td>0.253147</td>\n",
              "      <td>-0.033018</td>\n",
              "      <td>0.252958</td>\n",
              "      <td>-0.032907</td>\n",
              "      <td>0.425715</td>\n",
              "    </tr>\n",
              "    <tr>\n",
              "      <th>vehicle_restricted</th>\n",
              "      <td>NaN</td>\n",
              "      <td>NaN</td>\n",
              "      <td>NaN</td>\n",
              "      <td>NaN</td>\n",
              "      <td>NaN</td>\n",
              "      <td>NaN</td>\n",
              "      <td>NaN</td>\n",
              "      <td>NaN</td>\n",
              "      <td>NaN</td>\n",
              "      <td>NaN</td>\n",
              "      <td>NaN</td>\n",
              "      <td>NaN</td>\n",
              "      <td>NaN</td>\n",
              "      <td>NaN</td>\n",
              "      <td>NaN</td>\n",
              "      <td>NaN</td>\n",
              "    </tr>\n",
              "    <tr>\n",
              "      <th>weight_restricted</th>\n",
              "      <td>-0.011030</td>\n",
              "      <td>-0.003231</td>\n",
              "      <td>-0.177224</td>\n",
              "      <td>-0.118630</td>\n",
              "      <td>-0.008790</td>\n",
              "      <td>-0.020491</td>\n",
              "      <td>0.085080</td>\n",
              "      <td>NaN</td>\n",
              "      <td>1.000000</td>\n",
              "      <td>NaN</td>\n",
              "      <td>0.792803</td>\n",
              "      <td>-0.128291</td>\n",
              "      <td>0.034926</td>\n",
              "      <td>-0.128305</td>\n",
              "      <td>0.034915</td>\n",
              "      <td>0.294092</td>\n",
              "    </tr>\n",
              "    <tr>\n",
              "      <th>height_restricted</th>\n",
              "      <td>NaN</td>\n",
              "      <td>NaN</td>\n",
              "      <td>NaN</td>\n",
              "      <td>NaN</td>\n",
              "      <td>NaN</td>\n",
              "      <td>NaN</td>\n",
              "      <td>NaN</td>\n",
              "      <td>NaN</td>\n",
              "      <td>NaN</td>\n",
              "      <td>NaN</td>\n",
              "      <td>NaN</td>\n",
              "      <td>NaN</td>\n",
              "      <td>NaN</td>\n",
              "      <td>NaN</td>\n",
              "      <td>NaN</td>\n",
              "      <td>NaN</td>\n",
              "    </tr>\n",
              "    <tr>\n",
              "      <th>road_type</th>\n",
              "      <td>-0.004599</td>\n",
              "      <td>-0.007880</td>\n",
              "      <td>-0.050715</td>\n",
              "      <td>-0.125618</td>\n",
              "      <td>0.042977</td>\n",
              "      <td>-0.025846</td>\n",
              "      <td>0.059511</td>\n",
              "      <td>NaN</td>\n",
              "      <td>0.792803</td>\n",
              "      <td>NaN</td>\n",
              "      <td>1.000000</td>\n",
              "      <td>-0.043420</td>\n",
              "      <td>0.033684</td>\n",
              "      <td>-0.043430</td>\n",
              "      <td>0.033664</td>\n",
              "      <td>0.200840</td>\n",
              "    </tr>\n",
              "    <tr>\n",
              "      <th>start_latitude</th>\n",
              "      <td>-0.016818</td>\n",
              "      <td>-0.021599</td>\n",
              "      <td>0.182674</td>\n",
              "      <td>-0.204793</td>\n",
              "      <td>-0.014906</td>\n",
              "      <td>0.036623</td>\n",
              "      <td>0.253147</td>\n",
              "      <td>NaN</td>\n",
              "      <td>-0.128291</td>\n",
              "      <td>NaN</td>\n",
              "      <td>-0.043420</td>\n",
              "      <td>1.000000</td>\n",
              "      <td>0.127042</td>\n",
              "      <td>0.999106</td>\n",
              "      <td>0.127005</td>\n",
              "      <td>0.036280</td>\n",
              "    </tr>\n",
              "    <tr>\n",
              "      <th>start_longitude</th>\n",
              "      <td>-0.004954</td>\n",
              "      <td>-0.011478</td>\n",
              "      <td>-0.094806</td>\n",
              "      <td>0.007401</td>\n",
              "      <td>0.026895</td>\n",
              "      <td>-0.045695</td>\n",
              "      <td>-0.033018</td>\n",
              "      <td>NaN</td>\n",
              "      <td>0.034926</td>\n",
              "      <td>NaN</td>\n",
              "      <td>0.033684</td>\n",
              "      <td>0.127042</td>\n",
              "      <td>1.000000</td>\n",
              "      <td>0.126900</td>\n",
              "      <td>0.999219</td>\n",
              "      <td>-0.001168</td>\n",
              "    </tr>\n",
              "    <tr>\n",
              "      <th>end_latitude</th>\n",
              "      <td>-0.016786</td>\n",
              "      <td>-0.021597</td>\n",
              "      <td>0.182330</td>\n",
              "      <td>-0.204843</td>\n",
              "      <td>-0.014907</td>\n",
              "      <td>0.037163</td>\n",
              "      <td>0.252958</td>\n",
              "      <td>NaN</td>\n",
              "      <td>-0.128305</td>\n",
              "      <td>NaN</td>\n",
              "      <td>-0.043430</td>\n",
              "      <td>0.999106</td>\n",
              "      <td>0.126900</td>\n",
              "      <td>1.000000</td>\n",
              "      <td>0.127098</td>\n",
              "      <td>0.036139</td>\n",
              "    </tr>\n",
              "    <tr>\n",
              "      <th>end_longitude</th>\n",
              "      <td>-0.004972</td>\n",
              "      <td>-0.011489</td>\n",
              "      <td>-0.094732</td>\n",
              "      <td>0.007386</td>\n",
              "      <td>0.026896</td>\n",
              "      <td>-0.044853</td>\n",
              "      <td>-0.032907</td>\n",
              "      <td>NaN</td>\n",
              "      <td>0.034915</td>\n",
              "      <td>NaN</td>\n",
              "      <td>0.033664</td>\n",
              "      <td>0.127005</td>\n",
              "      <td>0.999219</td>\n",
              "      <td>0.127098</td>\n",
              "      <td>1.000000</td>\n",
              "      <td>-0.001000</td>\n",
              "    </tr>\n",
              "    <tr>\n",
              "      <th>target</th>\n",
              "      <td>-0.033997</td>\n",
              "      <td>-0.159407</td>\n",
              "      <td>-0.144256</td>\n",
              "      <td>-0.261693</td>\n",
              "      <td>-0.008408</td>\n",
              "      <td>0.048348</td>\n",
              "      <td>0.425715</td>\n",
              "      <td>NaN</td>\n",
              "      <td>0.294092</td>\n",
              "      <td>NaN</td>\n",
              "      <td>0.200840</td>\n",
              "      <td>0.036280</td>\n",
              "      <td>-0.001168</td>\n",
              "      <td>0.036139</td>\n",
              "      <td>-0.001000</td>\n",
              "      <td>1.000000</td>\n",
              "    </tr>\n",
              "  </tbody>\n",
              "</table>\n",
              "</div>\n",
              "      <button class=\"colab-df-convert\" onclick=\"convertToInteractive('df-d97f669b-a514-47b6-a8dc-20ca8a923549')\"\n",
              "              title=\"Convert this dataframe to an interactive table.\"\n",
              "              style=\"display:none;\">\n",
              "        \n",
              "  <svg xmlns=\"http://www.w3.org/2000/svg\" height=\"24px\"viewBox=\"0 0 24 24\"\n",
              "       width=\"24px\">\n",
              "    <path d=\"M0 0h24v24H0V0z\" fill=\"none\"/>\n",
              "    <path d=\"M18.56 5.44l.94 2.06.94-2.06 2.06-.94-2.06-.94-.94-2.06-.94 2.06-2.06.94zm-11 1L8.5 8.5l.94-2.06 2.06-.94-2.06-.94L8.5 2.5l-.94 2.06-2.06.94zm10 10l.94 2.06.94-2.06 2.06-.94-2.06-.94-.94-2.06-.94 2.06-2.06.94z\"/><path d=\"M17.41 7.96l-1.37-1.37c-.4-.4-.92-.59-1.43-.59-.52 0-1.04.2-1.43.59L10.3 9.45l-7.72 7.72c-.78.78-.78 2.05 0 2.83L4 21.41c.39.39.9.59 1.41.59.51 0 1.02-.2 1.41-.59l7.78-7.78 2.81-2.81c.8-.78.8-2.07 0-2.86zM5.41 20L4 18.59l7.72-7.72 1.47 1.35L5.41 20z\"/>\n",
              "  </svg>\n",
              "      </button>\n",
              "      \n",
              "  <style>\n",
              "    .colab-df-container {\n",
              "      display:flex;\n",
              "      flex-wrap:wrap;\n",
              "      gap: 12px;\n",
              "    }\n",
              "\n",
              "    .colab-df-convert {\n",
              "      background-color: #E8F0FE;\n",
              "      border: none;\n",
              "      border-radius: 50%;\n",
              "      cursor: pointer;\n",
              "      display: none;\n",
              "      fill: #1967D2;\n",
              "      height: 32px;\n",
              "      padding: 0 0 0 0;\n",
              "      width: 32px;\n",
              "    }\n",
              "\n",
              "    .colab-df-convert:hover {\n",
              "      background-color: #E2EBFA;\n",
              "      box-shadow: 0px 1px 2px rgba(60, 64, 67, 0.3), 0px 1px 3px 1px rgba(60, 64, 67, 0.15);\n",
              "      fill: #174EA6;\n",
              "    }\n",
              "\n",
              "    [theme=dark] .colab-df-convert {\n",
              "      background-color: #3B4455;\n",
              "      fill: #D2E3FC;\n",
              "    }\n",
              "\n",
              "    [theme=dark] .colab-df-convert:hover {\n",
              "      background-color: #434B5C;\n",
              "      box-shadow: 0px 1px 3px 1px rgba(0, 0, 0, 0.15);\n",
              "      filter: drop-shadow(0px 1px 2px rgba(0, 0, 0, 0.3));\n",
              "      fill: #FFFFFF;\n",
              "    }\n",
              "  </style>\n",
              "\n",
              "      <script>\n",
              "        const buttonEl =\n",
              "          document.querySelector('#df-d97f669b-a514-47b6-a8dc-20ca8a923549 button.colab-df-convert');\n",
              "        buttonEl.style.display =\n",
              "          google.colab.kernel.accessAllowed ? 'block' : 'none';\n",
              "\n",
              "        async function convertToInteractive(key) {\n",
              "          const element = document.querySelector('#df-d97f669b-a514-47b6-a8dc-20ca8a923549');\n",
              "          const dataTable =\n",
              "            await google.colab.kernel.invokeFunction('convertToInteractive',\n",
              "                                                     [key], {});\n",
              "          if (!dataTable) return;\n",
              "\n",
              "          const docLinkHtml = 'Like what you see? Visit the ' +\n",
              "            '<a target=\"_blank\" href=https://colab.research.google.com/notebooks/data_table.ipynb>data table notebook</a>'\n",
              "            + ' to learn more about interactive tables.';\n",
              "          element.innerHTML = '';\n",
              "          dataTable['output_type'] = 'display_data';\n",
              "          await google.colab.output.renderOutput(dataTable, element);\n",
              "          const docLink = document.createElement('div');\n",
              "          docLink.innerHTML = docLinkHtml;\n",
              "          element.appendChild(docLink);\n",
              "        }\n",
              "      </script>\n",
              "    </div>\n",
              "  </div>\n",
              "  "
            ]
          },
          "metadata": {},
          "execution_count": 30
        }
      ]
    },
    {
      "cell_type": "code",
      "source": [
        "#컬럼수가 많아서 target과 상관도가 높은 순서대로 출력해봄\n",
        "\n",
        "corr_mat=train.corr()\n",
        "corr_mat['target'].sort_values(ascending=False)\n",
        "\n",
        "\n",
        "# vehicle_restricted/height_restricted/base_date/target/start_node_name/end_node_name/id제거----> 여기서 base_date를 다시 넣음\n",
        "#day_of_week road_name start_turn_restricted end_turn_restricted -> 라벨인코더\n",
        "#maximum_speed_limit / weight_restricted / road_rating  / road_type    ---> 상관관계가 높은 네가지만 이상치 확인\n",
        "\n",
        "## 최종\n",
        "#vehicle_restricted/height_restricted/target/start_node_name/end_node_name/id 제거\n",
        "#start_longitude랑 end_longitude /// end_latitude랑 start_latitude 이상치 확인"
      ],
      "metadata": {
        "colab": {
          "base_uri": "https://localhost:8080/"
        },
        "id": "OOjSwXl5FE-z",
        "outputId": "335ffbb6-e667-4995-bdc5-e3cf81928c54"
      },
      "execution_count": 32,
      "outputs": [
        {
          "output_type": "execute_result",
          "data": {
            "text/plain": [
              "target                 1.000000\n",
              "maximum_speed_limit    0.425715\n",
              "weight_restricted      0.294092\n",
              "road_type              0.200840\n",
              "connect_code           0.048348\n",
              "start_latitude         0.036280\n",
              "end_latitude           0.036139\n",
              "end_longitude         -0.001000\n",
              "start_longitude       -0.001168\n",
              "multi_linked          -0.008408\n",
              "base_date             -0.033997\n",
              "lane_count            -0.144256\n",
              "base_hour             -0.159407\n",
              "road_rating           -0.261693\n",
              "vehicle_restricted          NaN\n",
              "height_restricted           NaN\n",
              "Name: target, dtype: float64"
            ]
          },
          "metadata": {},
          "execution_count": 32
        }
      ]
    },
    {
      "cell_type": "markdown",
      "source": [
        "##이상치처리"
      ],
      "metadata": {
        "id": "Y8KFTwUePRuT"
      }
    },
    {
      "cell_type": "code",
      "source": [
        "train['maximum_speed_limit'].value_counts()"
      ],
      "metadata": {
        "colab": {
          "base_uri": "https://localhost:8080/"
        },
        "id": "JkZhUyN2--ay",
        "outputId": "d7306a84-ed48-45c5-fdf4-604797b998fd"
      },
      "execution_count": 37,
      "outputs": [
        {
          "output_type": "execute_result",
          "data": {
            "text/plain": [
              "60.0    1665573\n",
              "50.0    1103682\n",
              "70.0     995077\n",
              "80.0     700334\n",
              "30.0     229761\n",
              "40.0       6790\n",
              "Name: maximum_speed_limit, dtype: int64"
            ]
          },
          "metadata": {},
          "execution_count": 37
        }
      ]
    },
    {
      "cell_type": "code",
      "source": [
        "sns.boxplot(y='maximum_speed_limit',data=train)"
      ],
      "metadata": {
        "colab": {
          "base_uri": "https://localhost:8080/",
          "height": 270
        },
        "id": "XQURIl13sQW0",
        "outputId": "59cd6aea-f0f8-4194-dd45-1a9aa047d4f5"
      },
      "execution_count": 33,
      "outputs": [
        {
          "output_type": "execute_result",
          "data": {
            "text/plain": [
              "<matplotlib.axes._subplots.AxesSubplot at 0x7f71440ecd30>"
            ]
          },
          "metadata": {},
          "execution_count": 33
        },
        {
          "output_type": "display_data",
          "data": {
            "text/plain": [
              "<Figure size 432x288 with 1 Axes>"
            ],
            "image/png": "[encoded data removed]"
          },
          "metadata": {
            "needs_background": "light"
          }
        }
      ]
    },
    {
      "cell_type": "code",
      "source": [
        "#통과제한하중\n",
        "train['weight_restricted'].value_counts()"
      ],
      "metadata": {
        "colab": {
          "base_uri": "https://localhost:8080/"
        },
        "id": "g4OBoTmn_CHh",
        "outputId": "869930c6-664f-4c51-ebb8-6c4f5cd42f26"
      },
      "execution_count": 40,
      "outputs": [
        {
          "output_type": "execute_result",
          "data": {
            "text/plain": [
              "0.0        4032874\n",
              "43200.0     410361\n",
              "32400.0     239305\n",
              "50000.0      18677\n",
              "Name: weight_restricted, dtype: int64"
            ]
          },
          "metadata": {},
          "execution_count": 40
        }
      ]
    },
    {
      "cell_type": "code",
      "source": [
        "sns.boxplot(y='weight_restricted',data=train)"
      ],
      "metadata": {
        "colab": {
          "base_uri": "https://localhost:8080/",
          "height": 270
        },
        "id": "joC5sUiT5S94",
        "outputId": "09591083-e51b-4724-87b8-4e6aca0498ab"
      },
      "execution_count": 41,
      "outputs": [
        {
          "output_type": "execute_result",
          "data": {
            "text/plain": [
              "<matplotlib.axes._subplots.AxesSubplot at 0x7f703d088e80>"
            ]
          },
          "metadata": {},
          "execution_count": 41
        },
        {
          "output_type": "display_data",
          "data": {
            "text/plain": [
              "<Figure size 432x288 with 1 Axes>"
            ],
            "image/png": "[encoded data removed]"
          },
          "metadata": {
            "needs_background": "light"
          }
        }
      ]
    },
    {
      "cell_type": "code",
      "source": [
        "# test=train[train['weight_restricted']<50000.0]\n",
        "# test.head()"
      ],
      "metadata": {
        "id": "KL4ExLzW43lb"
      },
      "execution_count": 42,
      "outputs": []
    },
    {
      "cell_type": "code",
      "source": [
        "# train.drop(index1)\n",
        "# #boolean indexing"
      ],
      "metadata": {
        "id": "w-si9lKE-TKZ"
      },
      "execution_count": 43,
      "outputs": []
    },
    {
      "cell_type": "code",
      "source": [
        "train['road_rating'].value_counts()"
      ],
      "metadata": {
        "colab": {
          "base_uri": "https://localhost:8080/"
        },
        "id": "Gm-YJ1cS_enc",
        "outputId": "f73e0da1-547c-4177-9178-281af8d8dda4"
      },
      "execution_count": 46,
      "outputs": [
        {
          "output_type": "execute_result",
          "data": {
            "text/plain": [
              "103    2159511\n",
              "107    1582214\n",
              "106     959492\n",
              "Name: road_rating, dtype: int64"
            ]
          },
          "metadata": {},
          "execution_count": 46
        }
      ]
    },
    {
      "cell_type": "code",
      "source": [
        "sns.boxplot(y='road_rating', data=train)\n",
        "#seaborn library사용 // dataframe count함수"
      ],
      "metadata": {
        "colab": {
          "base_uri": "https://localhost:8080/",
          "height": 270
        },
        "id": "dPi4gg0b3wME",
        "outputId": "4299b3ea-7a78-4370-a90e-0b37ebb5cd51"
      },
      "execution_count": 45,
      "outputs": [
        {
          "output_type": "execute_result",
          "data": {
            "text/plain": [
              "<matplotlib.axes._subplots.AxesSubplot at 0x7f703d021ee0>"
            ]
          },
          "metadata": {},
          "execution_count": 45
        },
        {
          "output_type": "display_data",
          "data": {
            "text/plain": [
              "<Figure size 432x288 with 1 Axes>"
            ],
            "image/png": "[encoded data removed]"
          },
          "metadata": {
            "needs_background": "light"
          }
        }
      ]
    },
    {
      "cell_type": "code",
      "source": [
        "train['road_type'].value_counts()"
      ],
      "metadata": {
        "colab": {
          "base_uri": "https://localhost:8080/"
        },
        "id": "YBGPlvkS_iZ8",
        "outputId": "65bab0a4-843c-4d0b-90fc-b6f1e1dc67b4"
      },
      "execution_count": 47,
      "outputs": [
        {
          "output_type": "execute_result",
          "data": {
            "text/plain": [
              "0    3737117\n",
              "3     964100\n",
              "Name: road_type, dtype: int64"
            ]
          },
          "metadata": {},
          "execution_count": 47
        }
      ]
    },
    {
      "cell_type": "code",
      "source": [
        "sns.boxplot(y='road_type', data=train)"
      ],
      "metadata": {
        "colab": {
          "base_uri": "https://localhost:8080/",
          "height": 270
        },
        "id": "86s1S_ew3xCc",
        "outputId": "2c32f69a-88e4-46af-b0f1-97fed6c14f67"
      },
      "execution_count": 52,
      "outputs": [
        {
          "output_type": "execute_result",
          "data": {
            "text/plain": [
              "<matplotlib.axes._subplots.AxesSubplot at 0x7f703ce70460>"
            ]
          },
          "metadata": {},
          "execution_count": 52
        },
        {
          "output_type": "display_data",
          "data": {
            "text/plain": [
              "<Figure size 432x288 with 1 Axes>"
            ],
            "image/png": "[encoded data removed]"
          },
          "metadata": {
            "needs_background": "light"
          }
        }
      ]
    },
    {
      "cell_type": "code",
      "source": [
        "#start_longitude랑 end_longitude /// end_latitude랑 start_latitude 이상치 확인\n",
        "\n",
        "train['start_longitude'].value_counts()"
      ],
      "metadata": {
        "colab": {
          "base_uri": "https://localhost:8080/"
        },
        "id": "UBbWfwAU_u-L",
        "outputId": "200d9796-9547-43e2-d70b-657198a8a59e"
      },
      "execution_count": 50,
      "outputs": [
        {
          "output_type": "execute_result",
          "data": {
            "text/plain": [
              "126.567766    23291\n",
              "126.736249    20775\n",
              "126.456384    18137\n",
              "126.556173    18084\n",
              "126.505998    18076\n",
              "              ...  \n",
              "126.682267      881\n",
              "126.677154      788\n",
              "126.524410      744\n",
              "126.524429      744\n",
              "126.525745      587\n",
              "Name: start_longitude, Length: 586, dtype: int64"
            ]
          },
          "metadata": {},
          "execution_count": 50
        }
      ]
    },
    {
      "cell_type": "code",
      "source": [
        "sns.boxplot(y='start_longitude', data=train)"
      ],
      "metadata": {
        "colab": {
          "base_uri": "https://localhost:8080/",
          "height": 270
        },
        "id": "1eLgKB0G_3HP",
        "outputId": "0b1a5607-3d17-4dbc-a468-3870a309b0cb"
      },
      "execution_count": 53,
      "outputs": [
        {
          "output_type": "execute_result",
          "data": {
            "text/plain": [
              "<matplotlib.axes._subplots.AxesSubplot at 0x7f703ccfdeb0>"
            ]
          },
          "metadata": {},
          "execution_count": 53
        },
        {
          "output_type": "display_data",
          "data": {
            "text/plain": [
              "<Figure size 432x288 with 1 Axes>"
            ],
            "image/png": "[encoded data removed]"
          },
          "metadata": {
            "needs_background": "light"
          }
        }
      ]
    },
    {
      "cell_type": "code",
      "source": [
        "# test=train[train['weight_restricted']<50000.0]\n",
        "# test.head()\n",
        "\n",
        "sc=train[train['start_longitude']>126.8]\n",
        "sc.head()"
      ],
      "metadata": {
        "colab": {
          "base_uri": "https://localhost:8080/",
          "height": 369
        },
        "id": "xS9dzE_WAAHg",
        "outputId": "3e94c2c5-01ef-415d-fa8a-58c2a1aca1bf"
      },
      "execution_count": 54,
      "outputs": [
        {
          "output_type": "execute_result",
          "data": {
            "text/plain": [
              "                id  base_date day_of_week  base_hour  lane_count  road_rating  \\\n",
              "19   TRAIN_0000019   20220210           목         12           2          103   \n",
              "49   TRAIN_0000049   20220530           월          7           1          107   \n",
              "90   TRAIN_0000090   20220608           수         17           1          106   \n",
              "98   TRAIN_0000098   20211205           일          9           2          103   \n",
              "115  TRAIN_0000115   20220628           화          6           1          106   \n",
              "\n",
              "     road_name  multi_linked  connect_code  maximum_speed_limit  ...  \\\n",
              "19    일반국도12호선             0             0                 80.0  ...   \n",
              "49           -             0             0                 60.0  ...   \n",
              "90   지방도1112호선             0             0                 60.0  ...   \n",
              "98    일반국도12호선             0             0                 60.0  ...   \n",
              "115  지방도1119호선             0             0                 60.0  ...   \n",
              "\n",
              "     road_type  start_node_name  start_latitude  start_longitude  \\\n",
              "19           0          오조한도교입구       33.465318       126.908612   \n",
              "49           0            난산사거리       33.402546       126.864244   \n",
              "90           0            평대초교앞       33.529194       126.839578   \n",
              "98           0           연수동삼거리       33.519338       126.874347   \n",
              "115          0             난산입구       33.412421       126.832254   \n",
              "\n",
              "    start_turn_restricted  end_node_name  end_latitude end_longitude  \\\n",
              "19                     없음          송내교차로     33.470372    126.902793   \n",
              "49                     없음           난산입구     33.412421    126.832254   \n",
              "90                     없음          비자림입구     33.496623    126.812152   \n",
              "98                     없음           세화입구     33.518311    126.861000   \n",
              "115                    없음         수산2리입구     33.431964    126.862526   \n",
              "\n",
              "    end_turn_restricted  target  \n",
              "19                   없음    46.0  \n",
              "49                   없음    57.0  \n",
              "90                   없음    53.0  \n",
              "98                   없음    48.0  \n",
              "115                  없음    50.0  \n",
              "\n",
              "[5 rows x 23 columns]"
            ],
            "text/html": [
              "\n",
              "  <div id=\"df-87d75278-5d1a-4283-ad0e-fffe2c3cb4bd\">\n",
              "    <div class=\"colab-df-container\">\n",
              "      <div>\n",
              "<style scoped>\n",
              "    .dataframe tbody tr th:only-of-type {\n",
              "        vertical-align: middle;\n",
              "    }\n",
              "\n",
              "    .dataframe tbody tr th {\n",
              "        vertical-align: top;\n",
              "    }\n",
              "\n",
              "    .dataframe thead th {\n",
              "        text-align: right;\n",
              "    }\n",
              "</style>\n",
              "<table border=\"1\" class=\"dataframe\">\n",
              "  <thead>\n",
              "    <tr style=\"text-align: right;\">\n",
              "      <th></th>\n",
              "      <th>id</th>\n",
              "      <th>base_date</th>\n",
              "      <th>day_of_week</th>\n",
              "      <th>base_hour</th>\n",
              "      <th>lane_count</th>\n",
              "      <th>road_rating</th>\n",
              "      <th>road_name</th>\n",
              "      <th>multi_linked</th>\n",
              "      <th>connect_code</th>\n",
              "      <th>maximum_speed_limit</th>\n",
              "      <th>...</th>\n",
              "      <th>road_type</th>\n",
              "      <th>start_node_name</th>\n",
              "      <th>start_latitude</th>\n",
              "      <th>start_longitude</th>\n",
              "      <th>start_turn_restricted</th>\n",
              "      <th>end_node_name</th>\n",
              "      <th>end_latitude</th>\n",
              "      <th>end_longitude</th>\n",
              "      <th>end_turn_restricted</th>\n",
              "      <th>target</th>\n",
              "    </tr>\n",
              "  </thead>\n",
              "  <tbody>\n",
              "    <tr>\n",
              "      <th>19</th>\n",
              "      <td>TRAIN_0000019</td>\n",
              "      <td>20220210</td>\n",
              "      <td>목</td>\n",
              "      <td>12</td>\n",
              "      <td>2</td>\n",
              "      <td>103</td>\n",
              "      <td>일반국도12호선</td>\n",
              "      <td>0</td>\n",
              "      <td>0</td>\n",
              "      <td>80.0</td>\n",
              "      <td>...</td>\n",
              "      <td>0</td>\n",
              "      <td>오조한도교입구</td>\n",
              "      <td>33.465318</td>\n",
              "      <td>126.908612</td>\n",
              "      <td>없음</td>\n",
              "      <td>송내교차로</td>\n",
              "      <td>33.470372</td>\n",
              "      <td>126.902793</td>\n",
              "      <td>없음</td>\n",
              "      <td>46.0</td>\n",
              "    </tr>\n",
              "    <tr>\n",
              "      <th>49</th>\n",
              "      <td>TRAIN_0000049</td>\n",
              "      <td>20220530</td>\n",
              "      <td>월</td>\n",
              "      <td>7</td>\n",
              "      <td>1</td>\n",
              "      <td>107</td>\n",
              "      <td>-</td>\n",
              "      <td>0</td>\n",
              "      <td>0</td>\n",
              "      <td>60.0</td>\n",
              "      <td>...</td>\n",
              "      <td>0</td>\n",
              "      <td>난산사거리</td>\n",
              "      <td>33.402546</td>\n",
              "      <td>126.864244</td>\n",
              "      <td>없음</td>\n",
              "      <td>난산입구</td>\n",
              "      <td>33.412421</td>\n",
              "      <td>126.832254</td>\n",
              "      <td>없음</td>\n",
              "      <td>57.0</td>\n",
              "    </tr>\n",
              "    <tr>\n",
              "      <th>90</th>\n",
              "      <td>TRAIN_0000090</td>\n",
              "      <td>20220608</td>\n",
              "      <td>수</td>\n",
              "      <td>17</td>\n",
              "      <td>1</td>\n",
              "      <td>106</td>\n",
              "      <td>지방도1112호선</td>\n",
              "      <td>0</td>\n",
              "      <td>0</td>\n",
              "      <td>60.0</td>\n",
              "      <td>...</td>\n",
              "      <td>0</td>\n",
              "      <td>평대초교앞</td>\n",
              "      <td>33.529194</td>\n",
              "      <td>126.839578</td>\n",
              "      <td>없음</td>\n",
              "      <td>비자림입구</td>\n",
              "      <td>33.496623</td>\n",
              "      <td>126.812152</td>\n",
              "      <td>없음</td>\n",
              "      <td>53.0</td>\n",
              "    </tr>\n",
              "    <tr>\n",
              "      <th>98</th>\n",
              "      <td>TRAIN_0000098</td>\n",
              "      <td>20211205</td>\n",
              "      <td>일</td>\n",
              "      <td>9</td>\n",
              "      <td>2</td>\n",
              "      <td>103</td>\n",
              "      <td>일반국도12호선</td>\n",
              "      <td>0</td>\n",
              "      <td>0</td>\n",
              "      <td>60.0</td>\n",
              "      <td>...</td>\n",
              "      <td>0</td>\n",
              "      <td>연수동삼거리</td>\n",
              "      <td>33.519338</td>\n",
              "      <td>126.874347</td>\n",
              "      <td>없음</td>\n",
              "      <td>세화입구</td>\n",
              "      <td>33.518311</td>\n",
              "      <td>126.861000</td>\n",
              "      <td>없음</td>\n",
              "      <td>48.0</td>\n",
              "    </tr>\n",
              "    <tr>\n",
              "      <th>115</th>\n",
              "      <td>TRAIN_0000115</td>\n",
              "      <td>20220628</td>\n",
              "      <td>화</td>\n",
              "      <td>6</td>\n",
              "      <td>1</td>\n",
              "      <td>106</td>\n",
              "      <td>지방도1119호선</td>\n",
              "      <td>0</td>\n",
              "      <td>0</td>\n",
              "      <td>60.0</td>\n",
              "      <td>...</td>\n",
              "      <td>0</td>\n",
              "      <td>난산입구</td>\n",
              "      <td>33.412421</td>\n",
              "      <td>126.832254</td>\n",
              "      <td>없음</td>\n",
              "      <td>수산2리입구</td>\n",
              "      <td>33.431964</td>\n",
              "      <td>126.862526</td>\n",
              "      <td>없음</td>\n",
              "      <td>50.0</td>\n",
              "    </tr>\n",
              "  </tbody>\n",
              "</table>\n",
              "<p>5 rows × 23 columns</p>\n",
              "</div>\n",
              "      <button class=\"colab-df-convert\" onclick=\"convertToInteractive('df-87d75278-5d1a-4283-ad0e-fffe2c3cb4bd')\"\n",
              "              title=\"Convert this dataframe to an interactive table.\"\n",
              "              style=\"display:none;\">\n",
              "        \n",
              "  <svg xmlns=\"http://www.w3.org/2000/svg\" height=\"24px\"viewBox=\"0 0 24 24\"\n",
              "       width=\"24px\">\n",
              "    <path d=\"M0 0h24v24H0V0z\" fill=\"none\"/>\n",
              "    <path d=\"M18.56 5.44l.94 2.06.94-2.06 2.06-.94-2.06-.94-.94-2.06-.94 2.06-2.06.94zm-11 1L8.5 8.5l.94-2.06 2.06-.94-2.06-.94L8.5 2.5l-.94 2.06-2.06.94zm10 10l.94 2.06.94-2.06 2.06-.94-2.06-.94-.94-2.06-.94 2.06-2.06.94z\"/><path d=\"M17.41 7.96l-1.37-1.37c-.4-.4-.92-.59-1.43-.59-.52 0-1.04.2-1.43.59L10.3 9.45l-7.72 7.72c-.78.78-.78 2.05 0 2.83L4 21.41c.39.39.9.59 1.41.59.51 0 1.02-.2 1.41-.59l7.78-7.78 2.81-2.81c.8-.78.8-2.07 0-2.86zM5.41 20L4 18.59l7.72-7.72 1.47 1.35L5.41 20z\"/>\n",
              "  </svg>\n",
              "      </button>\n",
              "      \n",
              "  <style>\n",
              "    .colab-df-container {\n",
              "      display:flex;\n",
              "      flex-wrap:wrap;\n",
              "      gap: 12px;\n",
              "    }\n",
              "\n",
              "    .colab-df-convert {\n",
              "      background-color: #E8F0FE;\n",
              "      border: none;\n",
              "      border-radius: 50%;\n",
              "      cursor: pointer;\n",
              "      display: none;\n",
              "      fill: #1967D2;\n",
              "      height: 32px;\n",
              "      padding: 0 0 0 0;\n",
              "      width: 32px;\n",
              "    }\n",
              "\n",
              "    .colab-df-convert:hover {\n",
              "      background-color: #E2EBFA;\n",
              "      box-shadow: 0px 1px 2px rgba(60, 64, 67, 0.3), 0px 1px 3px 1px rgba(60, 64, 67, 0.15);\n",
              "      fill: #174EA6;\n",
              "    }\n",
              "\n",
              "    [theme=dark] .colab-df-convert {\n",
              "      background-color: #3B4455;\n",
              "      fill: #D2E3FC;\n",
              "    }\n",
              "\n",
              "    [theme=dark] .colab-df-convert:hover {\n",
              "      background-color: #434B5C;\n",
              "      box-shadow: 0px 1px 3px 1px rgba(0, 0, 0, 0.15);\n",
              "      filter: drop-shadow(0px 1px 2px rgba(0, 0, 0, 0.3));\n",
              "      fill: #FFFFFF;\n",
              "    }\n",
              "  </style>\n",
              "\n",
              "      <script>\n",
              "        const buttonEl =\n",
              "          document.querySelector('#df-87d75278-5d1a-4283-ad0e-fffe2c3cb4bd button.colab-df-convert');\n",
              "        buttonEl.style.display =\n",
              "          google.colab.kernel.accessAllowed ? 'block' : 'none';\n",
              "\n",
              "        async function convertToInteractive(key) {\n",
              "          const element = document.querySelector('#df-87d75278-5d1a-4283-ad0e-fffe2c3cb4bd');\n",
              "          const dataTable =\n",
              "            await google.colab.kernel.invokeFunction('convertToInteractive',\n",
              "                                                     [key], {});\n",
              "          if (!dataTable) return;\n",
              "\n",
              "          const docLinkHtml = 'Like what you see? Visit the ' +\n",
              "            '<a target=\"_blank\" href=https://colab.research.google.com/notebooks/data_table.ipynb>data table notebook</a>'\n",
              "            + ' to learn more about interactive tables.';\n",
              "          element.innerHTML = '';\n",
              "          dataTable['output_type'] = 'display_data';\n",
              "          await google.colab.output.renderOutput(dataTable, element);\n",
              "          const docLink = document.createElement('div');\n",
              "          docLink.innerHTML = docLinkHtml;\n",
              "          element.appendChild(docLink);\n",
              "        }\n",
              "      </script>\n",
              "    </div>\n",
              "  </div>\n",
              "  "
            ]
          },
          "metadata": {},
          "execution_count": 54
        }
      ]
    },
    {
      "cell_type": "code",
      "source": [
        "train['end_longitude'].value_counts()"
      ],
      "metadata": {
        "colab": {
          "base_uri": "https://localhost:8080/"
        },
        "id": "fkTX8OX7_yMJ",
        "outputId": "0af68a47-5b1d-4917-9506-747448baa523"
      },
      "execution_count": 57,
      "outputs": [
        {
          "output_type": "execute_result",
          "data": {
            "text/plain": [
              "126.567766    23126\n",
              "126.736249    20791\n",
              "126.456384    18168\n",
              "126.505998    18126\n",
              "126.556173    18083\n",
              "              ...  \n",
              "126.680766      881\n",
              "126.678235      788\n",
              "126.524331      744\n",
              "126.524410      744\n",
              "126.524429      587\n",
              "Name: end_longitude, Length: 586, dtype: int64"
            ]
          },
          "metadata": {},
          "execution_count": 57
        }
      ]
    },
    {
      "cell_type": "code",
      "source": [
        "sns.boxplot(y='end_longitude', data=train)"
      ],
      "metadata": {
        "colab": {
          "base_uri": "https://localhost:8080/",
          "height": 270
        },
        "id": "RbYFL3JUAaAo",
        "outputId": "ce43c4f4-5cfd-44eb-8fd0-c5289103f053"
      },
      "execution_count": 55,
      "outputs": [
        {
          "output_type": "execute_result",
          "data": {
            "text/plain": [
              "<matplotlib.axes._subplots.AxesSubplot at 0x7f703cce22b0>"
            ]
          },
          "metadata": {},
          "execution_count": 55
        },
        {
          "output_type": "display_data",
          "data": {
            "text/plain": [
              "<Figure size 432x288 with 1 Axes>"
            ],
            "image/png": "[encoded data removed]"
          },
          "metadata": {
            "needs_background": "light"
          }
        }
      ]
    },
    {
      "cell_type": "code",
      "source": [
        "sc=train[train['end_longitude']>126.8]\n",
        "sc.head()"
      ],
      "metadata": {
        "colab": {
          "base_uri": "https://localhost:8080/",
          "height": 369
        },
        "id": "nwrG6Hz3AdRi",
        "outputId": "e8fe496b-9e77-4386-fa61-5c271a5a16f2"
      },
      "execution_count": 56,
      "outputs": [
        {
          "output_type": "execute_result",
          "data": {
            "text/plain": [
              "                id  base_date day_of_week  base_hour  lane_count  road_rating  \\\n",
              "19   TRAIN_0000019   20220210           목         12           2          103   \n",
              "49   TRAIN_0000049   20220530           월          7           1          107   \n",
              "90   TRAIN_0000090   20220608           수         17           1          106   \n",
              "98   TRAIN_0000098   20211205           일          9           2          103   \n",
              "115  TRAIN_0000115   20220628           화          6           1          106   \n",
              "\n",
              "     road_name  multi_linked  connect_code  maximum_speed_limit  ...  \\\n",
              "19    일반국도12호선             0             0                 80.0  ...   \n",
              "49           -             0             0                 60.0  ...   \n",
              "90   지방도1112호선             0             0                 60.0  ...   \n",
              "98    일반국도12호선             0             0                 60.0  ...   \n",
              "115  지방도1119호선             0             0                 60.0  ...   \n",
              "\n",
              "     road_type  start_node_name  start_latitude  start_longitude  \\\n",
              "19           0          오조한도교입구       33.465318       126.908612   \n",
              "49           0            난산사거리       33.402546       126.864244   \n",
              "90           0            평대초교앞       33.529194       126.839578   \n",
              "98           0           연수동삼거리       33.519338       126.874347   \n",
              "115          0             난산입구       33.412421       126.832254   \n",
              "\n",
              "    start_turn_restricted  end_node_name  end_latitude end_longitude  \\\n",
              "19                     없음          송내교차로     33.470372    126.902793   \n",
              "49                     없음           난산입구     33.412421    126.832254   \n",
              "90                     없음          비자림입구     33.496623    126.812152   \n",
              "98                     없음           세화입구     33.518311    126.861000   \n",
              "115                    없음         수산2리입구     33.431964    126.862526   \n",
              "\n",
              "    end_turn_restricted  target  \n",
              "19                   없음    46.0  \n",
              "49                   없음    57.0  \n",
              "90                   없음    53.0  \n",
              "98                   없음    48.0  \n",
              "115                  없음    50.0  \n",
              "\n",
              "[5 rows x 23 columns]"
            ],
            "text/html": [
              "\n",
              "  <div id=\"df-61d02b56-f683-4869-af75-a22473c7471f\">\n",
              "    <div class=\"colab-df-container\">\n",
              "      <div>\n",
              "<style scoped>\n",
              "    .dataframe tbody tr th:only-of-type {\n",
              "        vertical-align: middle;\n",
              "    }\n",
              "\n",
              "    .dataframe tbody tr th {\n",
              "        vertical-align: top;\n",
              "    }\n",
              "\n",
              "    .dataframe thead th {\n",
              "        text-align: right;\n",
              "    }\n",
              "</style>\n",
              "<table border=\"1\" class=\"dataframe\">\n",
              "  <thead>\n",
              "    <tr style=\"text-align: right;\">\n",
              "      <th></th>\n",
              "      <th>id</th>\n",
              "      <th>base_date</th>\n",
              "      <th>day_of_week</th>\n",
              "      <th>base_hour</th>\n",
              "      <th>lane_count</th>\n",
              "      <th>road_rating</th>\n",
              "      <th>road_name</th>\n",
              "      <th>multi_linked</th>\n",
              "      <th>connect_code</th>\n",
              "      <th>maximum_speed_limit</th>\n",
              "      <th>...</th>\n",
              "      <th>road_type</th>\n",
              "      <th>start_node_name</th>\n",
              "      <th>start_latitude</th>\n",
              "      <th>start_longitude</th>\n",
              "      <th>start_turn_restricted</th>\n",
              "      <th>end_node_name</th>\n",
              "      <th>end_latitude</th>\n",
              "      <th>end_longitude</th>\n",
              "      <th>end_turn_restricted</th>\n",
              "      <th>target</th>\n",
              "    </tr>\n",
              "  </thead>\n",
              "  <tbody>\n",
              "    <tr>\n",
              "      <th>19</th>\n",
              "      <td>TRAIN_0000019</td>\n",
              "      <td>20220210</td>\n",
              "      <td>목</td>\n",
              "      <td>12</td>\n",
              "      <td>2</td>\n",
              "      <td>103</td>\n",
              "      <td>일반국도12호선</td>\n",
              "      <td>0</td>\n",
              "      <td>0</td>\n",
              "      <td>80.0</td>\n",
              "      <td>...</td>\n",
              "      <td>0</td>\n",
              "      <td>오조한도교입구</td>\n",
              "      <td>33.465318</td>\n",
              "      <td>126.908612</td>\n",
              "      <td>없음</td>\n",
              "      <td>송내교차로</td>\n",
              "      <td>33.470372</td>\n",
              "      <td>126.902793</td>\n",
              "      <td>없음</td>\n",
              "      <td>46.0</td>\n",
              "    </tr>\n",
              "    <tr>\n",
              "      <th>49</th>\n",
              "      <td>TRAIN_0000049</td>\n",
              "      <td>20220530</td>\n",
              "      <td>월</td>\n",
              "      <td>7</td>\n",
              "      <td>1</td>\n",
              "      <td>107</td>\n",
              "      <td>-</td>\n",
              "      <td>0</td>\n",
              "      <td>0</td>\n",
              "      <td>60.0</td>\n",
              "      <td>...</td>\n",
              "      <td>0</td>\n",
              "      <td>난산사거리</td>\n",
              "      <td>33.402546</td>\n",
              "      <td>126.864244</td>\n",
              "      <td>없음</td>\n",
              "      <td>난산입구</td>\n",
              "      <td>33.412421</td>\n",
              "      <td>126.832254</td>\n",
              "      <td>없음</td>\n",
              "      <td>57.0</td>\n",
              "    </tr>\n",
              "    <tr>\n",
              "      <th>90</th>\n",
              "      <td>TRAIN_0000090</td>\n",
              "      <td>20220608</td>\n",
              "      <td>수</td>\n",
              "      <td>17</td>\n",
              "      <td>1</td>\n",
              "      <td>106</td>\n",
              "      <td>지방도1112호선</td>\n",
              "      <td>0</td>\n",
              "      <td>0</td>\n",
              "      <td>60.0</td>\n",
              "      <td>...</td>\n",
              "      <td>0</td>\n",
              "      <td>평대초교앞</td>\n",
              "      <td>33.529194</td>\n",
              "      <td>126.839578</td>\n",
              "      <td>없음</td>\n",
              "      <td>비자림입구</td>\n",
              "      <td>33.496623</td>\n",
              "      <td>126.812152</td>\n",
              "      <td>없음</td>\n",
              "      <td>53.0</td>\n",
              "    </tr>\n",
              "    <tr>\n",
              "      <th>98</th>\n",
              "      <td>TRAIN_0000098</td>\n",
              "      <td>20211205</td>\n",
              "      <td>일</td>\n",
              "      <td>9</td>\n",
              "      <td>2</td>\n",
              "      <td>103</td>\n",
              "      <td>일반국도12호선</td>\n",
              "      <td>0</td>\n",
              "      <td>0</td>\n",
              "      <td>60.0</td>\n",
              "      <td>...</td>\n",
              "      <td>0</td>\n",
              "      <td>연수동삼거리</td>\n",
              "      <td>33.519338</td>\n",
              "      <td>126.874347</td>\n",
              "      <td>없음</td>\n",
              "      <td>세화입구</td>\n",
              "      <td>33.518311</td>\n",
              "      <td>126.861000</td>\n",
              "      <td>없음</td>\n",
              "      <td>48.0</td>\n",
              "    </tr>\n",
              "    <tr>\n",
              "      <th>115</th>\n",
              "      <td>TRAIN_0000115</td>\n",
              "      <td>20220628</td>\n",
              "      <td>화</td>\n",
              "      <td>6</td>\n",
              "      <td>1</td>\n",
              "      <td>106</td>\n",
              "      <td>지방도1119호선</td>\n",
              "      <td>0</td>\n",
              "      <td>0</td>\n",
              "      <td>60.0</td>\n",
              "      <td>...</td>\n",
              "      <td>0</td>\n",
              "      <td>난산입구</td>\n",
              "      <td>33.412421</td>\n",
              "      <td>126.832254</td>\n",
              "      <td>없음</td>\n",
              "      <td>수산2리입구</td>\n",
              "      <td>33.431964</td>\n",
              "      <td>126.862526</td>\n",
              "      <td>없음</td>\n",
              "      <td>50.0</td>\n",
              "    </tr>\n",
              "  </tbody>\n",
              "</table>\n",
              "<p>5 rows × 23 columns</p>\n",
              "</div>\n",
              "      <button class=\"colab-df-convert\" onclick=\"convertToInteractive('df-61d02b56-f683-4869-af75-a22473c7471f')\"\n",
              "              title=\"Convert this dataframe to an interactive table.\"\n",
              "              style=\"display:none;\">\n",
              "        \n",
              "  <svg xmlns=\"http://www.w3.org/2000/svg\" height=\"24px\"viewBox=\"0 0 24 24\"\n",
              "       width=\"24px\">\n",
              "    <path d=\"M0 0h24v24H0V0z\" fill=\"none\"/>\n",
              "    <path d=\"M18.56 5.44l.94 2.06.94-2.06 2.06-.94-2.06-.94-.94-2.06-.94 2.06-2.06.94zm-11 1L8.5 8.5l.94-2.06 2.06-.94-2.06-.94L8.5 2.5l-.94 2.06-2.06.94zm10 10l.94 2.06.94-2.06 2.06-.94-2.06-.94-.94-2.06-.94 2.06-2.06.94z\"/><path d=\"M17.41 7.96l-1.37-1.37c-.4-.4-.92-.59-1.43-.59-.52 0-1.04.2-1.43.59L10.3 9.45l-7.72 7.72c-.78.78-.78 2.05 0 2.83L4 21.41c.39.39.9.59 1.41.59.51 0 1.02-.2 1.41-.59l7.78-7.78 2.81-2.81c.8-.78.8-2.07 0-2.86zM5.41 20L4 18.59l7.72-7.72 1.47 1.35L5.41 20z\"/>\n",
              "  </svg>\n",
              "      </button>\n",
              "      \n",
              "  <style>\n",
              "    .colab-df-container {\n",
              "      display:flex;\n",
              "      flex-wrap:wrap;\n",
              "      gap: 12px;\n",
              "    }\n",
              "\n",
              "    .colab-df-convert {\n",
              "      background-color: #E8F0FE;\n",
              "      border: none;\n",
              "      border-radius: 50%;\n",
              "      cursor: pointer;\n",
              "      display: none;\n",
              "      fill: #1967D2;\n",
              "      height: 32px;\n",
              "      padding: 0 0 0 0;\n",
              "      width: 32px;\n",
              "    }\n",
              "\n",
              "    .colab-df-convert:hover {\n",
              "      background-color: #E2EBFA;\n",
              "      box-shadow: 0px 1px 2px rgba(60, 64, 67, 0.3), 0px 1px 3px 1px rgba(60, 64, 67, 0.15);\n",
              "      fill: #174EA6;\n",
              "    }\n",
              "\n",
              "    [theme=dark] .colab-df-convert {\n",
              "      background-color: #3B4455;\n",
              "      fill: #D2E3FC;\n",
              "    }\n",
              "\n",
              "    [theme=dark] .colab-df-convert:hover {\n",
              "      background-color: #434B5C;\n",
              "      box-shadow: 0px 1px 3px 1px rgba(0, 0, 0, 0.15);\n",
              "      filter: drop-shadow(0px 1px 2px rgba(0, 0, 0, 0.3));\n",
              "      fill: #FFFFFF;\n",
              "    }\n",
              "  </style>\n",
              "\n",
              "      <script>\n",
              "        const buttonEl =\n",
              "          document.querySelector('#df-61d02b56-f683-4869-af75-a22473c7471f button.colab-df-convert');\n",
              "        buttonEl.style.display =\n",
              "          google.colab.kernel.accessAllowed ? 'block' : 'none';\n",
              "\n",
              "        async function convertToInteractive(key) {\n",
              "          const element = document.querySelector('#df-61d02b56-f683-4869-af75-a22473c7471f');\n",
              "          const dataTable =\n",
              "            await google.colab.kernel.invokeFunction('convertToInteractive',\n",
              "                                                     [key], {});\n",
              "          if (!dataTable) return;\n",
              "\n",
              "          const docLinkHtml = 'Like what you see? Visit the ' +\n",
              "            '<a target=\"_blank\" href=https://colab.research.google.com/notebooks/data_table.ipynb>data table notebook</a>'\n",
              "            + ' to learn more about interactive tables.';\n",
              "          element.innerHTML = '';\n",
              "          dataTable['output_type'] = 'display_data';\n",
              "          await google.colab.output.renderOutput(dataTable, element);\n",
              "          const docLink = document.createElement('div');\n",
              "          docLink.innerHTML = docLinkHtml;\n",
              "          element.appendChild(docLink);\n",
              "        }\n",
              "      </script>\n",
              "    </div>\n",
              "  </div>\n",
              "  "
            ]
          },
          "metadata": {},
          "execution_count": 56
        }
      ]
    },
    {
      "cell_type": "code",
      "source": [
        "train['start_latitude'].value_counts()"
      ],
      "metadata": {
        "colab": {
          "base_uri": "https://localhost:8080/"
        },
        "id": "MpuK2VdTBDZx",
        "outputId": "4ec8ad99-7bfe-4bb7-b728-b3d682a1d57b"
      },
      "execution_count": 58,
      "outputs": [
        {
          "output_type": "execute_result",
          "data": {
            "text/plain": [
              "33.248633    23291\n",
              "33.435941    20775\n",
              "33.465863    18137\n",
              "33.507349    18084\n",
              "33.500330    18076\n",
              "             ...  \n",
              "33.491729      881\n",
              "33.437249      788\n",
              "33.256671      744\n",
              "33.261270      744\n",
              "33.257401      587\n",
              "Name: start_latitude, Length: 586, dtype: int64"
            ]
          },
          "metadata": {},
          "execution_count": 58
        }
      ]
    },
    {
      "cell_type": "code",
      "source": [
        "sns.boxplot(y='start_latitude', data=train)"
      ],
      "metadata": {
        "colab": {
          "base_uri": "https://localhost:8080/",
          "height": 270
        },
        "id": "vBrHHOAxBMTB",
        "outputId": "d41b1773-945f-4dba-952e-085dc096a443"
      },
      "execution_count": 59,
      "outputs": [
        {
          "output_type": "execute_result",
          "data": {
            "text/plain": [
              "<matplotlib.axes._subplots.AxesSubplot at 0x7f703cc05220>"
            ]
          },
          "metadata": {},
          "execution_count": 59
        },
        {
          "output_type": "display_data",
          "data": {
            "text/plain": [
              "<Figure size 432x288 with 1 Axes>"
            ],
            "image/png": "[encoded data removed]"
          },
          "metadata": {
            "needs_background": "light"
          }
        }
      ]
    },
    {
      "cell_type": "code",
      "source": [
        "train['end_latitude'].value_counts()"
      ],
      "metadata": {
        "colab": {
          "base_uri": "https://localhost:8080/"
        },
        "id": "LUz-eVsoBQzP",
        "outputId": "f222476f-0198-42ff-c949-524e6539bc85"
      },
      "execution_count": 60,
      "outputs": [
        {
          "output_type": "execute_result",
          "data": {
            "text/plain": [
              "33.248633    23126\n",
              "33.435941    20791\n",
              "33.465863    18168\n",
              "33.500330    18126\n",
              "33.507349    18083\n",
              "             ...  \n",
              "33.491567      881\n",
              "33.468664      788\n",
              "33.254153      744\n",
              "33.256671      744\n",
              "33.261270      587\n",
              "Name: end_latitude, Length: 586, dtype: int64"
            ]
          },
          "metadata": {},
          "execution_count": 60
        }
      ]
    },
    {
      "cell_type": "code",
      "source": [
        "sns.boxplot(y='end_latitude', data=train)"
      ],
      "metadata": {
        "colab": {
          "base_uri": "https://localhost:8080/",
          "height": 270
        },
        "id": "iKexdjFYBUHI",
        "outputId": "475c6430-5275-4011-d55b-f115d1d515fc"
      },
      "execution_count": 61,
      "outputs": [
        {
          "output_type": "execute_result",
          "data": {
            "text/plain": [
              "<matplotlib.axes._subplots.AxesSubplot at 0x7f703a8062e0>"
            ]
          },
          "metadata": {},
          "execution_count": 61
        },
        {
          "output_type": "display_data",
          "data": {
            "text/plain": [
              "<Figure size 432x288 with 1 Axes>"
            ],
            "image/png": "[encoded data removed]"
          },
          "metadata": {
            "needs_background": "light"
          }
        }
      ]
    },
    {
      "cell_type": "markdown",
      "source": [
        "##라벨인코딩"
      ],
      "metadata": {
        "id": "ph9YGXnGAmjD"
      }
    },
    {
      "cell_type": "code",
      "source": [
        "from sklearn.preprocessing import OneHotEncoder\n",
        "from sklearn.preprocessing import LabelEncoder\n",
        "\n",
        "str_col=['day_of_week','road_name','start_turn_restricted','end_turn_restricted']\n",
        "# vehicle_restricted/height_restricted/base_date/target/start_node_name/end_node_name/id제거----> 여기서 base_date를 다시 넣음 \n",
        "#day_of_week road_name start_turn_restricted end_turn_restricted -> 라벨인코더\n",
        "for i in str_col:\n",
        "    le = LabelEncoder()\n",
        "    le=le.fit(train[i])\n",
        "    for label in np.unique(test[i]):\n",
        "        if label not in le.classes_: \n",
        "            le.classes_ = np.append(le.classes_, label)\n",
        "    train[i]=le.transform(train[i])\n",
        "    test[i]=le.transform(test[i])\n",
        "\n"
      ],
      "metadata": {
        "id": "rVk132Kwxo89"
      },
      "execution_count": 62,
      "outputs": []
    },
    {
      "cell_type": "markdown",
      "source": [
        "##데이터정리"
      ],
      "metadata": {
        "id": "fv1NQRIWBqKe"
      }
    },
    {
      "cell_type": "code",
      "source": [
        "train_x=train.drop(['vehicle_restricted','height_restricted','start_node_name','end_node_name','id','target','start_longitude','end_longitude'],axis=1)\n",
        "train_y=train['target']\n",
        "test=test.drop(['vehicle_restricted','height_restricted','start_node_name','end_node_name','id','start_longitude','end_longitude'],axis=1)\n",
        "# vehicle_restricted/height_restricted/base_date/target/start_node_name/end_node_name/id제거\n",
        "\n",
        "\n",
        "print(train_x.shape)\n",
        "print(train_y.shape)\n",
        "print(test.shape)"
      ],
      "metadata": {
        "colab": {
          "base_uri": "https://localhost:8080/"
        },
        "id": "_cHqzdk0BpUD",
        "outputId": "1c829416-d736-4956-94b3-a264b51786a0"
      },
      "execution_count": 63,
      "outputs": [
        {
          "output_type": "stream",
          "name": "stdout",
          "text": [
            "(4701217, 15)\n",
            "(4701217,)\n",
            "(291241, 15)\n"
          ]
        }
      ]
    },
    {
      "cell_type": "code",
      "source": [
        "train_x.info()"
      ],
      "metadata": {
        "colab": {
          "base_uri": "https://localhost:8080/"
        },
        "id": "Uq7K6-SxDK8J",
        "outputId": "cb0cc226-49b1-4ebd-ff2c-4ec21b4d3223"
      },
      "execution_count": 64,
      "outputs": [
        {
          "output_type": "stream",
          "name": "stdout",
          "text": [
            "<class 'pandas.core.frame.DataFrame'>\n",
            "RangeIndex: 4701217 entries, 0 to 4701216\n",
            "Data columns (total 15 columns):\n",
            " #   Column                 Dtype  \n",
            "---  ------                 -----  \n",
            " 0   base_date              int64  \n",
            " 1   day_of_week            int64  \n",
            " 2   base_hour              int64  \n",
            " 3   lane_count             int64  \n",
            " 4   road_rating            int64  \n",
            " 5   road_name              int64  \n",
            " 6   multi_linked           int64  \n",
            " 7   connect_code           int64  \n",
            " 8   maximum_speed_limit    float64\n",
            " 9   weight_restricted      float64\n",
            " 10  road_type              int64  \n",
            " 11  start_latitude         float64\n",
            " 12  start_turn_restricted  int64  \n",
            " 13  end_latitude           float64\n",
            " 14  end_turn_restricted    int64  \n",
            "dtypes: float64(4), int64(11)\n",
            "memory usage: 538.0 MB\n"
          ]
        }
      ]
    },
    {
      "cell_type": "markdown",
      "source": [
        "#모델링"
      ],
      "metadata": {
        "id": "R3XAi9P8DrhC"
      }
    },
    {
      "cell_type": "code",
      "source": [
        "x_train,x_valid,y_train,y_valid=train_test_split(train_x,train_y,test_size=0.2, shuffle=True,random_state=5)"
      ],
      "metadata": {
        "id": "47ierhjBDWLq"
      },
      "execution_count": 65,
      "outputs": []
    },
    {
      "cell_type": "code",
      "source": [
        "x_train.shape, x_valid.shape, y_train.shape, y_valid.shape"
      ],
      "metadata": {
        "colab": {
          "base_uri": "https://localhost:8080/"
        },
        "id": "Jf2RWoQ-DuZS",
        "outputId": "7b1ac135-1645-4d42-fd2b-498b0bdcdb61"
      },
      "execution_count": 66,
      "outputs": [
        {
          "output_type": "execute_result",
          "data": {
            "text/plain": [
              "((3760973, 15), (940244, 15), (3760973,), (940244,))"
            ]
          },
          "metadata": {},
          "execution_count": 66
        }
      ]
    },
    {
      "cell_type": "code",
      "source": [
        "from sklearn.preprocessing import StandardScaler\n",
        "from sklearn.model_selection import RandomizedSearchCV\n",
        "from sklearn.metrics import mean_absolute_error\n",
        "from sklearn.metrics import mean_squared_error"
      ],
      "metadata": {
        "id": "faIdrYeWQ2PG"
      },
      "execution_count": 67,
      "outputs": []
    },
    {
      "cell_type": "code",
      "source": [
        "#Feature Scaling\n",
        "sc=StandardScaler()\n",
        "x_train=sc.fit_transform(x_train)\n",
        "x_valid=sc.transform(x_valid)"
      ],
      "metadata": {
        "id": "zgf5ozlGQzcv"
      },
      "execution_count": 68,
      "outputs": []
    },
    {
      "cell_type": "markdown",
      "source": [
        "## lightGbm"
      ],
      "metadata": {
        "id": "VSJomLCV9GFF"
      }
    },
    {
      "cell_type": "code",
      "source": [
        "import lightgbm as lgb\n",
        "from lightgbm.callback import early_stopping"
      ],
      "metadata": {
        "id": "BJF7YuFuTTeF"
      },
      "execution_count": 69,
      "outputs": []
    },
    {
      "cell_type": "code",
      "source": [
        "gbm=lgb.LGBMRegressor( n_estimators=200, learning_rate=0.12, boosting_type='dart', skip_drop=0.7, random_state=42)"
      ],
      "metadata": {
        "id": "jt6rrR5RVuSM"
      },
      "execution_count": 70,
      "outputs": []
    },
    {
      "cell_type": "code",
      "source": [
        "gbm.fit(x_train, y_train)"
      ],
      "metadata": {
        "colab": {
          "base_uri": "https://localhost:8080/"
        },
        "id": "DNHRiEQgDvml",
        "outputId": "04a37e5c-5ba7-4a69-eb43-5848d4217c74"
      },
      "execution_count": 71,
      "outputs": [
        {
          "output_type": "execute_result",
          "data": {
            "text/plain": [
              "LGBMRegressor(boosting_type='dart', learning_rate=0.12, n_estimators=200,\n",
              "              random_state=42, skip_drop=0.7)"
            ]
          },
          "metadata": {},
          "execution_count": 71
        }
      ]
    },
    {
      "cell_type": "code",
      "source": [
        "pred_gbm=gbm.predict(x_valid)\n",
        "print('RMSE : {}'.format(np.sqrt(mean_squared_error(y_valid, pred_gbm))))\n",
        "print('MSE : {}'.format((mean_squared_error(y_valid, pred_gbm))))\n",
        "print('MAE : {}'.format((mean_absolute_error(y_valid, pred_gbm))))\n",
        "\n",
        "#RMSE : 5.976407073661071\n",
        "#MSE : 35.71744151010609\n",
        "#MAE : 4.511445240503673\n",
        "\n",
        "#RMSE : 6.229963558817937\n",
        "#MSE : 38.81244594419946\n",
        "#MAE : 4.749155494313651"
      ],
      "metadata": {
        "colab": {
          "base_uri": "https://localhost:8080/"
        },
        "id": "fV4p0F0uTLLH",
        "outputId": "e3da775f-152a-4bb3-c3f7-3a834ef1b24d"
      },
      "execution_count": 72,
      "outputs": [
        {
          "output_type": "stream",
          "name": "stdout",
          "text": [
            "RMSE : 6.229963558817937\n",
            "MSE : 38.81244594419946\n",
            "MAE : 4.749155494313651\n"
          ]
        }
      ]
    },
    {
      "cell_type": "markdown",
      "source": [
        "##XGBoost + RandomizedSearchCv"
      ],
      "metadata": {
        "id": "eKV96boY9LP1"
      }
    },
    {
      "cell_type": "code",
      "source": [
        "from xgboost import XGBRegressor\n",
        "\n",
        "xgb = XGBRegressor()\n",
        "parameters = {'n_estimaotrs':[100,200], 'max_depth':[2,3]}\n",
        "\n",
        "xgb_best_params = RandomizedSearchCV(xgb, parameters, cv=5)\n",
        "print(xgb_best_params)\n",
        "\n",
        "xgb = XGBRegressor(n_estimators = 200)\n",
        "xgb.fit(x_train, y_train)\n",
        "pred_xgb = xgb.predict(x_valid)\n",
        "\n",
        "print('RMSE : {}'.format(np.sqrt(mean_squared_error(y_valid, pred_xgb))))\n",
        "print('MSE : {}'.format((mean_squared_error(y_valid, pred_xgb))))\n",
        "print('MAE : {}'.format((mean_absolute_error(y_valid, pred_xgb))))\n",
        "\n",
        "#RMSE : 7.080296355768671\n",
        "#MSE : 50.13059648551113\n",
        "#MAE : 5.408026618363676\n",
        "\n",
        "#RMSE : 7.99545433843588\n",
        "#MSE : 63.92729007801314\n",
        "#MAE : 6.174269745582469\n"
      ],
      "metadata": {
        "colab": {
          "base_uri": "https://localhost:8080/"
        },
        "id": "AZLM1Gef9PuS",
        "outputId": "726dfa08-3416-4598-9523-20dbc659d0cb"
      },
      "execution_count": 73,
      "outputs": [
        {
          "output_type": "stream",
          "name": "stdout",
          "text": [
            "RandomizedSearchCV(cv=5, estimator=XGBRegressor(),\n",
            "                   param_distributions={'max_depth': [2, 3],\n",
            "                                        'n_estimaotrs': [100, 200]})\n",
            "[15:33:27] WARNING: /workspace/src/objective/regression_obj.cu:152: reg:linear is now deprecated in favor of reg:squarederror.\n",
            "RMSE : 7.99545433843588\n",
            "MSE : 63.92729007801314\n",
            "MAE : 6.174269745582469\n"
          ]
        }
      ]
    },
    {
      "cell_type": "markdown",
      "source": [
        "#실제 데이터로 모델링 적용"
      ],
      "metadata": {
        "id": "GwHr0xLU_Wr9"
      }
    },
    {
      "cell_type": "code",
      "source": [
        "#Feature Scaling\n",
        "sc=StandardScaler()\n",
        "train_x=sc.fit_transform(train_x)\n",
        "test=sc.transform(test)"
      ],
      "metadata": {
        "id": "DP_-h7yZ-KpH"
      },
      "execution_count": 74,
      "outputs": []
    },
    {
      "cell_type": "markdown",
      "source": [
        "##LightGBM"
      ],
      "metadata": {
        "id": "D3jN0qgN_zOI"
      }
    },
    {
      "cell_type": "code",
      "source": [
        "gbm.fit(train_x, train_y)\n",
        "pred_gbm_f=gbm.predict(test)\n"
      ],
      "metadata": {
        "id": "YSVxDdQP_l6E"
      },
      "execution_count": 75,
      "outputs": []
    },
    {
      "cell_type": "markdown",
      "source": [
        "##XGBoost + RandomizedSearchCv"
      ],
      "metadata": {
        "id": "Hz65WM6d_9ST"
      }
    },
    {
      "cell_type": "code",
      "source": [
        "xgb = XGBRegressor(n_estimators = 200)\n",
        "xgb.fit(train_x, train_y)\n",
        "pred_xgb_f = xgb.predict(test)"
      ],
      "metadata": {
        "colab": {
          "base_uri": "https://localhost:8080/"
        },
        "id": "zWF5MsS7__v_",
        "outputId": "78fca479-d147-4e3c-a470-e17b387c9957"
      },
      "execution_count": 76,
      "outputs": [
        {
          "output_type": "stream",
          "name": "stdout",
          "text": [
            "[15:55:48] WARNING: /workspace/src/objective/regression_obj.cu:152: reg:linear is now deprecated in favor of reg:squarederror.\n",
            "[15:55:48] WARNING: /workspace/src/learner.cc:686: Tree method is automatically selected to be 'approx' for faster speed. To use old behavior (exact greedy algorithm on single machine), set tree_method to 'exact'.\n"
          ]
        }
      ]
    },
    {
      "cell_type": "markdown",
      "source": [
        "#제출"
      ],
      "metadata": {
        "id": "WYTRx9u4AXcM"
      }
    },
    {
      "cell_type": "code",
      "source": [
        "smpl_sub['target']=pred_gbm_f"
      ],
      "metadata": {
        "id": "oH_KMM-7AXNa"
      },
      "execution_count": 80,
      "outputs": []
    },
    {
      "cell_type": "code",
      "source": [
        "smpl_sub"
      ],
      "metadata": {
        "colab": {
          "base_uri": "https://localhost:8080/",
          "height": 423
        },
        "id": "-okfS-pYBKzA",
        "outputId": "74dda8dc-8d98-4daa-9d7e-7cec511d9cbc"
      },
      "execution_count": 81,
      "outputs": [
        {
          "output_type": "execute_result",
          "data": {
            "text/plain": [
              "                 id     target\n",
              "0       TEST_000000  24.576031\n",
              "1       TEST_000001  43.875856\n",
              "2       TEST_000002  57.636700\n",
              "3       TEST_000003  35.175086\n",
              "4       TEST_000004  39.271172\n",
              "...             ...        ...\n",
              "291236  TEST_291236  48.773167\n",
              "291237  TEST_291237  50.595852\n",
              "291238  TEST_291238  19.970846\n",
              "291239  TEST_291239  25.985171\n",
              "291240  TEST_291240  42.169239\n",
              "\n",
              "[291241 rows x 2 columns]"
            ],
            "text/html": [
              "\n",
              "  <div id=\"df-36d69fc1-05ff-4858-92fc-c9a8084118b9\">\n",
              "    <div class=\"colab-df-container\">\n",
              "      <div>\n",
              "<style scoped>\n",
              "    .dataframe tbody tr th:only-of-type {\n",
              "        vertical-align: middle;\n",
              "    }\n",
              "\n",
              "    .dataframe tbody tr th {\n",
              "        vertical-align: top;\n",
              "    }\n",
              "\n",
              "    .dataframe thead th {\n",
              "        text-align: right;\n",
              "    }\n",
              "</style>\n",
              "<table border=\"1\" class=\"dataframe\">\n",
              "  <thead>\n",
              "    <tr style=\"text-align: right;\">\n",
              "      <th></th>\n",
              "      <th>id</th>\n",
              "      <th>target</th>\n",
              "    </tr>\n",
              "  </thead>\n",
              "  <tbody>\n",
              "    <tr>\n",
              "      <th>0</th>\n",
              "      <td>TEST_000000</td>\n",
              "      <td>24.576031</td>\n",
              "    </tr>\n",
              "    <tr>\n",
              "      <th>1</th>\n",
              "      <td>TEST_000001</td>\n",
              "      <td>43.875856</td>\n",
              "    </tr>\n",
              "    <tr>\n",
              "      <th>2</th>\n",
              "      <td>TEST_000002</td>\n",
              "      <td>57.636700</td>\n",
              "    </tr>\n",
              "    <tr>\n",
              "      <th>3</th>\n",
              "      <td>TEST_000003</td>\n",
              "      <td>35.175086</td>\n",
              "    </tr>\n",
              "    <tr>\n",
              "      <th>4</th>\n",
              "      <td>TEST_000004</td>\n",
              "      <td>39.271172</td>\n",
              "    </tr>\n",
              "    <tr>\n",
              "      <th>...</th>\n",
              "      <td>...</td>\n",
              "      <td>...</td>\n",
              "    </tr>\n",
              "    <tr>\n",
              "      <th>291236</th>\n",
              "      <td>TEST_291236</td>\n",
              "      <td>48.773167</td>\n",
              "    </tr>\n",
              "    <tr>\n",
              "      <th>291237</th>\n",
              "      <td>TEST_291237</td>\n",
              "      <td>50.595852</td>\n",
              "    </tr>\n",
              "    <tr>\n",
              "      <th>291238</th>\n",
              "      <td>TEST_291238</td>\n",
              "      <td>19.970846</td>\n",
              "    </tr>\n",
              "    <tr>\n",
              "      <th>291239</th>\n",
              "      <td>TEST_291239</td>\n",
              "      <td>25.985171</td>\n",
              "    </tr>\n",
              "    <tr>\n",
              "      <th>291240</th>\n",
              "      <td>TEST_291240</td>\n",
              "      <td>42.169239</td>\n",
              "    </tr>\n",
              "  </tbody>\n",
              "</table>\n",
              "<p>291241 rows × 2 columns</p>\n",
              "</div>\n",
              "      <button class=\"colab-df-convert\" onclick=\"convertToInteractive('df-36d69fc1-05ff-4858-92fc-c9a8084118b9')\"\n",
              "              title=\"Convert this dataframe to an interactive table.\"\n",
              "              style=\"display:none;\">\n",
              "        \n",
              "  <svg xmlns=\"http://www.w3.org/2000/svg\" height=\"24px\"viewBox=\"0 0 24 24\"\n",
              "       width=\"24px\">\n",
              "    <path d=\"M0 0h24v24H0V0z\" fill=\"none\"/>\n",
              "    <path d=\"M18.56 5.44l.94 2.06.94-2.06 2.06-.94-2.06-.94-.94-2.06-.94 2.06-2.06.94zm-11 1L8.5 8.5l.94-2.06 2.06-.94-2.06-.94L8.5 2.5l-.94 2.06-2.06.94zm10 10l.94 2.06.94-2.06 2.06-.94-2.06-.94-.94-2.06-.94 2.06-2.06.94z\"/><path d=\"M17.41 7.96l-1.37-1.37c-.4-.4-.92-.59-1.43-.59-.52 0-1.04.2-1.43.59L10.3 9.45l-7.72 7.72c-.78.78-.78 2.05 0 2.83L4 21.41c.39.39.9.59 1.41.59.51 0 1.02-.2 1.41-.59l7.78-7.78 2.81-2.81c.8-.78.8-2.07 0-2.86zM5.41 20L4 18.59l7.72-7.72 1.47 1.35L5.41 20z\"/>\n",
              "  </svg>\n",
              "      </button>\n",
              "      \n",
              "  <style>\n",
              "    .colab-df-container {\n",
              "      display:flex;\n",
              "      flex-wrap:wrap;\n",
              "      gap: 12px;\n",
              "    }\n",
              "\n",
              "    .colab-df-convert {\n",
              "      background-color: #E8F0FE;\n",
              "      border: none;\n",
              "      border-radius: 50%;\n",
              "      cursor: pointer;\n",
              "      display: none;\n",
              "      fill: #1967D2;\n",
              "      height: 32px;\n",
              "      padding: 0 0 0 0;\n",
              "      width: 32px;\n",
              "    }\n",
              "\n",
              "    .colab-df-convert:hover {\n",
              "      background-color: #E2EBFA;\n",
              "      box-shadow: 0px 1px 2px rgba(60, 64, 67, 0.3), 0px 1px 3px 1px rgba(60, 64, 67, 0.15);\n",
              "      fill: #174EA6;\n",
              "    }\n",
              "\n",
              "    [theme=dark] .colab-df-convert {\n",
              "      background-color: #3B4455;\n",
              "      fill: #D2E3FC;\n",
              "    }\n",
              "\n",
              "    [theme=dark] .colab-df-convert:hover {\n",
              "      background-color: #434B5C;\n",
              "      box-shadow: 0px 1px 3px 1px rgba(0, 0, 0, 0.15);\n",
              "      filter: drop-shadow(0px 1px 2px rgba(0, 0, 0, 0.3));\n",
              "      fill: #FFFFFF;\n",
              "    }\n",
              "  </style>\n",
              "\n",
              "      <script>\n",
              "        const buttonEl =\n",
              "          document.querySelector('#df-36d69fc1-05ff-4858-92fc-c9a8084118b9 button.colab-df-convert');\n",
              "        buttonEl.style.display =\n",
              "          google.colab.kernel.accessAllowed ? 'block' : 'none';\n",
              "\n",
              "        async function convertToInteractive(key) {\n",
              "          const element = document.querySelector('#df-36d69fc1-05ff-4858-92fc-c9a8084118b9');\n",
              "          const dataTable =\n",
              "            await google.colab.kernel.invokeFunction('convertToInteractive',\n",
              "                                                     [key], {});\n",
              "          if (!dataTable) return;\n",
              "\n",
              "          const docLinkHtml = 'Like what you see? Visit the ' +\n",
              "            '<a target=\"_blank\" href=https://colab.research.google.com/notebooks/data_table.ipynb>data table notebook</a>'\n",
              "            + ' to learn more about interactive tables.';\n",
              "          element.innerHTML = '';\n",
              "          dataTable['output_type'] = 'display_data';\n",
              "          await google.colab.output.renderOutput(dataTable, element);\n",
              "          const docLink = document.createElement('div');\n",
              "          docLink.innerHTML = docLinkHtml;\n",
              "          element.appendChild(docLink);\n",
              "        }\n",
              "      </script>\n",
              "    </div>\n",
              "  </div>\n",
              "  "
            ]
          },
          "metadata": {},
          "execution_count": 81
        }
      ]
    },
    {
      "cell_type": "code",
      "source": [
        "smpl_sub.to_csv('submission.csv', index=False)"
      ],
      "metadata": {
        "id": "nJJKQNt7BMtN"
      },
      "execution_count": 82,
      "outputs": []
    },
    {
      "cell_type": "markdown",
      "source": [
        "#결과"
      ],
      "metadata": {
        "id": "SWKPSqyLg491"
      }
    },
    {
      "cell_type": "markdown",
      "source": [
        "1차 496 \n",
        "\n",
        "\n",
        "2차 'start_longitude','end_longitude' 삭제 후 점수가 안좋아짐.. 이상치가 크게 없는 수치를 삭제해서 그런거같다."
      ],
      "metadata": {
        "id": "rBf8QSubg6Q2"
      }
    },
    {
      "cell_type": "code",
      "source": [],
      "metadata": {
        "id": "2aEecT7yg4xC"
      },
      "execution_count": null,
      "outputs": []
    },
    {
      "cell_type": "markdown",
      "source": [
        "###############\n",
        "http://egloos.zum.com/incredible/v/7479081 가장 쉬운 lightGBM 모델 [분류, 회귀] better accuracy\n"
      ],
      "metadata": {
        "id": "eG07LHKyGS-h"
      }
    },
    {
      "cell_type": "markdown",
      "source": [
        "\n",
        "범주형자료형은 세부적으로 2가지 자료 형태로 또 분류할 수 있는데요.\n",
        "\n",
        "1, 명목형 자료와 / 2. 순서형 자료로 나타낼 수 있습니다.\n",
        "\n",
        "\n",
        "\n",
        "\n",
        "\n",
        "명목형 자료는 자료가 어느 집단에 분류할 떄 사용하는 자료형인데요\n",
        "\n",
        "ex) 성별, 혈액형, 질병여부, 등등 을 (남자는 = 1. 여자는=0 / 감염자는 = 1, 비감염자는 = 0)\n",
        "\n",
        "이런식으로 속성을 숫자로 식별하는 자료형태입니다\n",
        "\n",
        "\n",
        "\n",
        "이러한 명목형 자료형은 남자는 =1 여기서 1이라는 숫자자체가 실제 1이라는 크기를 나타내는 숫자가아닌 단순히 분류를 하기위한 표시형식일 뿐이므로\n",
        "\n",
        "1이라는 크기를 가지면 안되게 됩니다.\n",
        "\n",
        "그렇기 떄문에 0ne-hot 인코딩을 통해 숫자크기는 없이 단순히 속성만 표기하기 위한 라벨링을 진행해주어야 됩니다.\n",
        "\n",
        "\n",
        "\n",
        "반대로 라벨인코더는 순서형자료에 사용하면됩니다.\n",
        "\n",
        "순서형 자료란 서열관계를 관측하는 자료형으로\n",
        "\n",
        "ex) 성적, 학력, 경제수준, 등이있습니다.\n",
        "\n",
        "여기서 순서형 자료는 서열간의 차이가 존재하는 것은 아니지만 순서상의 차이는 존재하기에\n",
        "\n",
        "ex) 초졸 중졸 고졸 대졸 을 1, 2, 3, 4로 표기했을떄 숫자간의 차이는 존재하지 않지만 순서상의 차이는 존재함\n",
        "\n",
        "\n",
        "\n",
        "이떄는 라벨인코더를 사용해서 범주형 자료를 수치형 자료로 변환시켜주시면 됩니다.\n",
        "\n",
        "\n",
        "\n",
        "요약 : 명목형 자료형은 -> 원핫인코딩\n",
        "\n",
        "순서형 자료형은 -> 라벨인코딩"
      ],
      "metadata": {
        "id": "-x-ElwSmGYmK"
      }
    }
  ]
}